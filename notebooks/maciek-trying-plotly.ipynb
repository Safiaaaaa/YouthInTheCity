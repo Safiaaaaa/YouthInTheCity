{
 "cells": [
  {
   "cell_type": "markdown",
   "id": "74f9e1f7",
   "metadata": {},
   "source": [
    "**This is Nicha notebook for Data exploration and MLFlow**"
   ]
  },
  {
   "cell_type": "markdown",
   "id": "f1f5cce3",
   "metadata": {},
   "source": [
    "## I want to try to use plotly for our maps"
   ]
  },
  {
   "cell_type": "markdown",
   "id": "ef011b8f",
   "metadata": {},
   "source": [
    "# Try to use plotly"
   ]
  },
  {
   "cell_type": "code",
   "execution_count": 1,
   "id": "718975d0",
   "metadata": {},
   "outputs": [
    {
     "name": "stderr",
     "output_type": "stream",
     "text": [
      "/home/maciek/.pyenv/versions/3.8.12/envs/school-map-project/lib/python3.8/site-packages/geopandas/_compat.py:112: UserWarning: The Shapely GEOS version (3.10.2-CAPI-1.16.0) is incompatible with the GEOS version PyGEOS was compiled with (3.10.1-CAPI-1.16.0). Conversions between both will be slow.\n",
      "  warnings.warn(\n"
     ]
    }
   ],
   "source": [
    "import pandas as pd\n",
    "import matplotlib.pyplot as plt\n",
    "import geopandas as gdp\n",
    "import plotly.express as px"
   ]
  },
  {
   "cell_type": "code",
   "execution_count": 1,
   "id": "5daa846f",
   "metadata": {},
   "outputs": [],
   "source": [
    "def preparing_data_for_plotly(geodata_source, regular_data_source, geojson_export_path):\n",
    "    geodf = gdp.read_file(geodata_source).to_crs('EPSG:4326')\n",
    "    df = pd.read_csv(regular_data_source, dtype={'': str})\n",
    "    geodf.to_file(geojson_export_path, driver='GeoJSON')\n",
    "    with open(geojson_export_path) as geofile: \n",
    "        j_file = json.load(geofile)\n",
    "    for f in j_file['features']:\n",
    "        f['id'] = int(f['properties']['PLR_ID'])\n",
    "    return df, j_file"
   ]
  },
  {
   "cell_type": "code",
   "execution_count": 2,
   "id": "6727f811",
   "metadata": {},
   "outputs": [],
   "source": [
    "def plot_feature_on_map(df,geojson_file, locations_link, color=None, labels=None):\n",
    "    fig = px.choropleth_mapbox(\n",
    "        data_frame = df,\n",
    "        geojson=geojson_file,\n",
    "        locations=locations_link,\n",
    "        color=color,\n",
    "        color_continuous_scale=\"Viridis\",\n",
    "        range_color=(0, 160),\n",
    "        mapbox_style=\"open-street-map\",\n",
    "        zoom=10,\n",
    "        center={\n",
    "            \"lat\": 52.5,\n",
    "            \"lon\": 13.42\n",
    "        },\n",
    "        opacity=0.5,\n",
    "        labels=labels)\n",
    "    fig.update_layout(margin={\"r\": 0, \"t\": 0, \"l\": 0, \"b\": 0})\n",
    "    fig.show()"
   ]
  },
  {
   "cell_type": "code",
   "execution_count": 2,
   "id": "497697e4",
   "metadata": {},
   "outputs": [],
   "source": [
    "#Import our full final data\n",
    "geodf = gdp.read_file('../raw_data/Maps/pr_2021.shp')"
   ]
  },
  {
   "cell_type": "code",
   "execution_count": 3,
   "id": "d962a833",
   "metadata": {},
   "outputs": [],
   "source": [
    "geodf.drop(columns=['BZR_ID', 'BZR_NAME', 'PGR_ID', 'PGR_NAME', 'BEZ',\n",
    "       'FINHALT', 'STAND'], inplace=True)"
   ]
  },
  {
   "cell_type": "code",
   "execution_count": 19,
   "id": "bf748d90",
   "metadata": {},
   "outputs": [],
   "source": [
    "geodf = geodf.to_crs('EPSG:4326')"
   ]
  },
  {
   "cell_type": "code",
   "execution_count": 5,
   "id": "0b0e87e0",
   "metadata": {},
   "outputs": [],
   "source": [
    "df = pd.read_csv('../raw_data/FeaturesOnMap/all_features_in_plr.csv',dtype={'': str})"
   ]
  },
  {
   "cell_type": "code",
   "execution_count": 6,
   "id": "1201fefa",
   "metadata": {},
   "outputs": [],
   "source": [
    "df.drop(columns=['Unnamed: 0', 'mobility_bikepaths_amount', 'mobility_bike_infraestructure_amount',\n",
    "       'spaces_green_amount', 'spaces_water_amount', 'social_community_amount',\n",
    "       'social_culture_amount', 'social_eating_amount',\n",
    "       'social_night_life_amount', 'activities_economic_amount',\n",
    "       'activities_education_amount', 'activities_health_care_amount',\n",
    "       'activities_public_service_amount'], inplace=True)"
   ]
  },
  {
   "cell_type": "code",
   "execution_count": 21,
   "id": "1799ba99",
   "metadata": {},
   "outputs": [],
   "source": [
    "geodf.to_file('../raw_data/FeaturesOnMap/plr_dropped.geojson', driver='GeoJSON')"
   ]
  },
  {
   "cell_type": "code",
   "execution_count": 22,
   "id": "0d1f2e81",
   "metadata": {},
   "outputs": [],
   "source": [
    "with open('../raw_data/FeaturesOnMap/plr_dropped.geojson') as geofile:\n",
    "    j_file = json.load(geofile)"
   ]
  }
 ],
 "metadata": {
  "kernelspec": {
   "display_name": "Python 3 (ipykernel)",
   "language": "python",
   "name": "python3"
  },
  "language_info": {
   "codemirror_mode": {
    "name": "ipython",
    "version": 3
   },
   "file_extension": ".py",
   "mimetype": "text/x-python",
   "name": "python",
   "nbconvert_exporter": "python",
   "pygments_lexer": "ipython3",
   "version": "3.8.12"
  },
  "toc": {
   "base_numbering": 1,
   "nav_menu": {},
   "number_sections": true,
   "sideBar": true,
   "skip_h1_title": false,
   "title_cell": "Table of Contents",
   "title_sidebar": "Contents",
   "toc_cell": false,
   "toc_position": {},
   "toc_section_display": true,
   "toc_window_display": false
  }
 },
 "nbformat": 4,
 "nbformat_minor": 5
}
