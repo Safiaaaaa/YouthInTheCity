{
 "cells": [
  {
   "cell_type": "code",
   "execution_count": 3,
   "id": "720b4777",
   "metadata": {},
   "outputs": [],
   "source": [
    "import geopandas as gpd"
   ]
  },
  {
   "cell_type": "code",
   "execution_count": 4,
   "id": "3775c490",
   "metadata": {},
   "outputs": [],
   "source": [
    "x = gpd.read_file('../raw_data/Maps/umwelt_and_buildings.shp')"
   ]
  },
  {
   "cell_type": "code",
   "execution_count": null,
   "id": "ce22b4e5",
   "metadata": {},
   "outputs": [],
   "source": [
    "x.plot(fig)"
   ]
  }
 ],
 "metadata": {
  "kernelspec": {
   "display_name": "Python 3 (ipykernel)",
   "language": "python",
   "name": "python3"
  },
  "language_info": {
   "codemirror_mode": {
    "name": "ipython",
    "version": 3
   },
   "file_extension": ".py",
   "mimetype": "text/x-python",
   "name": "python",
   "nbconvert_exporter": "python",
   "pygments_lexer": "ipython3",
   "version": "3.8.12"
  },
  "toc": {
   "base_numbering": 1,
   "nav_menu": {},
   "number_sections": true,
   "sideBar": true,
   "skip_h1_title": false,
   "title_cell": "Table of Contents",
   "title_sidebar": "Contents",
   "toc_cell": false,
   "toc_position": {},
   "toc_section_display": true,
   "toc_window_display": false
  }
 },
 "nbformat": 4,
 "nbformat_minor": 5
}
