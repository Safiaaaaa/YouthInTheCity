{
 "cells": [
  {
   "cell_type": "code",
   "execution_count": 11,
   "id": "d1a886de",
   "metadata": {},
   "outputs": [],
   "source": [
    "import spreg\n",
    "from spreg import OLS\n",
    "from spreg import ML_Error\n",
    "import pysal as ps\n",
    "import libpysal\n",
    "import geopandas as gpd\n",
    "import pandas as pd\n",
    "import numpy as np\n",
    "import matplotlib.pyplot as plt\n",
    "import seaborn as sns\n",
    "from sklearn.preprocessing import robust_scale\n",
    "from sklearn.metrics import mean_absolute_error as mae\n",
    "from sklearn.metrics import mean_squared_error as mse"
   ]
  },
  {
   "cell_type": "code",
   "execution_count": 28,
   "id": "7574947e",
   "metadata": {},
   "outputs": [],
   "source": [
    "db = libpysal.io.open('../raw_data/basic_model_gdf.dbf','r')\n",
    "df = gpd.read_file('../raw_data/basic_model_gdf.shp')"
   ]
  },
  {
   "cell_type": "code",
   "execution_count": 29,
   "id": "fdd2387c",
   "metadata": {},
   "outputs": [
    {
     "data": {
      "text/plain": [
       "Index(['PLR_ID', 'culture', 'outdoor_fa', 'outdoor_le', 'mig_rate', 'ave_rent',\n",
       "       'social_hou', 'public_hou', 'child_pov', 'vegpm20', 'Gymnasium', 'kita',\n",
       "       'stations', 'geometry'],\n",
       "      dtype='object')"
      ]
     },
     "execution_count": 29,
     "metadata": {},
     "output_type": "execute_result"
    }
   ],
   "source": [
    "df.columns"
   ]
  },
  {
   "cell_type": "code",
   "execution_count": 32,
   "id": "f8310dcd",
   "metadata": {},
   "outputs": [],
   "source": [
    "columns = [\n",
    "'culture', 'outdoor_fa', 'outdoor_le', 'mig_rate', 'ave_rent',\n",
    "       'social_hou', 'public_hou', 'vegpm20', 'Gymnasium', 'kita',\n",
    "       'stations'\n",
    "]\n",
    "#regimes = db.by_col(\"label\")"
   ]
  },
  {
   "cell_type": "code",
   "execution_count": 33,
   "id": "1d770ba3",
   "metadata": {},
   "outputs": [],
   "source": [
    "y = np.array(db.by_col('child_pov')).T\n",
    "x_names = columns\n",
    "X = np.array([db.by_col(var) for var in x_names]).T"
   ]
  },
  {
   "cell_type": "code",
   "execution_count": 34,
   "id": "f107c85e",
   "metadata": {},
   "outputs": [],
   "source": [
    "queen = libpysal.weights.Queen.from_dataframe(df)"
   ]
  },
  {
   "cell_type": "code",
   "execution_count": 35,
   "id": "084a453a",
   "metadata": {},
   "outputs": [
    {
     "name": "stderr",
     "output_type": "stream",
     "text": [
      "/Users/Safia/.pyenv/versions/3.8.12/envs/school-map-project/lib/python3.8/site-packages/scipy/sparse/_data.py:117: RuntimeWarning: divide by zero encountered in reciprocal\n",
      "  return self._with_data(data ** n)\n"
     ]
    }
   ],
   "source": [
    "inv_dist = libpysal.weights.DistanceBand.from_dataframe(df, 5000, geom_col='geometry', binary=False)"
   ]
  },
  {
   "cell_type": "code",
   "execution_count": 36,
   "id": "f33160cf",
   "metadata": {},
   "outputs": [],
   "source": [
    "rook = libpysal.weights.Rook.from_dataframe(df)"
   ]
  },
  {
   "cell_type": "code",
   "execution_count": 48,
   "id": "19b791e4",
   "metadata": {},
   "outputs": [],
   "source": [
    "mlerror = ML_Error(y,\n",
    "                   X,\n",
    "                   name_x=columns,\n",
    "                   name_y='child poverty',\n",
    "                   w=inv_dist,\n",
    "                   name_ds='selected_ds',\n",
    "                   name_w='inv_dist')"
   ]
  },
  {
   "cell_type": "code",
   "execution_count": 49,
   "id": "d111e4e0",
   "metadata": {
    "scrolled": false
   },
   "outputs": [
    {
     "name": "stdout",
     "output_type": "stream",
     "text": [
      "REGRESSION\n",
      "----------\n",
      "SUMMARY OF OUTPUT: MAXIMUM LIKELIHOOD SPATIAL ERROR (METHOD = FULL)\n",
      "-------------------------------------------------------------------\n",
      "Data set            : selected_ds\n",
      "Weights matrix      :    inv_dist\n",
      "Dependent Variable  :child poverty                Number of Observations:         536\n",
      "Mean dependent var  :     24.5406                Number of Variables   :          12\n",
      "S.D. dependent var  :     16.6701                Degrees of Freedom    :         524\n",
      "Pseudo R-squared    :      0.5736\n",
      "Sigma-square ML     :      75.945                Log likelihood        :   -1933.542\n",
      "S.E of regression   :       8.715                Akaike info criterion :    3891.083\n",
      "                                                 Schwarz criterion     :    3942.493\n",
      "\n",
      "------------------------------------------------------------------------------------\n",
      "            Variable     Coefficient       Std.Error     z-Statistic     Probability\n",
      "------------------------------------------------------------------------------------\n",
      "            CONSTANT      -6.7900893       5.4630836      -1.2429042       0.2139032\n",
      "             culture      -0.4775578       0.1244817      -3.8363712       0.0001249\n",
      "          outdoor_fa      -0.0090502       0.0044332      -2.0414621       0.0412049\n",
      "          outdoor_le       0.0429513       0.0682279       0.6295267       0.5290043\n",
      "            mig_rate      99.1440939       4.4540436      22.2593452       0.0000000\n",
      "            ave_rent      -0.4184779       0.3205680      -1.3054265       0.1917477\n",
      "          social_hou       0.2655146       0.1109328       2.3934722       0.0166897\n",
      "          public_hou       0.2110566       0.0500176       4.2196451       0.0000245\n",
      "             vegpm20      -0.0059720       0.2343009      -0.0254887       0.9796652\n",
      "           Gymnasium       0.4589139       0.5315455       0.8633578       0.3879408\n",
      "                kita       0.0268020       0.0420670       0.6371262       0.5240427\n",
      "            stations      -0.2739688       0.1150340      -2.3816340       0.0172360\n",
      "              lambda       0.9010519       0.0400450      22.5009730       0.0000000\n",
      "------------------------------------------------------------------------------------\n",
      "================================ END OF REPORT =====================================\n"
     ]
    }
   ],
   "source": [
    "print(mlerror.summary)"
   ]
  },
  {
   "cell_type": "code",
   "execution_count": null,
   "id": "a37c3460",
   "metadata": {},
   "outputs": [],
   "source": []
  }
 ],
 "metadata": {
  "kernelspec": {
   "display_name": "Python 3 (ipykernel)",
   "language": "python",
   "name": "python3"
  },
  "language_info": {
   "codemirror_mode": {
    "name": "ipython",
    "version": 3
   },
   "file_extension": ".py",
   "mimetype": "text/x-python",
   "name": "python",
   "nbconvert_exporter": "python",
   "pygments_lexer": "ipython3",
   "version": "3.8.12"
  },
  "toc": {
   "base_numbering": 1,
   "nav_menu": {},
   "number_sections": true,
   "sideBar": true,
   "skip_h1_title": false,
   "title_cell": "Table of Contents",
   "title_sidebar": "Contents",
   "toc_cell": false,
   "toc_position": {},
   "toc_section_display": true,
   "toc_window_display": false
  }
 },
 "nbformat": 4,
 "nbformat_minor": 5
}
