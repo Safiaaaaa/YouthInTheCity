{
 "cells": [
  {
   "cell_type": "code",
   "execution_count": 3,
   "id": "0c942243",
   "metadata": {},
   "outputs": [],
   "source": [
    "import pandas as pd\n",
    "import geopandas as gp"
   ]
  },
  {
   "cell_type": "markdown",
   "id": "c0605135",
   "metadata": {},
   "source": []
  },
  {
   "cell_type": "code",
   "execution_count": 4,
   "id": "31ceb3dc",
   "metadata": {},
   "outputs": [],
   "source": [
    "gen_data = pd.read_csv('../data/csv_files/EWR202012E_Matrix.csv', sep=';')\n",
    "mig_data = pd.read_csv('../data/csv_files/EWRMIGRA202012E_Matrix.csv', sep=';')"
   ]
  },
  {
   "cell_type": "code",
   "execution_count": 5,
   "id": "55104e73",
   "metadata": {},
   "outputs": [],
   "source": [
    "data = pd.merge(gen_data, mig_data.drop(columns = ['ZEIT', 'BEZ', 'PGR', 'BZR', 'PLR', 'STADTRAUM']), on='RAUMID')"
   ]
  },
  {
   "cell_type": "code",
   "execution_count": 6,
   "id": "3346acb0",
   "metadata": {},
   "outputs": [],
   "source": [
    "def combine_location_data():\n",
    "    bez_str = []\n",
    "    full_data = []\n",
    "    for x in [str(x) for x in data['BEZ']]:\n",
    "        if len(x) == 1:\n",
    "            x = f'0{x}'\n",
    "            bez_str.append(x)\n",
    "        else:\n",
    "            bez_str.append(x)\n",
    "    for i, x in enumerate([str(x) for x in data['PGR']]):\n",
    "        if len(x) == 1:\n",
    "            x = f'0{x}'\n",
    "            full_data.append(f'{bez_str[i]}{x}')\n",
    "        else:\n",
    "            full_data.append(f'{bez_str[i]}{x}')\n",
    "            \n",
    "    return full_data"
   ]
  },
  {
   "cell_type": "code",
   "execution_count": 7,
   "id": "23cd5315",
   "metadata": {},
   "outputs": [],
   "source": [
    "data['schluessel'] = combine_location_data()"
   ]
  },
  {
   "cell_type": "code",
   "execution_count": 8,
   "id": "5684f70f",
   "metadata": {},
   "outputs": [
    {
     "ename": "NameError",
     "evalue": "name 'housing_data' is not defined",
     "output_type": "error",
     "traceback": [
      "\u001b[0;31m---------------------------------------------------------------------------\u001b[0m",
      "\u001b[0;31mNameError\u001b[0m                                 Traceback (most recent call last)",
      "Input \u001b[0;32mIn [8]\u001b[0m, in \u001b[0;36m<cell line: 1>\u001b[0;34m()\u001b[0m\n\u001b[0;32m----> 1\u001b[0m merged_data \u001b[38;5;241m=\u001b[39m pd\u001b[38;5;241m.\u001b[39mmerge(data, \u001b[43mhousing_data\u001b[49m, on\u001b[38;5;241m=\u001b[39m\u001b[38;5;124m'\u001b[39m\u001b[38;5;124mschluessel\u001b[39m\u001b[38;5;124m'\u001b[39m)\n",
      "\u001b[0;31mNameError\u001b[0m: name 'housing_data' is not defined"
     ]
    }
   ],
   "source": [
    "merged_data = pd.merge(data, housing_data, on='schluessel')"
   ]
  },
  {
   "cell_type": "code",
   "execution_count": null,
   "id": "a0fdf4d3",
   "metadata": {},
   "outputs": [],
   "source": [
    "geo_merged_data = gp.GeoDataFrame(merged_data, geometry='geometry')"
   ]
  }
 ],
 "metadata": {
  "kernelspec": {
   "display_name": "Python 3 (ipykernel)",
   "language": "python",
   "name": "python3"
  },
  "language_info": {
   "codemirror_mode": {
    "name": "ipython",
    "version": 3
   },
   "file_extension": ".py",
   "mimetype": "text/x-python",
   "name": "python",
   "nbconvert_exporter": "python",
   "pygments_lexer": "ipython3",
   "version": "3.8.12"
  },
  "toc": {
   "base_numbering": 1,
   "nav_menu": {},
   "number_sections": true,
   "sideBar": true,
   "skip_h1_title": false,
   "title_cell": "Table of Contents",
   "title_sidebar": "Contents",
   "toc_cell": false,
   "toc_position": {},
   "toc_section_display": true,
   "toc_window_display": false
  }
 },
 "nbformat": 4,
 "nbformat_minor": 5
}
