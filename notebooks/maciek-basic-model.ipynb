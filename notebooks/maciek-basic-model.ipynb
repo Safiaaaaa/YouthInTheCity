{
 "cells": [
  {
   "cell_type": "code",
   "execution_count": 1,
   "id": "da015583",
   "metadata": {},
   "outputs": [
    {
     "name": "stderr",
     "output_type": "stream",
     "text": [
      "/home/maciek/.pyenv/versions/3.8.12/envs/school-map-project/lib/python3.8/site-packages/geopandas/_compat.py:112: UserWarning: The Shapely GEOS version (3.10.2-CAPI-1.16.0) is incompatible with the GEOS version PyGEOS was compiled with (3.10.1-CAPI-1.16.0). Conversions between both will be slow.\n",
      "  warnings.warn(\n"
     ]
    }
   ],
   "source": [
    "import spreg\n",
    "from spreg import OLS\n",
    "import pysal as ps\n",
    "import libpysal\n",
    "from pysal.lib import weights\n",
    "import geopandas as gpd\n",
    "import pandas as pd\n",
    "import numpy as np"
   ]
  },
  {
   "cell_type": "code",
   "execution_count": null,
   "id": "df74b743",
   "metadata": {},
   "outputs": [],
   "source": [
    "gdf = gpd.read_file(\"../raw_data/full.shp\")"
   ]
  },
  {
   "cell_type": "code",
   "execution_count": null,
   "id": "5839a16c",
   "metadata": {},
   "outputs": [],
   "source": [
    "gdf.geometry"
   ]
  },
  {
   "cell_type": "code",
   "execution_count": 2,
   "id": "796f8e89",
   "metadata": {},
   "outputs": [],
   "source": [
    "df = pd.read_csv('../raw_data/data_dropped.csv')"
   ]
  },
  {
   "cell_type": "code",
   "execution_count": null,
   "id": "42f5dc03",
   "metadata": {},
   "outputs": [],
   "source": [
    "qw = libpysal.weights.Queen.from_file(\"../raw_data/full.shp\")"
   ]
  },
  {
   "cell_type": "code",
   "execution_count": null,
   "id": "f5d727b7",
   "metadata": {},
   "outputs": [],
   "source": [
    "qw"
   ]
  },
  {
   "cell_type": "code",
   "execution_count": 3,
   "id": "5b7db737",
   "metadata": {},
   "outputs": [
    {
     "data": {
      "text/plain": [
       "(542, 43)"
      ]
     },
     "execution_count": 3,
     "metadata": {},
     "output_type": "execute_result"
    }
   ],
   "source": [
    "df.to_numpy().shape"
   ]
  },
  {
   "cell_type": "code",
   "execution_count": 4,
   "id": "34f06b9e",
   "metadata": {},
   "outputs": [],
   "source": [
    "df.drop(columns=[\n",
    "    'ant_arbeit', 'ant_transf', 'ant_arbe_1', 'ant_tran_1', 'Kinderar_1',\n",
    "    'PLR_ID', 'MH_E', 'geometry', 'aenderung_'\n",
    "],\n",
    "        inplace=True)"
   ]
  },
  {
   "cell_type": "code",
   "execution_count": null,
   "id": "1ab0399b",
   "metadata": {},
   "outputs": [],
   "source": [
    "gdf.drop(columns=[\n",
    "    'ant_arbeit', 'ant_transf', 'ant_arbe_1', 'ant_tran_1', 'Kinderar_1',\n",
    "    'PLR_ID', 'MH_E', 'geometry', 'aenderung_'\n",
    "],\n",
    "        inplace=True)"
   ]
  },
  {
   "cell_type": "code",
   "execution_count": 6,
   "id": "741a6569",
   "metadata": {},
   "outputs": [],
   "source": [
    "y = np.array(df['Kinderarmu'])\n",
    "X = df.drop(columns=['Kinderarmu']).to_numpy()"
   ]
  },
  {
   "cell_type": "code",
   "execution_count": 9,
   "id": "642a3d5d",
   "metadata": {},
   "outputs": [],
   "source": [
    "basic_ols = OLS(y, X, name_y='Kinderarmut', name_ds='basic_model', nonspat_diag=True)"
   ]
  },
  {
   "cell_type": "code",
   "execution_count": 10,
   "id": "10fe0b91",
   "metadata": {},
   "outputs": [
    {
     "name": "stdout",
     "output_type": "stream",
     "text": [
      "REGRESSION\n",
      "----------\n",
      "SUMMARY OF OUTPUT: ORDINARY LEAST SQUARES\n",
      "-----------------------------------------\n",
      "Data set            : basic_model\n",
      "Weights matrix      :        None\n",
      "Dependent Variable  : Kinderarmut                Number of Observations:         542\n",
      "Mean dependent var  :     24.5406                Number of Variables   :          34\n",
      "S.D. dependent var  :     16.5774                Degrees of Freedom    :         508\n",
      "R-squared           :      0.7359\n",
      "Adjusted R-squared  :      0.7187\n",
      "Sum squared residual:   39270.854                F-statistic           :     42.8850\n",
      "Sigma-square        :      77.305                Prob(F-statistic)     :  7.341e-125\n",
      "S.E. of regression  :       8.792                Log likelihood        :   -1929.750\n",
      "Sigma-square ML     :      72.455                Akaike info criterion :    3927.500\n",
      "S.E of regression ML:      8.5121                Schwarz criterion     :    4073.539\n",
      "\n",
      "------------------------------------------------------------------------------------\n",
      "            Variable     Coefficient       Std.Error     t-Statistic     Probability\n",
      "------------------------------------------------------------------------------------\n",
      "            CONSTANT      37.2290242      15.9733759       2.3306923       0.0201601\n",
      "               var_1       0.0073258       0.0047601       1.5389980       0.1244274\n",
      "               var_2      -1.2096735       0.4233808      -2.8571759       0.0044495\n",
      "               var_3       0.1314523       0.1061556       1.2382979       0.2161776\n",
      "               var_4       0.0460108       0.0516254       0.8912438       0.3732203\n",
      "               var_5       0.1254502       0.2413525       0.5197799       0.6034434\n",
      "               var_6      -0.3042289       0.2101325      -1.4477954       0.1482911\n",
      "               var_7      -0.1860169       0.1142999      -1.6274448       0.1042627\n",
      "               var_8       0.0949691       0.0373546       2.5423701       0.0113061\n",
      "               var_9      -1.2795681       0.6356405      -2.0130375       0.0446377\n",
      "              var_10      -0.1006736       0.0857603      -1.1738951       0.2409871\n",
      "              var_11      68.3964615       5.2119690      13.1229601       0.0000000\n",
      "              var_12     195.5455630      91.1614723       2.1450461       0.0324227\n",
      "              var_13       1.0932612       0.5045502       2.1668036       0.0307139\n",
      "              var_14      -0.5536872       0.8486406      -0.6524402       0.5144124\n",
      "              var_15      -0.4463708       0.6447878      -0.6922755       0.4890806\n",
      "              var_16      -0.7618972       0.7889274      -0.9657381       0.3346348\n",
      "              var_17       0.0236237       0.0290833       0.8122763       0.4170136\n",
      "              var_18      -0.1195369       0.1258345      -0.9499538       0.3425875\n",
      "              var_19      -0.5603231       0.3783226      -1.4810725       0.1392072\n",
      "              var_20      -0.2283513       0.2157997      -1.0581632       0.2904839\n",
      "              var_21       0.1306025       0.2560620       0.5100423       0.6102434\n",
      "              var_22      -0.2258347       0.0462855      -4.8791662       0.0000014\n",
      "              var_23       0.5412195       0.1582667       3.4196678       0.0006774\n",
      "              var_24       0.1675673       0.1947809       0.8602862       0.3900371\n",
      "              var_25      -0.1388578       0.1662721      -0.8351240       0.4040405\n",
      "              var_26       0.0088161       0.0716801       0.1229923       0.9021618\n",
      "              var_27       0.0434245       0.1999628       0.2171629       0.8281686\n",
      "              var_28       0.0073070       0.0018812       3.8841495       0.0001163\n",
      "              var_29      -0.0025849       0.0007312      -3.5352076       0.0004447\n",
      "              var_30       0.0022659       0.0009301       2.4363024       0.0151808\n",
      "              var_31      -0.0062968       0.0022208      -2.8354011       0.0047593\n",
      "              var_32      -0.0029921       0.0017444      -1.7152981       0.0869004\n",
      "              var_33      -0.0077355       0.0019591      -3.9484765       0.0000897\n",
      "------------------------------------------------------------------------------------\n",
      "\n",
      "REGRESSION DIAGNOSTICS\n",
      "MULTICOLLINEARITY CONDITION NUMBER          260.350\n",
      "\n",
      "TEST ON NORMALITY OF ERRORS\n",
      "TEST                             DF        VALUE           PROB\n",
      "Jarque-Bera                       2          14.465           0.0007\n",
      "\n",
      "DIAGNOSTICS FOR HETEROSKEDASTICITY\n",
      "RANDOM COEFFICIENTS\n",
      "TEST                             DF        VALUE           PROB\n",
      "Breusch-Pagan test               33          92.137           0.0000\n",
      "Koenker-Bassett test             33          66.762           0.0005\n",
      "================================ END OF REPORT =====================================\n"
     ]
    }
   ],
   "source": [
    "print(basic_ols.summary)"
   ]
  }
 ],
 "metadata": {
  "kernelspec": {
   "display_name": "Python 3 (ipykernel)",
   "language": "python",
   "name": "python3"
  },
  "language_info": {
   "codemirror_mode": {
    "name": "ipython",
    "version": 3
   },
   "file_extension": ".py",
   "mimetype": "text/x-python",
   "name": "python",
   "nbconvert_exporter": "python",
   "pygments_lexer": "ipython3",
   "version": "3.8.12"
  },
  "toc": {
   "base_numbering": 1,
   "nav_menu": {},
   "number_sections": true,
   "sideBar": true,
   "skip_h1_title": false,
   "title_cell": "Table of Contents",
   "title_sidebar": "Contents",
   "toc_cell": false,
   "toc_position": {},
   "toc_section_display": true,
   "toc_window_display": false
  }
 },
 "nbformat": 4,
 "nbformat_minor": 5
}
