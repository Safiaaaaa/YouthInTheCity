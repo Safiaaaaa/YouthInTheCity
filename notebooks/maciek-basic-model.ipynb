{
 "cells": [
  {
   "cell_type": "code",
   "execution_count": 2,
   "id": "da015583",
   "metadata": {},
   "outputs": [],
   "source": [
    "import spreg\n",
    "from spreg import OLS\n",
    "import pysal as psl\n",
    "import geopandas as gpd\n",
    "import pandas as pd\n",
    "import numpy as np"
   ]
  },
  {
   "cell_type": "code",
   "execution_count": 3,
   "id": "796f8e89",
   "metadata": {},
   "outputs": [],
   "source": [
    "df = pd.read_csv('../raw_data/data_dropped.csv')"
   ]
  },
  {
   "cell_type": "code",
   "execution_count": 6,
   "id": "5b7db737",
   "metadata": {},
   "outputs": [
    {
     "data": {
      "text/plain": [
       "(542, 43)"
      ]
     },
     "execution_count": 6,
     "metadata": {},
     "output_type": "execute_result"
    }
   ],
   "source": [
    "df.to_numpy().shape"
   ]
  },
  {
   "cell_type": "code",
   "execution_count": 8,
   "id": "741a6569",
   "metadata": {},
   "outputs": [],
   "source": [
    "y = np.array(df['Kinderarmu'])\n",
    "X = df.drop(columns=['Kinderarmu','geometry']).to_numpy()"
   ]
  },
  {
   "cell_type": "code",
   "execution_count": 11,
   "id": "642a3d5d",
   "metadata": {},
   "outputs": [],
   "source": [
    "basic_ols = OLS(y, X, name_y='Kinderarmut', name_ds='basic_model', white_test=True)"
   ]
  },
  {
   "cell_type": "code",
   "execution_count": 12,
   "id": "10fe0b91",
   "metadata": {},
   "outputs": [
    {
     "name": "stdout",
     "output_type": "stream",
     "text": [
      "REGRESSION\n",
      "----------\n",
      "SUMMARY OF OUTPUT: ORDINARY LEAST SQUARES\n",
      "-----------------------------------------\n",
      "Data set            : basic_model\n",
      "Weights matrix      :        None\n",
      "Dependent Variable  : Kinderarmut                Number of Observations:         542\n",
      "Mean dependent var  :     24.5406                Number of Variables   :          42\n",
      "S.D. dependent var  :     16.5774                Degrees of Freedom    :         500\n",
      "R-squared           :      0.9615\n",
      "Adjusted R-squared  :      0.9584\n",
      "Sum squared residual:    5718.737                F-statistic           :    304.8478\n",
      "Sigma-square        :      11.437                Prob(F-statistic)     :           0\n",
      "S.E. of regression  :       3.382                Log likelihood        :   -1407.605\n",
      "Sigma-square ML     :      10.551                Akaike info criterion :    2899.210\n",
      "S.E of regression ML:      3.2483                Schwarz criterion     :    3079.611\n",
      "\n",
      "------------------------------------------------------------------------------------\n",
      "            Variable     Coefficient       Std.Error     t-Statistic     Probability\n",
      "------------------------------------------------------------------------------------\n",
      "            CONSTANT      22.9909814       6.8897492       3.3369838       0.0009100\n",
      "               var_1       0.0000000       0.0000001       0.5433851       0.5871069\n",
      "               var_2       0.0055647       0.0020840       2.6701407       0.0078288\n",
      "               var_3      -0.0006169       0.0003865      -1.5960129       0.1111177\n",
      "               var_4      -0.4280198       0.1707668      -2.5064582       0.0125111\n",
      "               var_5       0.4897984       0.1345627       3.6399262       0.0003011\n",
      "               var_6      -0.0152131       0.0456928      -0.3329439       0.7393162\n",
      "               var_7       0.0163278       0.0203390       0.8027838       0.4224811\n",
      "               var_8      -0.0820265       0.1083703      -0.7569093       0.4494607\n",
      "               var_9      -0.3013587       0.0895920      -3.3636772       0.0008282\n",
      "              var_10      -0.0138755       0.0447444      -0.3101051       0.7566103\n",
      "              var_11       0.0029970       0.0146886       0.2040366       0.8384079\n",
      "              var_12       0.2509052       0.2508892       1.0000639       0.3177633\n",
      "              var_13      -0.0724723       0.0346032      -2.0943829       0.0367287\n",
      "              var_14       0.3035058       0.2670284       1.1366048       0.2562480\n",
      "              var_15       2.1588351       0.1026069      21.0398726       0.0000000\n",
      "              var_16       0.4105761       0.3459029       1.1869690       0.2358035\n",
      "              var_17      -0.4127382       0.2114436      -1.9520012       0.0514959\n",
      "              var_18       0.1027910       0.0683930       1.5029478       0.1334838\n",
      "              var_19       5.7872446       2.8072738       2.0615177       0.0397700\n",
      "              var_20     -33.9486313      35.4414192      -0.9578801       0.3385861\n",
      "              var_21       0.2731911       0.1984813       1.3764073       0.1693116\n",
      "              var_22      -0.1200192       0.3293837      -0.3643752       0.7157319\n",
      "              var_23       0.3355776       0.2518994       1.3321891       0.1834049\n",
      "              var_24      -0.0540268       0.3117461      -0.1733037       0.8624828\n",
      "              var_25       0.0157900       0.0112244       1.4067647       0.1601184\n",
      "              var_26      -0.0561383       0.0486089      -1.1548977       0.2486840\n",
      "              var_27       0.0000353       0.1469451       0.0002404       0.9998083\n",
      "              var_28      -0.0136670       0.0834647      -0.1637460       0.8699973\n",
      "              var_29       0.0154285       0.0988766       0.1560382       0.8760659\n",
      "              var_30      -0.0423990       0.0182089      -2.3284745       0.0202847\n",
      "              var_31       0.1637422       0.0617186       2.6530434       0.0082307\n",
      "              var_32       0.0736369       0.0754913       0.9754349       0.3298163\n",
      "              var_33       0.0212568       0.0641647       0.3312856       0.7405676\n",
      "              var_34      -0.0098809       0.0281033      -0.3515931       0.7252916\n",
      "              var_35      -0.0759283       0.0772741      -0.9825838       0.3262875\n",
      "              var_36      -0.0077675       0.0008284      -9.3768448       0.0000000\n",
      "              var_37       0.0011318       0.0003112       3.6366024       0.0003049\n",
      "              var_38       0.0026088       0.0003731       6.9927725       0.0000000\n",
      "              var_39      -0.0031165       0.0008808      -3.5383076       0.0004403\n",
      "              var_40       0.0007431       0.0006927       1.0728273       0.2838661\n",
      "              var_41       0.0012008       0.0007971       1.5064707       0.1325779\n",
      "------------------------------------------------------------------------------------\n",
      "\n",
      "REGRESSION DIAGNOSTICS\n",
      "MULTICOLLINEARITY CONDITION NUMBER          319.000\n",
      "\n",
      "TEST ON NORMALITY OF ERRORS\n",
      "TEST                             DF        VALUE           PROB\n",
      "Jarque-Bera                       2          45.648           0.0000\n",
      "\n",
      "DIAGNOSTICS FOR HETEROSKEDASTICITY\n",
      "RANDOM COEFFICIENTS\n",
      "TEST                             DF        VALUE           PROB\n",
      "Breusch-Pagan test               41         235.348           0.0000\n",
      "Koenker-Bassett test             41         139.401           0.0000\n",
      "\n",
      "SPECIFICATION ROBUST TEST\n",
      "Not computed due to multicollinearity.\n",
      "================================ END OF REPORT =====================================\n"
     ]
    }
   ],
   "source": [
    "print(basic_ols.summary)"
   ]
  },
  {
   "cell_type": "code",
   "execution_count": null,
   "id": "50b0360c",
   "metadata": {},
   "outputs": [],
   "source": []
  }
 ],
 "metadata": {
  "kernelspec": {
   "display_name": "Python 3 (ipykernel)",
   "language": "python",
   "name": "python3"
  },
  "language_info": {
   "codemirror_mode": {
    "name": "ipython",
    "version": 3
   },
   "file_extension": ".py",
   "mimetype": "text/x-python",
   "name": "python",
   "nbconvert_exporter": "python",
   "pygments_lexer": "ipython3",
   "version": "3.8.12"
  },
  "toc": {
   "base_numbering": 1,
   "nav_menu": {},
   "number_sections": true,
   "sideBar": true,
   "skip_h1_title": false,
   "title_cell": "Table of Contents",
   "title_sidebar": "Contents",
   "toc_cell": false,
   "toc_position": {},
   "toc_section_display": true,
   "toc_window_display": false
  }
 },
 "nbformat": 4,
 "nbformat_minor": 5
}
