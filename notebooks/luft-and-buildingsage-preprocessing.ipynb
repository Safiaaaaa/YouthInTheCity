{
 "cells": [
  {
   "cell_type": "code",
   "execution_count": 1,
   "id": "0097ce9f",
   "metadata": {},
   "outputs": [
    {
     "name": "stderr",
     "output_type": "stream",
     "text": [
      "/home/maciek/.pyenv/versions/3.8.12/envs/school-map-project/lib/python3.8/site-packages/geopandas/_compat.py:112: UserWarning: The Shapely GEOS version (3.10.2-CAPI-1.16.0) is incompatible with the GEOS version PyGEOS was compiled with (3.10.1-CAPI-1.16.0). Conversions between both will be slow.\n",
      "  warnings.warn(\n"
     ]
    }
   ],
   "source": [
    "import pandas as pd\n",
    "import geopandas as gpd\n",
    "from tobler.area_weighted import area_interpolate\n",
    "import numpy as np"
   ]
  },
  {
   "cell_type": "code",
   "execution_count": 2,
   "id": "02ff4be8",
   "metadata": {},
   "outputs": [],
   "source": [
    "umwelt = gpd.read_file('../raw_data/Maps/umwelt.shp').drop(columns=['plr_name', 'status', 'anz_bel', 'wohnlage'])\n",
    "building_age = gpd.read_file('../raw_data/Maps/building_age.shp')"
   ]
  },
  {
   "cell_type": "code",
   "execution_count": 3,
   "id": "fa71de5e",
   "metadata": {
    "scrolled": true
   },
   "outputs": [],
   "source": [
    "umwelt.laerm = umwelt.laerm.replace(np.nan, umwelt.laerm.mode()[0])\n",
    "umwelt.gruen = umwelt.gruen.replace(np.nan, umwelt.gruen.mode()[0])"
   ]
  },
  {
   "cell_type": "code",
   "execution_count": 4,
   "id": "58d184be",
   "metadata": {},
   "outputs": [],
   "source": [
    "pr2021 = gpd.read_file('../raw_data/Maps/pr_2021.shp')\n",
    "pr2021['Nummer'] = pd.to_numeric(pr2021.PLR_ID)"
   ]
  },
  {
   "cell_type": "code",
   "execution_count": 118,
   "id": "cc6e7f8f",
   "metadata": {},
   "outputs": [],
   "source": [
    "umwelt_sjoined = gpd.sjoin(umwelt, pr2021, how='right').dissolve(by='PLR_ID')."
   ]
  },
  {
   "cell_type": "code",
   "execution_count": 121,
   "id": "cb9d27ec",
   "metadata": {},
   "outputs": [],
   "source": [
    "umwelt_sjoined.reset_index(inplace=True)"
   ]
  },
  {
   "cell_type": "code",
   "execution_count": 13,
   "id": "338da38d",
   "metadata": {},
   "outputs": [],
   "source": [
    "building_age.x2011_2015 = building_age.x2011_2015.replace([np.nan, '1 - 3'], [0,2]).astype(float)"
   ]
  },
  {
   "cell_type": "code",
   "execution_count": 14,
   "id": "83a7b919",
   "metadata": {},
   "outputs": [],
   "source": [
    "sjoined_right = gpd.sjoin(building_age, pr2021, how='right')"
   ]
  },
  {
   "cell_type": "code",
   "execution_count": 16,
   "id": "fdcf85ec",
   "metadata": {},
   "outputs": [],
   "source": [
    "def get_agg_dict():\n",
    "    d = {}\n",
    "    for x in ['PLR_ID', 'BZR_ID', 'PGR_ID']:\n",
    "        d[x] = 'first'\n",
    "    for x in ['x_bis_1900', 'x1901_1910', 'x1911_1920', 'x1921_1930',\n",
    "       'x1931_1940', 'x1941_1950', 'x1951_1960', 'x1961_1970', 'x1971_1980',\n",
    "       'x1981_1990', 'x1991_2000', 'x2001_2010', 'x2011_2015', 'ew2015']:\n",
    "        d[x] = 'sum'\n",
    "    return d"
   ]
  },
  {
   "cell_type": "code",
   "execution_count": 17,
   "id": "ae1c9884",
   "metadata": {},
   "outputs": [],
   "source": [
    "agg_dict = get_agg_dict()"
   ]
  },
  {
   "cell_type": "code",
   "execution_count": 18,
   "id": "54845906",
   "metadata": {},
   "outputs": [],
   "source": [
    "bsjr = sjoined_right.dissolve(by='PLR_ID', aggfunc=agg_dict).reset_index(drop=True)"
   ]
  },
  {
   "cell_type": "code",
   "execution_count": 155,
   "id": "e4916338",
   "metadata": {},
   "outputs": [],
   "source": [
    "merged = bsjr.merge(umwelt_sjoined, on='PLR_ID', how='left')\n",
    "merged.drop(columns=['geometry_y', 'PLR_NAME', 'BZR_ID_y', 'BZR_NAME',\n",
    "       'PGR_ID_y', 'PGR_NAME', 'BEZ', 'FINHALT', 'STAND', 'Nummer'], inplace=True)\n",
    "merged['geometry'] = merged['geometry_x']\n",
    "merged.drop(columns='geometry_x', inplace=True)"
   ]
  },
  {
   "cell_type": "code",
   "execution_count": 161,
   "id": "9ed64de4",
   "metadata": {},
   "outputs": [],
   "source": [
    "merged['laerm'] = merged['laerm'].map({'mittel':1, 'niedrig - sehr niedrig':0, 'hoch': 2, 'sehr hoch': 3})\n",
    "merged['bio'] = merged['bio'].map({'mittel':1, 'gering':0, 'hoch': 2})\n",
    "merged['luft'] = merged['luft'].map({'mittel':1, 'gering':0, 'hoch': 2})\n",
    "merged['gruen'] = merged['gruen'].map({'schlecht, sehr schlecht': 0, 'mittel': 1, 'gut, sehr gut': 2})"
   ]
  },
  {
   "cell_type": "code",
   "execution_count": 170,
   "id": "cd310fc1",
   "metadata": {},
   "outputs": [],
   "source": [
    "gpd.GeoDataFrame(merged).to_file('../raw_data/Maps/umwelt_and_buildings.shp')"
   ]
  }
 ],
 "metadata": {
  "kernelspec": {
   "display_name": "Python 3 (ipykernel)",
   "language": "python",
   "name": "python3"
  },
  "language_info": {
   "codemirror_mode": {
    "name": "ipython",
    "version": 3
   },
   "file_extension": ".py",
   "mimetype": "text/x-python",
   "name": "python",
   "nbconvert_exporter": "python",
   "pygments_lexer": "ipython3",
   "version": "3.8.12"
  },
  "toc": {
   "base_numbering": 1,
   "nav_menu": {},
   "number_sections": true,
   "sideBar": true,
   "skip_h1_title": false,
   "title_cell": "Table of Contents",
   "title_sidebar": "Contents",
   "toc_cell": false,
   "toc_position": {},
   "toc_section_display": true,
   "toc_window_display": false
  }
 },
 "nbformat": 4,
 "nbformat_minor": 5
}
