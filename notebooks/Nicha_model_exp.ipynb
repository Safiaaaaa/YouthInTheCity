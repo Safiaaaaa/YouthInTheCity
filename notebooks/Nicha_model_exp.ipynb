{
 "cells": [
  {
   "cell_type": "markdown",
   "id": "cd4fe685",
   "metadata": {},
   "source": [
    "## Use KNN model"
   ]
  },
  {
   "cell_type": "code",
   "execution_count": 98,
   "id": "80cbba5d",
   "metadata": {},
   "outputs": [],
   "source": [
    "import pandas as pd\n",
    "import numpy as np\n",
    "import matplotlib.pyplot as plt\n",
    "from sklearn.neighbors import KNeighborsRegressor\n",
    "from sklearn.linear_model import SGDRegressor, LinearRegression\n",
    "import seaborn as sns\n",
    "import joblib\n",
    "from termcolor import colored\n",
    "import mlflow\n",
    "from memoized_property import memoized_property\n",
    "from mlflow.tracking import MlflowClient\n",
    "from sklearn.compose import ColumnTransformer\n",
    "from sklearn.linear_model import LinearRegression\n",
    "from sklearn.model_selection import train_test_split, GridSearchCV\n",
    "from sklearn.pipeline import Pipeline\n",
    "from sklearn.preprocessing import RobustScaler\n",
    "from sklearn.impute import KNNImputer\n",
    "from sklearn.metrics import r2_score, mean_squared_error, mean_absolute_error\n",
    "from sklearn.model_selection import cross_val_score"
   ]
  },
  {
   "cell_type": "code",
   "execution_count": 77,
   "id": "6e79dca9",
   "metadata": {
    "collapsed": true
   },
   "outputs": [
    {
     "name": "stdout",
     "output_type": "stream",
     "text": [
      "<class 'pandas.core.frame.DataFrame'>\n",
      "RangeIndex: 536 entries, 0 to 535\n",
      "Data columns (total 13 columns):\n",
      " #   Column      Non-Null Count  Dtype  \n",
      "---  ------      --------------  -----  \n",
      " 0   PLR_ID      536 non-null    int64  \n",
      " 1   culture     536 non-null    float64\n",
      " 2   outdoor_fa  536 non-null    float64\n",
      " 3   outdoor_le  536 non-null    float64\n",
      " 4   mig_rate    536 non-null    float64\n",
      " 5   ave_rent    536 non-null    float64\n",
      " 6   social_hou  536 non-null    float64\n",
      " 7   public_hou  536 non-null    float64\n",
      " 8   child_pov   536 non-null    float64\n",
      " 9   vegpm20     536 non-null    float64\n",
      " 10  secon_sch   536 non-null    float64\n",
      " 11  kita        536 non-null    float64\n",
      " 12  stations    536 non-null    float64\n",
      "dtypes: float64(12), int64(1)\n",
      "memory usage: 54.6 KB\n"
     ]
    }
   ],
   "source": [
    "df = pd.read_csv(\"../YouthInTheCity/data/reduced_df.csv\")\n",
    "df.set_index(\"PLR_ID\")\n",
    "df.info()"
   ]
  },
  {
   "cell_type": "markdown",
   "id": "30ce7fad",
   "metadata": {},
   "source": [
    "## Gridsearch with KNN regressor"
   ]
  },
  {
   "cell_type": "code",
   "execution_count": 91,
   "id": "c1f4b3d6",
   "metadata": {},
   "outputs": [],
   "source": [
    "pipe = Pipeline([\n",
    "    ('scaler', RobustScaler()),\n",
    "    ('model', KNeighborsRegressor())\n",
    "])"
   ]
  },
  {
   "cell_type": "code",
   "execution_count": 92,
   "id": "abe2f50a",
   "metadata": {
    "collapsed": true
   },
   "outputs": [
    {
     "data": {
      "text/plain": [
       "{'memory': None,\n",
       " 'steps': [('scaler', RobustScaler()), ('model', KNeighborsRegressor())],\n",
       " 'verbose': False,\n",
       " 'scaler': RobustScaler(),\n",
       " 'model': KNeighborsRegressor(),\n",
       " 'scaler__copy': True,\n",
       " 'scaler__quantile_range': (25.0, 75.0),\n",
       " 'scaler__unit_variance': False,\n",
       " 'scaler__with_centering': True,\n",
       " 'scaler__with_scaling': True,\n",
       " 'model__algorithm': 'auto',\n",
       " 'model__leaf_size': 30,\n",
       " 'model__metric': 'minkowski',\n",
       " 'model__metric_params': None,\n",
       " 'model__n_jobs': None,\n",
       " 'model__n_neighbors': 5,\n",
       " 'model__p': 2,\n",
       " 'model__weights': 'uniform'}"
      ]
     },
     "execution_count": 92,
     "metadata": {},
     "output_type": "execute_result"
    }
   ],
   "source": [
    "#use get_paraam to find the specific name of the step for grid/pipe\n",
    "pipe.get_params()"
   ]
  },
  {
   "cell_type": "code",
   "execution_count": 104,
   "id": "47082786",
   "metadata": {},
   "outputs": [],
   "source": [
    "# Grid search KNNImputer parameter n_neighbors\n",
    "grid_search = GridSearchCV(\n",
    "    pipe,\n",
    "    param_grid={\n",
    "        'model__algorithm': ['auto', 'ball_tree', 'kd_tree'],\n",
    "        'model__weights': ['uniform', 'distance'],\n",
    "        'model__n_neighbors': [3,4,5,6,7,8,9,10],\n",
    "        'model__n_jobs': [-1]})"
   ]
  },
  {
   "cell_type": "code",
   "execution_count": 109,
   "id": "c737d07f",
   "metadata": {},
   "outputs": [
    {
     "data": {
      "text/plain": [
       "{'model__algorithm': 'auto',\n",
       " 'model__n_jobs': -1,\n",
       " 'model__n_neighbors': 7,\n",
       " 'model__weights': 'distance'}"
      ]
     },
     "execution_count": 109,
     "metadata": {},
     "output_type": "execute_result"
    }
   ],
   "source": [
    "grid_search.fit(X, y)\n",
    "\n",
    "# Cross validate optimal pipeline\n",
    "cv_score_knn = cross_val_score(grid_search.best_estimator_,\n",
    "                X, y,cv=5,\n",
    "                scoring= 'neg_mean_absolute_error').mean()\n",
    "\n",
    "grid_search.best_params_"
   ]
  },
  {
   "cell_type": "code",
   "execution_count": 158,
   "id": "ecfff229",
   "metadata": {},
   "outputs": [],
   "source": [
    "y = df[\"child_pov\"]\n",
    "X = df.drop(columns=[\"child_pov\"])\n",
    "X_train, X_test, y_train, y_test = train_test_split(X, y, test_size=0.3)\n",
    "knn_7 = KNeighborsRegressor(n_jobs=-1, n_neighbors= 7, weights='distance')\n",
    "knn_fit = knn_7.fit(X_train, y_train)"
   ]
  },
  {
   "cell_type": "code",
   "execution_count": 162,
   "id": "1d6eaedf",
   "metadata": {},
   "outputs": [
    {
     "data": {
      "text/plain": [
       "<bound method BaseEstimator.set_params of KNeighborsRegressor(n_jobs=-1, n_neighbors=7, weights='distance')>"
      ]
     },
     "execution_count": 162,
     "metadata": {},
     "output_type": "execute_result"
    }
   ],
   "source": [
    "knn_fit.set_params"
   ]
  },
  {
   "cell_type": "code",
   "execution_count": 155,
   "id": "a6684f68",
   "metadata": {},
   "outputs": [
    {
     "name": "stdout",
     "output_type": "stream",
     "text": [
      "0.5255900652765044 8.792228905140947 144.91997298969778\n"
     ]
    }
   ],
   "source": [
    "y_pred = knn_7.predict(X_test)\n",
    "r_score = r2_score(y_test, y_pred)\n",
    "mean_abs_error = mean_absolute_error(y_test, y_pred)\n",
    "mean_squ_error = mean_squared_error(y_test, y_pred)\n",
    "print(r_score, mean_abs_error, mean_squ_error)"
   ]
  },
  {
   "cell_type": "code",
   "execution_count": 146,
   "id": "3b44fe19",
   "metadata": {},
   "outputs": [
    {
     "data": {
      "text/plain": [
       "0.550502568606335"
      ]
     },
     "execution_count": 146,
     "metadata": {},
     "output_type": "execute_result"
    }
   ],
   "source": [
    "cv_score_knn_r = cross_val_score(grid_search.best_estimator_,\n",
    "                X, y,cv=5,\n",
    "                scoring= 'r2').mean()\n",
    "cv_score_knn_rneg_mean_squared_error"
   ]
  },
  {
   "cell_type": "code",
   "execution_count": 149,
   "id": "4eab8a1d",
   "metadata": {},
   "outputs": [
    {
     "data": {
      "text/plain": [
       "-121.02395878368591"
      ]
     },
     "execution_count": 149,
     "metadata": {},
     "output_type": "execute_result"
    }
   ],
   "source": [
    "cv_score_knn_mse = cross_val_score(grid_search.best_estimator_,\n",
    "                X, y,cv=5,\n",
    "                scoring= 'neg_mean_squared_error').mean()\n",
    "cv_score_knn_mse"
   ]
  },
  {
   "cell_type": "code",
   "execution_count": 110,
   "id": "5b454fd2",
   "metadata": {},
   "outputs": [
    {
     "data": {
      "text/plain": [
       "-8.271982132387375"
      ]
     },
     "execution_count": 110,
     "metadata": {},
     "output_type": "execute_result"
    }
   ],
   "source": [
    "cv_score_knn"
   ]
  },
  {
   "cell_type": "markdown",
   "id": "dc07ad17",
   "metadata": {},
   "source": [
    "## Gridsearch with SGDRegessor"
   ]
  },
  {
   "cell_type": "code",
   "execution_count": 111,
   "id": "369e90f9",
   "metadata": {},
   "outputs": [],
   "source": [
    "pipe_sgd = Pipeline([\n",
    "    ('scaler', RobustScaler()),\n",
    "    ('model', SGDRegressor())\n",
    "])"
   ]
  },
  {
   "cell_type": "code",
   "execution_count": 112,
   "id": "fa29103f",
   "metadata": {
    "collapsed": true
   },
   "outputs": [
    {
     "data": {
      "text/plain": [
       "{'memory': None,\n",
       " 'steps': [('scaler', RobustScaler()), ('model', SGDRegressor())],\n",
       " 'verbose': False,\n",
       " 'scaler': RobustScaler(),\n",
       " 'model': SGDRegressor(),\n",
       " 'scaler__copy': True,\n",
       " 'scaler__quantile_range': (25.0, 75.0),\n",
       " 'scaler__unit_variance': False,\n",
       " 'scaler__with_centering': True,\n",
       " 'scaler__with_scaling': True,\n",
       " 'model__alpha': 0.0001,\n",
       " 'model__average': False,\n",
       " 'model__early_stopping': False,\n",
       " 'model__epsilon': 0.1,\n",
       " 'model__eta0': 0.01,\n",
       " 'model__fit_intercept': True,\n",
       " 'model__l1_ratio': 0.15,\n",
       " 'model__learning_rate': 'invscaling',\n",
       " 'model__loss': 'squared_error',\n",
       " 'model__max_iter': 1000,\n",
       " 'model__n_iter_no_change': 5,\n",
       " 'model__penalty': 'l2',\n",
       " 'model__power_t': 0.25,\n",
       " 'model__random_state': None,\n",
       " 'model__shuffle': True,\n",
       " 'model__tol': 0.001,\n",
       " 'model__validation_fraction': 0.1,\n",
       " 'model__verbose': 0,\n",
       " 'model__warm_start': False}"
      ]
     },
     "execution_count": 112,
     "metadata": {},
     "output_type": "execute_result"
    }
   ],
   "source": [
    "pipe_sgd.get_params()"
   ]
  },
  {
   "cell_type": "code",
   "execution_count": 114,
   "id": "97abb3ea",
   "metadata": {},
   "outputs": [
    {
     "data": {
      "text/plain": [
       "-8.022795257341425"
      ]
     },
     "execution_count": 114,
     "metadata": {},
     "output_type": "execute_result"
    }
   ],
   "source": [
    "# Grid search KNNImputer parameter n_neighbors\n",
    "grid_search_sgd = GridSearchCV(\n",
    "    pipe_sgd,\n",
    "    param_grid={\n",
    "        'model__penalty': ['l2', 'l1','elasticnet'],\n",
    "        'model__alpha': [0.001, 0.0001, 0.00001],\n",
    "        'model__learning_rate': ['invscaling','constant','optimal','adaptive'],\n",
    "        })\n",
    "grid_search_sgd.fit(X, y)\n",
    "\n",
    "# Cross validate optimal pipeline\n",
    "cv_score_sgd = cross_val_score(grid_search_sgd.best_estimator_,\n",
    "                X, y,cv=5,\n",
    "                scoring= 'neg_mean_absolute_error').mean()\n",
    "cv_score_sgd"
   ]
  },
  {
   "cell_type": "code",
   "execution_count": 145,
   "id": "083cf19c",
   "metadata": {},
   "outputs": [
    {
     "data": {
      "text/plain": [
       "0.61297894950106"
      ]
     },
     "execution_count": 145,
     "metadata": {},
     "output_type": "execute_result"
    }
   ],
   "source": [
    "# Cross validate optimal pipeline\n",
    "cv_score_sgd_r = cross_val_score(grid_search_sgd.best_estimator_,\n",
    "                X, y,cv=5,\n",
    "                scoring= 'r2').mean()\n",
    "cv_score_sgd_r"
   ]
  },
  {
   "cell_type": "code",
   "execution_count": 150,
   "id": "c1439a75",
   "metadata": {},
   "outputs": [
    {
     "data": {
      "text/plain": [
       "-103.48374414786306"
      ]
     },
     "execution_count": 150,
     "metadata": {},
     "output_type": "execute_result"
    }
   ],
   "source": [
    "cv_score_sgd_mse = cross_val_score(grid_search_sgd.best_estimator_,\n",
    "                X, y,cv=5,\n",
    "                scoring= 'neg_mean_squared_error').mean()\n",
    "cv_score_sgd_mse"
   ]
  },
  {
   "cell_type": "code",
   "execution_count": 117,
   "id": "dcc8ea65",
   "metadata": {},
   "outputs": [
    {
     "data": {
      "text/plain": [
       "{'model__alpha': 0.0001,\n",
       " 'model__learning_rate': 'invscaling',\n",
       " 'model__penalty': 'l2'}"
      ]
     },
     "execution_count": 117,
     "metadata": {},
     "output_type": "execute_result"
    }
   ],
   "source": [
    "grid_search_sgd.best_params_"
   ]
  },
  {
   "cell_type": "markdown",
   "id": "57429471",
   "metadata": {},
   "source": [
    "## Gridsearch with Linear model"
   ]
  },
  {
   "cell_type": "code",
   "execution_count": 120,
   "id": "1758b327",
   "metadata": {},
   "outputs": [],
   "source": [
    "pipe_linear = Pipeline([\n",
    "    ('scaler', RobustScaler()),\n",
    "    ('model', LinearRegression())\n",
    "])"
   ]
  },
  {
   "cell_type": "code",
   "execution_count": 122,
   "id": "90e19fa6",
   "metadata": {
    "collapsed": true
   },
   "outputs": [
    {
     "data": {
      "text/plain": [
       "{'memory': None,\n",
       " 'steps': [('scaler', RobustScaler()), ('model', LinearRegression())],\n",
       " 'verbose': False,\n",
       " 'scaler': RobustScaler(),\n",
       " 'model': LinearRegression(),\n",
       " 'scaler__copy': True,\n",
       " 'scaler__quantile_range': (25.0, 75.0),\n",
       " 'scaler__unit_variance': False,\n",
       " 'scaler__with_centering': True,\n",
       " 'scaler__with_scaling': True,\n",
       " 'model__copy_X': True,\n",
       " 'model__fit_intercept': True,\n",
       " 'model__n_jobs': None,\n",
       " 'model__normalize': 'deprecated',\n",
       " 'model__positive': False}"
      ]
     },
     "execution_count": 122,
     "metadata": {},
     "output_type": "execute_result"
    }
   ],
   "source": [
    "pipe_linear.get_params()"
   ]
  },
  {
   "cell_type": "code",
   "execution_count": 124,
   "id": "921e0789",
   "metadata": {},
   "outputs": [
    {
     "data": {
      "text/plain": [
       "-8.017459153093736"
      ]
     },
     "execution_count": 124,
     "metadata": {},
     "output_type": "execute_result"
    }
   ],
   "source": [
    "# Grid search KNNImputer parameter n_neighbors\n",
    "grid_search_linear = GridSearchCV(\n",
    "    pipe_linear,\n",
    "    param_grid={\n",
    "        'model__fit_intercept': [True, False],\n",
    "        'model__n_jobs':[ -1]})\n",
    "grid_search_linear.fit(X, y)\n",
    "\n",
    "# Cross validate optimal pipeline\n",
    "cv_score_linear = cross_val_score(grid_search_linear.best_estimator_,\n",
    "                X, y,cv=5,\n",
    "                scoring= 'neg_mean_absolute_error').mean()\n",
    "cv_score_linear"
   ]
  },
  {
   "cell_type": "code",
   "execution_count": 147,
   "id": "d9d901b8",
   "metadata": {},
   "outputs": [
    {
     "data": {
      "text/plain": [
       "0.6125325646608202"
      ]
     },
     "execution_count": 147,
     "metadata": {},
     "output_type": "execute_result"
    }
   ],
   "source": [
    "cv_score_linear_r = cross_val_score(grid_search_linear.best_estimator_,\n",
    "                X, y,cv=5,\n",
    "                scoring= 'r2').mean()\n",
    "cv_score_linear_r"
   ]
  },
  {
   "cell_type": "code",
   "execution_count": 151,
   "id": "c3577cda",
   "metadata": {},
   "outputs": [
    {
     "data": {
      "text/plain": [
       "-103.52230810783074"
      ]
     },
     "execution_count": 151,
     "metadata": {},
     "output_type": "execute_result"
    }
   ],
   "source": [
    "cv_score_linear_mse = cross_val_score(grid_search_linear.best_estimator_,\n",
    "                X, y,cv=5,\n",
    "                scoring= 'neg_mean_squared_error').mean()\n",
    "cv_score_linear_mse"
   ]
  },
  {
   "cell_type": "code",
   "execution_count": 125,
   "id": "66aa7845",
   "metadata": {},
   "outputs": [
    {
     "data": {
      "text/plain": [
       "{'model__fit_intercept': True, 'model__n_jobs': -1}"
      ]
     },
     "execution_count": 125,
     "metadata": {},
     "output_type": "execute_result"
    }
   ],
   "source": [
    "grid_search_linear.best_params_"
   ]
  },
  {
   "cell_type": "code",
   "execution_count": 142,
   "id": "b4441a78",
   "metadata": {},
   "outputs": [],
   "source": [
    "neg_mean = {\"Linear model\":cv_score_linear, \n",
    "            \"KNNRegressor\": cv_score_knn,\n",
    "           \"SGDRegressor\":cv_score_sgd}\n",
    "neg_mean_error = pd.DataFrame(data = neg_mean, index=[0]).T\n",
    "neg_mean_error.rename(columns={0:\"neg_mean_absolute_error\"}, inplace=True)"
   ]
  },
  {
   "cell_type": "code",
   "execution_count": 148,
   "id": "1b2f6e55",
   "metadata": {},
   "outputs": [
    {
     "data": {
      "text/html": [
       "<div>\n",
       "<style scoped>\n",
       "    .dataframe tbody tr th:only-of-type {\n",
       "        vertical-align: middle;\n",
       "    }\n",
       "\n",
       "    .dataframe tbody tr th {\n",
       "        vertical-align: top;\n",
       "    }\n",
       "\n",
       "    .dataframe thead th {\n",
       "        text-align: right;\n",
       "    }\n",
       "</style>\n",
       "<table border=\"1\" class=\"dataframe\">\n",
       "  <thead>\n",
       "    <tr style=\"text-align: right;\">\n",
       "      <th></th>\n",
       "      <th>neg_mean_absolute_error</th>\n",
       "      <th>r2_score</th>\n",
       "    </tr>\n",
       "  </thead>\n",
       "  <tbody>\n",
       "    <tr>\n",
       "      <th>Linear model</th>\n",
       "      <td>-8.017459</td>\n",
       "      <td>0.612533</td>\n",
       "    </tr>\n",
       "    <tr>\n",
       "      <th>KNNRegressor</th>\n",
       "      <td>-8.271982</td>\n",
       "      <td>0.550503</td>\n",
       "    </tr>\n",
       "    <tr>\n",
       "      <th>SGDRegressor</th>\n",
       "      <td>-8.022795</td>\n",
       "      <td>0.612979</td>\n",
       "    </tr>\n",
       "  </tbody>\n",
       "</table>\n",
       "</div>"
      ],
      "text/plain": [
       "              neg_mean_absolute_error  r2_score\n",
       "Linear model                -8.017459  0.612533\n",
       "KNNRegressor                -8.271982  0.550503\n",
       "SGDRegressor                -8.022795  0.612979"
      ]
     },
     "execution_count": 148,
     "metadata": {},
     "output_type": "execute_result"
    }
   ],
   "source": [
    "neg_mean_error[\"r2_score\"] = [cv_score_linear_r, cv_score_knn_r, cv_score_sgd_r]\n",
    "neg_mean_error"
   ]
  },
  {
   "cell_type": "code",
   "execution_count": 152,
   "id": "503520b8",
   "metadata": {},
   "outputs": [
    {
     "data": {
      "text/html": [
       "<div>\n",
       "<style scoped>\n",
       "    .dataframe tbody tr th:only-of-type {\n",
       "        vertical-align: middle;\n",
       "    }\n",
       "\n",
       "    .dataframe tbody tr th {\n",
       "        vertical-align: top;\n",
       "    }\n",
       "\n",
       "    .dataframe thead th {\n",
       "        text-align: right;\n",
       "    }\n",
       "</style>\n",
       "<table border=\"1\" class=\"dataframe\">\n",
       "  <thead>\n",
       "    <tr style=\"text-align: right;\">\n",
       "      <th></th>\n",
       "      <th>neg_mean_absolute_error</th>\n",
       "      <th>r2_score</th>\n",
       "      <th>mse</th>\n",
       "    </tr>\n",
       "  </thead>\n",
       "  <tbody>\n",
       "    <tr>\n",
       "      <th>Linear model</th>\n",
       "      <td>-8.017459</td>\n",
       "      <td>0.612533</td>\n",
       "      <td>-103.522308</td>\n",
       "    </tr>\n",
       "    <tr>\n",
       "      <th>KNNRegressor</th>\n",
       "      <td>-8.271982</td>\n",
       "      <td>0.550503</td>\n",
       "      <td>-121.023959</td>\n",
       "    </tr>\n",
       "    <tr>\n",
       "      <th>SGDRegressor</th>\n",
       "      <td>-8.022795</td>\n",
       "      <td>0.612979</td>\n",
       "      <td>-103.483744</td>\n",
       "    </tr>\n",
       "  </tbody>\n",
       "</table>\n",
       "</div>"
      ],
      "text/plain": [
       "              neg_mean_absolute_error  r2_score         mse\n",
       "Linear model                -8.017459  0.612533 -103.522308\n",
       "KNNRegressor                -8.271982  0.550503 -121.023959\n",
       "SGDRegressor                -8.022795  0.612979 -103.483744"
      ]
     },
     "execution_count": 152,
     "metadata": {},
     "output_type": "execute_result"
    }
   ],
   "source": [
    "neg_mean_error[\"mse\"] = [cv_score_linear_mse, cv_score_knn_mse, cv_score_sgd_mse]\n",
    "neg_mean_error"
   ]
  },
  {
   "cell_type": "code",
   "execution_count": 86,
   "id": "d6576b41",
   "metadata": {},
   "outputs": [
    {
     "ename": "TypeError",
     "evalue": "__init__() got an unexpected keyword argument 'axis'",
     "output_type": "error",
     "traceback": [
      "\u001b[0;31m---------------------------------------------------------------------------\u001b[0m",
      "\u001b[0;31mTypeError\u001b[0m                                 Traceback (most recent call last)",
      "Input \u001b[0;32mIn [86]\u001b[0m, in \u001b[0;36m<cell line: 3>\u001b[0;34m()\u001b[0m\n\u001b[1;32m     18\u001b[0m     mean_abs_error \u001b[38;5;241m=\u001b[39m mean_absolute_error(y_test, y_pred)\n\u001b[1;32m     19\u001b[0m     mean_squ_error \u001b[38;5;241m=\u001b[39m mean_squared_error(y_test, y_pred)\n\u001b[0;32m---> 20\u001b[0m     metrics_df \u001b[38;5;241m=\u001b[39m \u001b[43mpd\u001b[49m\u001b[38;5;241;43m.\u001b[39;49m\u001b[43mDataFrame\u001b[49m\u001b[43m(\u001b[49m\u001b[43mdata\u001b[49m\u001b[43m \u001b[49m\u001b[38;5;241;43m=\u001b[39;49m\u001b[43m \u001b[49m\u001b[43m[\u001b[49m\u001b[43mmean_abs_error\u001b[49m\u001b[43m,\u001b[49m\u001b[43m \u001b[49m\u001b[43mmean_squ_error\u001b[49m\u001b[43m,\u001b[49m\u001b[43m \u001b[49m\u001b[43mr_score\u001b[49m\u001b[43m]\u001b[49m\u001b[43m,\u001b[49m\u001b[43m \u001b[49m\u001b[43maxis\u001b[49m\u001b[38;5;241;43m=\u001b[39;49m\u001b[38;5;241;43m1\u001b[39;49m\u001b[43m)\u001b[49m\n\u001b[1;32m     21\u001b[0m metrics_df\n",
      "\u001b[0;31mTypeError\u001b[0m: __init__() got an unexpected keyword argument 'axis'"
     ]
    }
   ],
   "source": [
    "models = [LinearRegression(), KNeighborsRegressor(), SGDRegressor()]\n",
    "metrics_df = pd.DataFrame(columns = [\"mean_abs_error\", \"mean_squ_error\", \"r_score\"])\n",
    "for model in models:\n",
    "    preproc_pipe = Pipeline([\n",
    "            ('knnimputer', KNNImputer(missing_values= np.nan)),\n",
    "            ('robustscaler', RobustScaler())\n",
    "        ])\n",
    "    pipeline = Pipeline([\n",
    "            ('preproc', preproc_pipe),\n",
    "            ('model', model)\n",
    "        ])\n",
    "    y = df[\"child_pov\"]\n",
    "    X = df.drop(columns=[\"child_pov\"])\n",
    "    X_train, X_test, y_train, y_test = train_test_split(X, y, test_size=0.3)\n",
    "    pipeline.fit(X_train, y_train)\n",
    "    y_pred = pipeline.predict(X_test)\n",
    "    r_score = r2_score(y_test, y_pred)\n",
    "    mean_abs_error = mean_absolute_error(y_test, y_pred)\n",
    "    mean_squ_error = mean_squared_error(y_test, y_pred)\n",
    "    metrics_df = pd.DataFrame(data = [mean_abs_error, mean_squ_error, r_score], axis=1)\n",
    "metrics_df"
   ]
  },
  {
   "cell_type": "code",
   "execution_count": 85,
   "id": "8574ccb9",
   "metadata": {},
   "outputs": [
    {
     "data": {
      "text/html": [
       "<div>\n",
       "<style scoped>\n",
       "    .dataframe tbody tr th:only-of-type {\n",
       "        vertical-align: middle;\n",
       "    }\n",
       "\n",
       "    .dataframe tbody tr th {\n",
       "        vertical-align: top;\n",
       "    }\n",
       "\n",
       "    .dataframe thead th {\n",
       "        text-align: right;\n",
       "    }\n",
       "</style>\n",
       "<table border=\"1\" class=\"dataframe\">\n",
       "  <thead>\n",
       "    <tr style=\"text-align: right;\">\n",
       "      <th></th>\n",
       "      <th>mean_abs_error</th>\n",
       "      <th>mean_squ_error</th>\n",
       "      <th>r_score</th>\n",
       "    </tr>\n",
       "  </thead>\n",
       "  <tbody>\n",
       "  </tbody>\n",
       "</table>\n",
       "</div>"
      ],
      "text/plain": [
       "Empty DataFrame\n",
       "Columns: [mean_abs_error, mean_squ_error, r_score]\n",
       "Index: []"
      ]
     },
     "execution_count": 85,
     "metadata": {},
     "output_type": "execute_result"
    }
   ],
   "source": [
    "metrics_dft = pd.DataFrame(columns = [\"mean_abs_error\", \"mean_squ_error\", \"r_score\"])\n",
    "metrics_dft"
   ]
  },
  {
   "cell_type": "code",
   "execution_count": 13,
   "id": "9ab5fa78",
   "metadata": {},
   "outputs": [],
   "source": [
    "EXPERIMENT_NAME = \"non-spatial_regression\"\n",
    "yourname = \"Batch_874_Batch_874_Youth_in_the_city\"\n",
    "MLFLOW_URI = \"https://mlflow.lewagon.ai/\"\n",
    "class Trainer(object):\n",
    "    def __init__(self, X, y):\n",
    "        \"\"\"\n",
    "            X: pandas DataFrame --> drop the \"geometry and the \"Kinderarmut\"\n",
    "            y: pandas Series --> \"Kinderarmut\"\n",
    "        \"\"\"\n",
    "        self.pipeline = None\n",
    "        self.X = X\n",
    "        self.y = y\n",
    "        # for MLFlow\n",
    "        self.experiment_name = EXPERIMENT_NAME\n",
    "\n",
    "    def set_experiment_name(self, experiment_name):\n",
    "        '''defines the experiment name for MLFlow'''\n",
    "        self.experiment_name = experiment_name\n",
    "\n",
    "    def set_pipeline(self):\n",
    "        \"\"\"defines the pipeline as a class attribute\"\"\"\n",
    "        preproc_pipe = Pipeline([\n",
    "            ('knnimputer', KNNImputer(missing_values= np.nan)),\n",
    "            ('robustscaler', RobustScaler())\n",
    "        ])\n",
    "        self.pipeline = Pipeline([\n",
    "            ('preproc', preproc_pipe),\n",
    "            ('linear_model', LinearRegression())\n",
    "        ])\n",
    "\n",
    "    def run(self):\n",
    "        self.set_pipeline()\n",
    "        self.mlflow_log_param(\"model\", \"Linear\")\n",
    "        self.pipeline.fit(self.X, self.y)\n",
    "\n",
    "    def evaluate(self, X_test, y_test):\n",
    "        \"\"\"evaluates the pipeline on df_test and return the r2 score\"\"\"\n",
    "        y_pred = self.pipeline.predict(X_test)\n",
    "        r_score = r2_score(y_test, y_pred)\n",
    "        mean_abs_error = mean_absolute_error(y_test, y_pred)\n",
    "        mean_squ_error = mean_squared_error(y_test, y_pred)\n",
    "        self.mlflow_log_metric(\"mean_abs_error\", mean_abs_error)\n",
    "        metrics_df = pd.DataFrame(data = [mean_abs_error, mean_squ_error, r_score])\n",
    "        return metrics_df\n",
    "\n",
    "    def save_model_locally(self):\n",
    "        \"\"\"Save the model into a .joblib format\"\"\"\n",
    "        joblib.dump(self.pipeline, 'model.joblib')\n",
    "        print(colored(\"model.joblib saved locally\", \"green\"))\n",
    "\n",
    "    # MLFlow methods\n",
    "    @memoized_property\n",
    "    def mlflow_client(self):\n",
    "        mlflow.set_tracking_uri(MLFLOW_URI)\n",
    "        return MlflowClient()\n",
    "\n",
    "    @memoized_property\n",
    "    def mlflow_experiment_id(self):\n",
    "        try:\n",
    "            return self.mlflow_client.create_experiment(self.experiment_name)\n",
    "        except BaseException:\n",
    "            return self.mlflow_client.get_experiment_by_name(\n",
    "                self.experiment_name).experiment_id\n",
    "\n",
    "    @memoized_property\n",
    "    def mlflow_run(self):\n",
    "        return self.mlflow_client.create_run(self.mlflow_experiment_id)\n",
    "\n",
    "    def mlflow_log_param(self, key, value):\n",
    "        self.mlflow_client.log_param(self.mlflow_run.info.run_id, key, value)\n",
    "\n",
    "    def mlflow_log_metric(self, key, value):\n",
    "        self.mlflow_client.log_metric(self.mlflow_run.info.run_id, key, value)"
   ]
  },
  {
   "cell_type": "code",
   "execution_count": 54,
   "id": "0bd20667",
   "metadata": {
    "scrolled": true
   },
   "outputs": [
    {
     "name": "stdout",
     "output_type": "stream",
     "text": [
      "           0\n",
      "0   7.128310\n",
      "1  82.027018\n",
      "2   0.684207\n",
      "\u001b[32mmodel.joblib saved locally\u001b[0m\n"
     ]
    }
   ],
   "source": [
    "y = df[\"child_pov\"]\n",
    "X = df.drop(columns=[\"child_pov\"])\n",
    "X_train, X_test, y_train, y_test = train_test_split(X, y, test_size=0.3)\n",
    "# Train and save model, locally and\n",
    "trainer = Trainer(X=X_train, y=y_train)\n",
    "trainer.set_experiment_name('linear')\n",
    "trainer.run()\n",
    "linear = trainer.evaluate(X_test, y_test)\n",
    "print(linear)\n",
    "trainer.save_model_locally()"
   ]
  },
  {
   "cell_type": "code",
   "execution_count": 15,
   "id": "b59ef139",
   "metadata": {},
   "outputs": [],
   "source": [
    "EXPERIMENT_NAME = \"non-spatial_regression\"\n",
    "yourname = \"Batch_874_Batch_874_Youth_in_the_city\"\n",
    "MLFLOW_URI = \"https://mlflow.lewagon.ai/\"\n",
    "class Trainer_KNN(object):\n",
    "    def __init__(self, X, y):\n",
    "        \"\"\"\n",
    "            X: pandas DataFrame --> drop the \"geometry and the \"Kinderarmut\"\n",
    "            y: pandas Series --> \"Kinderarmut\"\n",
    "        \"\"\"\n",
    "        self.pipeline = None\n",
    "        self.X = X\n",
    "        self.y = y\n",
    "        # for MLFlow\n",
    "        self.experiment_name = EXPERIMENT_NAME\n",
    "\n",
    "    def set_experiment_name(self, experiment_name):\n",
    "        '''defines the experiment name for MLFlow'''\n",
    "        self.experiment_name = experiment_name\n",
    "\n",
    "    def set_pipeline(self):\n",
    "        \"\"\"defines the pipeline as a class attribute\"\"\"\n",
    "        preproc_pipe = Pipeline([\n",
    "            ('knnimputer', KNNImputer(missing_values= np.nan)),\n",
    "            ('robustscaler', RobustScaler())\n",
    "        ])\n",
    "        self.pipeline = Pipeline([\n",
    "            ('preproc', preproc_pipe),\n",
    "            ('KNN_model', KNeighborsRegressor())\n",
    "        ])\n",
    "\n",
    "    def run(self):\n",
    "        self.set_pipeline()\n",
    "        self.mlflow_log_param(\"model\", \"Linear\")\n",
    "        self.pipeline.fit(self.X, self.y)\n",
    "\n",
    "    def evaluate(self, X_test, y_test):\n",
    "        \"\"\"evaluates the pipeline on df_test and return the r2 score\"\"\"\n",
    "        y_pred = self.pipeline.predict(X_test)\n",
    "        r_score = r2_score(y_test, y_pred)\n",
    "        mean_abs_error = mean_absolute_error(y_test, y_pred)\n",
    "        mean_squ_error = mean_squared_error(y_test, y_pred)\n",
    "        self.mlflow_log_metric(\"mean_abs_error\", mean_abs_error)\n",
    "        metrics_df = pd.DataFrame(data = [mean_abs_error, mean_squ_error, r_score])\n",
    "        return metrics_df\n",
    "\n",
    "    def save_model_locally(self):\n",
    "        \"\"\"Save the model into a .joblib format\"\"\"\n",
    "        joblib.dump(self.pipeline, 'model.joblib')\n",
    "        print(colored(\"model.joblib saved locally\", \"green\"))\n",
    "\n",
    "    # MLFlow methods\n",
    "    @memoized_property\n",
    "    def mlflow_client(self):\n",
    "        mlflow.set_tracking_uri(MLFLOW_URI)\n",
    "        return MlflowClient()\n",
    "\n",
    "    @memoized_property\n",
    "    def mlflow_experiment_id(self):\n",
    "        try:\n",
    "            return self.mlflow_client.create_experiment(self.experiment_name)\n",
    "        except BaseException:\n",
    "            return self.mlflow_client.get_experiment_by_name(\n",
    "                self.experiment_name).experiment_id\n",
    "\n",
    "    @memoized_property\n",
    "    def mlflow_run(self):\n",
    "        return self.mlflow_client.create_run(self.mlflow_experiment_id)\n",
    "\n",
    "    def mlflow_log_param(self, key, value):\n",
    "        self.mlflow_client.log_param(self.mlflow_run.info.run_id, key, value)\n",
    "\n",
    "    def mlflow_log_metric(self, key, value):\n",
    "        self.mlflow_client.log_metric(self.mlflow_run.info.run_id, key, value)"
   ]
  },
  {
   "cell_type": "code",
   "execution_count": 16,
   "id": "5464cb38",
   "metadata": {},
   "outputs": [
    {
     "name": "stdout",
     "output_type": "stream",
     "text": [
      "           0\n",
      "0   7.853060\n",
      "1  95.744934\n",
      "2   0.646386\n",
      "\u001b[32mmodel.joblib saved locally\u001b[0m\n"
     ]
    }
   ],
   "source": [
    "#KNN\n",
    "X_train, X_test, y_train, y_test = train_test_split(X, y, test_size=0.3)\n",
    "# Train and save model, locally and\n",
    "trainer_knn = Trainer(X=X_train, y=y_train)\n",
    "trainer_knn.set_experiment_name('KNN')\n",
    "trainer_knn.run()\n",
    "knn_reg = trainer_knn.evaluate(X_test, y_test)\n",
    "print(knn_reg)\n",
    "trainer_knn.save_model_locally()"
   ]
  },
  {
   "cell_type": "code",
   "execution_count": 17,
   "id": "db5eb223",
   "metadata": {},
   "outputs": [],
   "source": [
    "EXPERIMENT_NAME = \"non-spatial_regression\"\n",
    "yourname = \"Batch_874_Batch_874_Youth_in_the_city\"\n",
    "MLFLOW_URI = \"https://mlflow.lewagon.ai/\"\n",
    "class Trainer_SGD(object):\n",
    "    def __init__(self, X, y):\n",
    "        \"\"\"\n",
    "            X: pandas DataFrame --> drop the \"geometry and the \"Kinderarmut\"\n",
    "            y: pandas Series --> \"Kinderarmut\"\n",
    "        \"\"\"\n",
    "        self.pipeline = None\n",
    "        self.X = X\n",
    "        self.y = y\n",
    "        # for MLFlow\n",
    "        self.experiment_name = EXPERIMENT_NAME\n",
    "\n",
    "    def set_experiment_name(self, experiment_name):\n",
    "        '''defines the experiment name for MLFlow'''\n",
    "        self.experiment_name = experiment_name\n",
    "\n",
    "    def set_pipeline(self):\n",
    "        \"\"\"defines the pipeline as a class attribute\"\"\"\n",
    "        preproc_pipe = Pipeline([\n",
    "            ('knnimputer', KNNImputer(missing_values= np.nan)),\n",
    "            ('robustscaler', RobustScaler())\n",
    "        ])\n",
    "        self.pipeline = Pipeline([\n",
    "            ('preproc', preproc_pipe),\n",
    "            ('KNN_model', SGDRegressor())\n",
    "        ])\n",
    "\n",
    "    def run(self):\n",
    "        self.set_pipeline()\n",
    "        self.mlflow_log_param(\"model\", \"SGD\")\n",
    "        self.pipeline.fit(self.X, self.y)\n",
    "\n",
    "    def evaluate(self, X_test, y_test):\n",
    "        \"\"\"evaluates the pipeline on df_test and return the r2 score\"\"\"\n",
    "        y_pred = self.pipeline.predict(X_test)\n",
    "        r_score = r2_score(y_test, y_pred)\n",
    "        mean_abs_error = mean_absolute_error(y_test, y_pred)\n",
    "        mean_squ_error = mean_squared_error(y_test, y_pred)\n",
    "        self.mlflow_log_metric(\"mean_abs_error\", mean_abs_error)\n",
    "        metrics_df = pd.DataFrame(data = [mean_abs_error, mean_squ_error, r_score])\n",
    "        return metrics_df\n",
    "\n",
    "    def save_model_locally(self):\n",
    "        \"\"\"Save the model into a .joblib format\"\"\"\n",
    "        joblib.dump(self.pipeline, 'model_sgd.joblib')\n",
    "        print(colored(\"model_sgd.joblib saved locally\", \"green\"))\n",
    "\n",
    "    # MLFlow methods\n",
    "    @memoized_property\n",
    "    def mlflow_client(self):\n",
    "        mlflow.set_tracking_uri(MLFLOW_URI)\n",
    "        return MlflowClient()\n",
    "\n",
    "    @memoized_property\n",
    "    def mlflow_experiment_id(self):\n",
    "        try:\n",
    "            return self.mlflow_client.create_experiment(self.experiment_name)\n",
    "        except BaseException:\n",
    "            return self.mlflow_client.get_experiment_by_name(\n",
    "                self.experiment_name).experiment_id\n",
    "\n",
    "    @memoized_property\n",
    "    def mlflow_run(self):\n",
    "        return self.mlflow_client.create_run(self.mlflow_experiment_id)\n",
    "\n",
    "    def mlflow_log_param(self, key, value):\n",
    "        self.mlflow_client.log_param(self.mlflow_run.info.run_id, key, value)\n",
    "\n",
    "    def mlflow_log_metric(self, key, value):\n",
    "        self.mlflow_client.log_metric(self.mlflow_run.info.run_id, key, value)"
   ]
  },
  {
   "cell_type": "code",
   "execution_count": 18,
   "id": "6b4aa927",
   "metadata": {},
   "outputs": [
    {
     "name": "stdout",
     "output_type": "stream",
     "text": [
      "           0\n",
      "0   7.947480\n",
      "1  91.630146\n",
      "2   0.681859\n",
      "\u001b[32mmodel.joblib saved locally\u001b[0m\n"
     ]
    }
   ],
   "source": [
    "#SGD\n",
    "X_train, X_test, y_train, y_test = train_test_split(X, y, test_size=0.3)\n",
    "# Train and save model, locally and\n",
    "trainer_sgd = Trainer(X=X_train, y=y_train)\n",
    "trainer_sgd.set_experiment_name('SGD')\n",
    "trainer_sgd.run()\n",
    "sgd_reg = trainer_knn.evaluate(X_test, y_test)\n",
    "print(sgd_reg)\n",
    "trainer_sgd.save_model_locally()"
   ]
  },
  {
   "cell_type": "code",
   "execution_count": 73,
   "id": "69c10728",
   "metadata": {},
   "outputs": [
    {
     "ename": "AttributeError",
     "evalue": "'Trainer' object has no attribute 'summary'",
     "output_type": "error",
     "traceback": [
      "\u001b[0;31m---------------------------------------------------------------------------\u001b[0m",
      "\u001b[0;31mAttributeError\u001b[0m                            Traceback (most recent call last)",
      "Input \u001b[0;32mIn [73]\u001b[0m, in \u001b[0;36m<cell line: 1>\u001b[0;34m()\u001b[0m\n\u001b[0;32m----> 1\u001b[0m \u001b[43mtrainer_knn\u001b[49m\u001b[38;5;241;43m.\u001b[39;49m\u001b[43msummary\u001b[49m\n",
      "\u001b[0;31mAttributeError\u001b[0m: 'Trainer' object has no attribute 'summary'"
     ]
    }
   ],
   "source": [
    "trainer_knn.summary"
   ]
  },
  {
   "cell_type": "code",
   "execution_count": 38,
   "id": "623d6313",
   "metadata": {
    "collapsed": true
   },
   "outputs": [
    {
     "ename": "ValueError",
     "evalue": "The truth value of a DataFrame is ambiguous. Use a.empty, a.bool(), a.item(), a.any() or a.all().",
     "output_type": "error",
     "traceback": [
      "\u001b[0;31m---------------------------------------------------------------------------\u001b[0m",
      "\u001b[0;31mValueError\u001b[0m                                Traceback (most recent call last)",
      "Input \u001b[0;32mIn [38]\u001b[0m, in \u001b[0;36m<cell line: 1>\u001b[0;34m()\u001b[0m\n\u001b[0;32m----> 1\u001b[0m metrics_df \u001b[38;5;241m=\u001b[39m \u001b[43mlinear\u001b[49m\u001b[38;5;241;43m.\u001b[39;49m\u001b[43mmerge\u001b[49m\u001b[43m(\u001b[49m\u001b[43mknn_reg\u001b[49m\u001b[43m)\u001b[49m\n\u001b[1;32m      2\u001b[0m metrics_df\n",
      "File \u001b[0;32m~/.pyenv/versions/3.8.12/envs/school-map-project/lib/python3.8/site-packages/pandas/core/frame.py:9351\u001b[0m, in \u001b[0;36mDataFrame.merge\u001b[0;34m(self, right, how, on, left_on, right_on, left_index, right_index, sort, suffixes, copy, indicator, validate)\u001b[0m\n\u001b[1;32m   9332\u001b[0m \u001b[38;5;129m@Substitution\u001b[39m(\u001b[38;5;124m\"\u001b[39m\u001b[38;5;124m\"\u001b[39m)\n\u001b[1;32m   9333\u001b[0m \u001b[38;5;129m@Appender\u001b[39m(_merge_doc, indents\u001b[38;5;241m=\u001b[39m\u001b[38;5;241m2\u001b[39m)\n\u001b[1;32m   9334\u001b[0m \u001b[38;5;28;01mdef\u001b[39;00m \u001b[38;5;21mmerge\u001b[39m(\n\u001b[0;32m   (...)\u001b[0m\n\u001b[1;32m   9347\u001b[0m     validate: \u001b[38;5;28mstr\u001b[39m \u001b[38;5;241m|\u001b[39m \u001b[38;5;28;01mNone\u001b[39;00m \u001b[38;5;241m=\u001b[39m \u001b[38;5;28;01mNone\u001b[39;00m,\n\u001b[1;32m   9348\u001b[0m ) \u001b[38;5;241m-\u001b[39m\u001b[38;5;241m>\u001b[39m DataFrame:\n\u001b[1;32m   9349\u001b[0m     \u001b[38;5;28;01mfrom\u001b[39;00m \u001b[38;5;21;01mpandas\u001b[39;00m\u001b[38;5;21;01m.\u001b[39;00m\u001b[38;5;21;01mcore\u001b[39;00m\u001b[38;5;21;01m.\u001b[39;00m\u001b[38;5;21;01mreshape\u001b[39;00m\u001b[38;5;21;01m.\u001b[39;00m\u001b[38;5;21;01mmerge\u001b[39;00m \u001b[38;5;28;01mimport\u001b[39;00m merge\n\u001b[0;32m-> 9351\u001b[0m     \u001b[38;5;28;01mreturn\u001b[39;00m \u001b[43mmerge\u001b[49m\u001b[43m(\u001b[49m\n\u001b[1;32m   9352\u001b[0m \u001b[43m        \u001b[49m\u001b[38;5;28;43mself\u001b[39;49m\u001b[43m,\u001b[49m\n\u001b[1;32m   9353\u001b[0m \u001b[43m        \u001b[49m\u001b[43mright\u001b[49m\u001b[43m,\u001b[49m\n\u001b[1;32m   9354\u001b[0m \u001b[43m        \u001b[49m\u001b[43mhow\u001b[49m\u001b[38;5;241;43m=\u001b[39;49m\u001b[43mhow\u001b[49m\u001b[43m,\u001b[49m\n\u001b[1;32m   9355\u001b[0m \u001b[43m        \u001b[49m\u001b[43mon\u001b[49m\u001b[38;5;241;43m=\u001b[39;49m\u001b[43mon\u001b[49m\u001b[43m,\u001b[49m\n\u001b[1;32m   9356\u001b[0m \u001b[43m        \u001b[49m\u001b[43mleft_on\u001b[49m\u001b[38;5;241;43m=\u001b[39;49m\u001b[43mleft_on\u001b[49m\u001b[43m,\u001b[49m\n\u001b[1;32m   9357\u001b[0m \u001b[43m        \u001b[49m\u001b[43mright_on\u001b[49m\u001b[38;5;241;43m=\u001b[39;49m\u001b[43mright_on\u001b[49m\u001b[43m,\u001b[49m\n\u001b[1;32m   9358\u001b[0m \u001b[43m        \u001b[49m\u001b[43mleft_index\u001b[49m\u001b[38;5;241;43m=\u001b[39;49m\u001b[43mleft_index\u001b[49m\u001b[43m,\u001b[49m\n\u001b[1;32m   9359\u001b[0m \u001b[43m        \u001b[49m\u001b[43mright_index\u001b[49m\u001b[38;5;241;43m=\u001b[39;49m\u001b[43mright_index\u001b[49m\u001b[43m,\u001b[49m\n\u001b[1;32m   9360\u001b[0m \u001b[43m        \u001b[49m\u001b[43msort\u001b[49m\u001b[38;5;241;43m=\u001b[39;49m\u001b[43msort\u001b[49m\u001b[43m,\u001b[49m\n\u001b[1;32m   9361\u001b[0m \u001b[43m        \u001b[49m\u001b[43msuffixes\u001b[49m\u001b[38;5;241;43m=\u001b[39;49m\u001b[43msuffixes\u001b[49m\u001b[43m,\u001b[49m\n\u001b[1;32m   9362\u001b[0m \u001b[43m        \u001b[49m\u001b[43mcopy\u001b[49m\u001b[38;5;241;43m=\u001b[39;49m\u001b[43mcopy\u001b[49m\u001b[43m,\u001b[49m\n\u001b[1;32m   9363\u001b[0m \u001b[43m        \u001b[49m\u001b[43mindicator\u001b[49m\u001b[38;5;241;43m=\u001b[39;49m\u001b[43mindicator\u001b[49m\u001b[43m,\u001b[49m\n\u001b[1;32m   9364\u001b[0m \u001b[43m        \u001b[49m\u001b[43mvalidate\u001b[49m\u001b[38;5;241;43m=\u001b[39;49m\u001b[43mvalidate\u001b[49m\u001b[43m,\u001b[49m\n\u001b[1;32m   9365\u001b[0m \u001b[43m    \u001b[49m\u001b[43m)\u001b[49m\n",
      "File \u001b[0;32m~/.pyenv/versions/3.8.12/envs/school-map-project/lib/python3.8/site-packages/pandas/core/reshape/merge.py:107\u001b[0m, in \u001b[0;36mmerge\u001b[0;34m(left, right, how, on, left_on, right_on, left_index, right_index, sort, suffixes, copy, indicator, validate)\u001b[0m\n\u001b[1;32m     90\u001b[0m \u001b[38;5;129m@Substitution\u001b[39m(\u001b[38;5;124m\"\u001b[39m\u001b[38;5;130;01m\\n\u001b[39;00m\u001b[38;5;124mleft : DataFrame or named Series\u001b[39m\u001b[38;5;124m\"\u001b[39m)\n\u001b[1;32m     91\u001b[0m \u001b[38;5;129m@Appender\u001b[39m(_merge_doc, indents\u001b[38;5;241m=\u001b[39m\u001b[38;5;241m0\u001b[39m)\n\u001b[1;32m     92\u001b[0m \u001b[38;5;28;01mdef\u001b[39;00m \u001b[38;5;21mmerge\u001b[39m(\n\u001b[0;32m   (...)\u001b[0m\n\u001b[1;32m    105\u001b[0m     validate: \u001b[38;5;28mstr\u001b[39m \u001b[38;5;241m|\u001b[39m \u001b[38;5;28;01mNone\u001b[39;00m \u001b[38;5;241m=\u001b[39m \u001b[38;5;28;01mNone\u001b[39;00m,\n\u001b[1;32m    106\u001b[0m ) \u001b[38;5;241m-\u001b[39m\u001b[38;5;241m>\u001b[39m DataFrame:\n\u001b[0;32m--> 107\u001b[0m     op \u001b[38;5;241m=\u001b[39m \u001b[43m_MergeOperation\u001b[49m\u001b[43m(\u001b[49m\n\u001b[1;32m    108\u001b[0m \u001b[43m        \u001b[49m\u001b[43mleft\u001b[49m\u001b[43m,\u001b[49m\n\u001b[1;32m    109\u001b[0m \u001b[43m        \u001b[49m\u001b[43mright\u001b[49m\u001b[43m,\u001b[49m\n\u001b[1;32m    110\u001b[0m \u001b[43m        \u001b[49m\u001b[43mhow\u001b[49m\u001b[38;5;241;43m=\u001b[39;49m\u001b[43mhow\u001b[49m\u001b[43m,\u001b[49m\n\u001b[1;32m    111\u001b[0m \u001b[43m        \u001b[49m\u001b[43mon\u001b[49m\u001b[38;5;241;43m=\u001b[39;49m\u001b[43mon\u001b[49m\u001b[43m,\u001b[49m\n\u001b[1;32m    112\u001b[0m \u001b[43m        \u001b[49m\u001b[43mleft_on\u001b[49m\u001b[38;5;241;43m=\u001b[39;49m\u001b[43mleft_on\u001b[49m\u001b[43m,\u001b[49m\n\u001b[1;32m    113\u001b[0m \u001b[43m        \u001b[49m\u001b[43mright_on\u001b[49m\u001b[38;5;241;43m=\u001b[39;49m\u001b[43mright_on\u001b[49m\u001b[43m,\u001b[49m\n\u001b[1;32m    114\u001b[0m \u001b[43m        \u001b[49m\u001b[43mleft_index\u001b[49m\u001b[38;5;241;43m=\u001b[39;49m\u001b[43mleft_index\u001b[49m\u001b[43m,\u001b[49m\n\u001b[1;32m    115\u001b[0m \u001b[43m        \u001b[49m\u001b[43mright_index\u001b[49m\u001b[38;5;241;43m=\u001b[39;49m\u001b[43mright_index\u001b[49m\u001b[43m,\u001b[49m\n\u001b[1;32m    116\u001b[0m \u001b[43m        \u001b[49m\u001b[43msort\u001b[49m\u001b[38;5;241;43m=\u001b[39;49m\u001b[43msort\u001b[49m\u001b[43m,\u001b[49m\n\u001b[1;32m    117\u001b[0m \u001b[43m        \u001b[49m\u001b[43msuffixes\u001b[49m\u001b[38;5;241;43m=\u001b[39;49m\u001b[43msuffixes\u001b[49m\u001b[43m,\u001b[49m\n\u001b[1;32m    118\u001b[0m \u001b[43m        \u001b[49m\u001b[43mcopy\u001b[49m\u001b[38;5;241;43m=\u001b[39;49m\u001b[43mcopy\u001b[49m\u001b[43m,\u001b[49m\n\u001b[1;32m    119\u001b[0m \u001b[43m        \u001b[49m\u001b[43mindicator\u001b[49m\u001b[38;5;241;43m=\u001b[39;49m\u001b[43mindicator\u001b[49m\u001b[43m,\u001b[49m\n\u001b[1;32m    120\u001b[0m \u001b[43m        \u001b[49m\u001b[43mvalidate\u001b[49m\u001b[38;5;241;43m=\u001b[39;49m\u001b[43mvalidate\u001b[49m\u001b[43m,\u001b[49m\n\u001b[1;32m    121\u001b[0m \u001b[43m    \u001b[49m\u001b[43m)\u001b[49m\n\u001b[1;32m    122\u001b[0m     \u001b[38;5;28;01mreturn\u001b[39;00m op\u001b[38;5;241m.\u001b[39mget_result()\n",
      "File \u001b[0;32m~/.pyenv/versions/3.8.12/envs/school-map-project/lib/python3.8/site-packages/pandas/core/reshape/merge.py:682\u001b[0m, in \u001b[0;36m_MergeOperation.__init__\u001b[0;34m(self, left, right, how, on, left_on, right_on, axis, left_index, right_index, sort, suffixes, copy, indicator, validate)\u001b[0m\n\u001b[1;32m    678\u001b[0m     \u001b[38;5;66;03m# stacklevel chosen to be correct when this is reached via pd.merge\u001b[39;00m\n\u001b[1;32m    679\u001b[0m     \u001b[38;5;66;03m# (and not DataFrame.join)\u001b[39;00m\n\u001b[1;32m    680\u001b[0m     warnings\u001b[38;5;241m.\u001b[39mwarn(msg, \u001b[38;5;167;01mFutureWarning\u001b[39;00m, stacklevel\u001b[38;5;241m=\u001b[39mfind_stack_level())\n\u001b[0;32m--> 682\u001b[0m \u001b[38;5;28;43mself\u001b[39;49m\u001b[38;5;241;43m.\u001b[39;49m\u001b[43m_validate_specification\u001b[49m\u001b[43m(\u001b[49m\u001b[43m)\u001b[49m\n\u001b[1;32m    684\u001b[0m cross_col \u001b[38;5;241m=\u001b[39m \u001b[38;5;28;01mNone\u001b[39;00m\n\u001b[1;32m    685\u001b[0m \u001b[38;5;28;01mif\u001b[39;00m \u001b[38;5;28mself\u001b[39m\u001b[38;5;241m.\u001b[39mhow \u001b[38;5;241m==\u001b[39m \u001b[38;5;124m\"\u001b[39m\u001b[38;5;124mcross\u001b[39m\u001b[38;5;124m\"\u001b[39m:\n",
      "File \u001b[0;32m~/.pyenv/versions/3.8.12/envs/school-map-project/lib/python3.8/site-packages/pandas/core/reshape/merge.py:1351\u001b[0m, in \u001b[0;36m_MergeOperation._validate_specification\u001b[0;34m(self)\u001b[0m\n\u001b[1;32m   1349\u001b[0m left_cols \u001b[38;5;241m=\u001b[39m \u001b[38;5;28mself\u001b[39m\u001b[38;5;241m.\u001b[39mleft\u001b[38;5;241m.\u001b[39mcolumns\n\u001b[1;32m   1350\u001b[0m right_cols \u001b[38;5;241m=\u001b[39m \u001b[38;5;28mself\u001b[39m\u001b[38;5;241m.\u001b[39mright\u001b[38;5;241m.\u001b[39mcolumns\n\u001b[0;32m-> 1351\u001b[0m common_cols \u001b[38;5;241m=\u001b[39m \u001b[43mleft_cols\u001b[49m\u001b[38;5;241;43m.\u001b[39;49m\u001b[43mintersection\u001b[49m\u001b[43m(\u001b[49m\u001b[43mright_cols\u001b[49m\u001b[43m)\u001b[49m\n\u001b[1;32m   1352\u001b[0m \u001b[38;5;28;01mif\u001b[39;00m \u001b[38;5;28mlen\u001b[39m(common_cols) \u001b[38;5;241m==\u001b[39m \u001b[38;5;241m0\u001b[39m:\n\u001b[1;32m   1353\u001b[0m     \u001b[38;5;28;01mraise\u001b[39;00m MergeError(\n\u001b[1;32m   1354\u001b[0m         \u001b[38;5;124m\"\u001b[39m\u001b[38;5;124mNo common columns to perform merge on. \u001b[39m\u001b[38;5;124m\"\u001b[39m\n\u001b[1;32m   1355\u001b[0m         \u001b[38;5;124mf\u001b[39m\u001b[38;5;124m\"\u001b[39m\u001b[38;5;124mMerge options: left_on=\u001b[39m\u001b[38;5;132;01m{\u001b[39;00m\u001b[38;5;28mself\u001b[39m\u001b[38;5;241m.\u001b[39mleft_on\u001b[38;5;132;01m}\u001b[39;00m\u001b[38;5;124m, \u001b[39m\u001b[38;5;124m\"\u001b[39m\n\u001b[0;32m   (...)\u001b[0m\n\u001b[1;32m   1358\u001b[0m         \u001b[38;5;124mf\u001b[39m\u001b[38;5;124m\"\u001b[39m\u001b[38;5;124mright_index=\u001b[39m\u001b[38;5;132;01m{\u001b[39;00m\u001b[38;5;28mself\u001b[39m\u001b[38;5;241m.\u001b[39mright_index\u001b[38;5;132;01m}\u001b[39;00m\u001b[38;5;124m\"\u001b[39m\n\u001b[1;32m   1359\u001b[0m     )\n",
      "File \u001b[0;32m~/.pyenv/versions/3.8.12/envs/school-map-project/lib/python3.8/site-packages/pandas/core/indexes/base.py:3345\u001b[0m, in \u001b[0;36mIndex.intersection\u001b[0;34m(self, other, sort)\u001b[0m\n\u001b[1;32m   3343\u001b[0m     this \u001b[38;5;241m=\u001b[39m \u001b[38;5;28mself\u001b[39m\u001b[38;5;241m.\u001b[39mastype(dtype, copy\u001b[38;5;241m=\u001b[39m\u001b[38;5;28;01mFalse\u001b[39;00m)\n\u001b[1;32m   3344\u001b[0m     other \u001b[38;5;241m=\u001b[39m other\u001b[38;5;241m.\u001b[39mastype(dtype, copy\u001b[38;5;241m=\u001b[39m\u001b[38;5;28;01mFalse\u001b[39;00m)\n\u001b[0;32m-> 3345\u001b[0m     \u001b[38;5;28;01mreturn\u001b[39;00m \u001b[43mthis\u001b[49m\u001b[38;5;241;43m.\u001b[39;49m\u001b[43mintersection\u001b[49m\u001b[43m(\u001b[49m\u001b[43mother\u001b[49m\u001b[43m,\u001b[49m\u001b[43m \u001b[49m\u001b[43msort\u001b[49m\u001b[38;5;241;43m=\u001b[39;49m\u001b[43msort\u001b[49m\u001b[43m)\u001b[49m\n\u001b[1;32m   3347\u001b[0m result \u001b[38;5;241m=\u001b[39m \u001b[38;5;28mself\u001b[39m\u001b[38;5;241m.\u001b[39m_intersection(other, sort\u001b[38;5;241m=\u001b[39msort)\n\u001b[1;32m   3348\u001b[0m \u001b[38;5;28;01mreturn\u001b[39;00m \u001b[38;5;28mself\u001b[39m\u001b[38;5;241m.\u001b[39m_wrap_intersection_result(other, result)\n",
      "File \u001b[0;32m~/.pyenv/versions/3.8.12/envs/school-map-project/lib/python3.8/site-packages/pandas/core/indexes/base.py:3347\u001b[0m, in \u001b[0;36mIndex.intersection\u001b[0;34m(self, other, sort)\u001b[0m\n\u001b[1;32m   3344\u001b[0m     other \u001b[38;5;241m=\u001b[39m other\u001b[38;5;241m.\u001b[39mastype(dtype, copy\u001b[38;5;241m=\u001b[39m\u001b[38;5;28;01mFalse\u001b[39;00m)\n\u001b[1;32m   3345\u001b[0m     \u001b[38;5;28;01mreturn\u001b[39;00m this\u001b[38;5;241m.\u001b[39mintersection(other, sort\u001b[38;5;241m=\u001b[39msort)\n\u001b[0;32m-> 3347\u001b[0m result \u001b[38;5;241m=\u001b[39m \u001b[38;5;28;43mself\u001b[39;49m\u001b[38;5;241;43m.\u001b[39;49m\u001b[43m_intersection\u001b[49m\u001b[43m(\u001b[49m\u001b[43mother\u001b[49m\u001b[43m,\u001b[49m\u001b[43m \u001b[49m\u001b[43msort\u001b[49m\u001b[38;5;241;43m=\u001b[39;49m\u001b[43msort\u001b[49m\u001b[43m)\u001b[49m\n\u001b[1;32m   3348\u001b[0m \u001b[38;5;28;01mreturn\u001b[39;00m \u001b[38;5;28mself\u001b[39m\u001b[38;5;241m.\u001b[39m_wrap_intersection_result(other, result)\n",
      "File \u001b[0;32m~/.pyenv/versions/3.8.12/envs/school-map-project/lib/python3.8/site-packages/pandas/core/indexes/base.py:3354\u001b[0m, in \u001b[0;36mIndex._intersection\u001b[0;34m(self, other, sort)\u001b[0m\n\u001b[1;32m   3350\u001b[0m \u001b[38;5;28;01mdef\u001b[39;00m \u001b[38;5;21m_intersection\u001b[39m(\u001b[38;5;28mself\u001b[39m, other: Index, sort\u001b[38;5;241m=\u001b[39m\u001b[38;5;28;01mFalse\u001b[39;00m):\n\u001b[1;32m   3351\u001b[0m     \u001b[38;5;124;03m\"\"\"\u001b[39;00m\n\u001b[1;32m   3352\u001b[0m \u001b[38;5;124;03m    intersection specialized to the case with matching dtypes.\u001b[39;00m\n\u001b[1;32m   3353\u001b[0m \u001b[38;5;124;03m    \"\"\"\u001b[39;00m\n\u001b[0;32m-> 3354\u001b[0m     \u001b[38;5;28;01mif\u001b[39;00m \u001b[38;5;28;43mself\u001b[39;49m\u001b[38;5;241;43m.\u001b[39;49m\u001b[43mis_monotonic\u001b[49m \u001b[38;5;129;01mand\u001b[39;00m other\u001b[38;5;241m.\u001b[39mis_monotonic \u001b[38;5;129;01mand\u001b[39;00m \u001b[38;5;28mself\u001b[39m\u001b[38;5;241m.\u001b[39m_can_use_libjoin:\n\u001b[1;32m   3355\u001b[0m         \u001b[38;5;28;01mtry\u001b[39;00m:\n\u001b[1;32m   3356\u001b[0m             result \u001b[38;5;241m=\u001b[39m \u001b[38;5;28mself\u001b[39m\u001b[38;5;241m.\u001b[39m_inner_indexer(other)[\u001b[38;5;241m0\u001b[39m]\n",
      "File \u001b[0;32m~/.pyenv/versions/3.8.12/envs/school-map-project/lib/python3.8/site-packages/pandas/core/indexes/base.py:2160\u001b[0m, in \u001b[0;36mIndex.is_monotonic\u001b[0;34m(self)\u001b[0m\n\u001b[1;32m   2154\u001b[0m \u001b[38;5;129m@final\u001b[39m\n\u001b[1;32m   2155\u001b[0m \u001b[38;5;129m@property\u001b[39m\n\u001b[1;32m   2156\u001b[0m \u001b[38;5;28;01mdef\u001b[39;00m \u001b[38;5;21mis_monotonic\u001b[39m(\u001b[38;5;28mself\u001b[39m) \u001b[38;5;241m-\u001b[39m\u001b[38;5;241m>\u001b[39m \u001b[38;5;28mbool\u001b[39m:\n\u001b[1;32m   2157\u001b[0m     \u001b[38;5;124;03m\"\"\"\u001b[39;00m\n\u001b[1;32m   2158\u001b[0m \u001b[38;5;124;03m    Alias for is_monotonic_increasing.\u001b[39;00m\n\u001b[1;32m   2159\u001b[0m \u001b[38;5;124;03m    \"\"\"\u001b[39;00m\n\u001b[0;32m-> 2160\u001b[0m     \u001b[38;5;28;01mreturn\u001b[39;00m \u001b[38;5;28;43mself\u001b[39;49m\u001b[38;5;241;43m.\u001b[39;49m\u001b[43mis_monotonic_increasing\u001b[49m\n",
      "File \u001b[0;32m~/.pyenv/versions/3.8.12/envs/school-map-project/lib/python3.8/site-packages/pandas/core/indexes/base.py:2177\u001b[0m, in \u001b[0;36mIndex.is_monotonic_increasing\u001b[0;34m(self)\u001b[0m\n\u001b[1;32m   2162\u001b[0m \u001b[38;5;129m@property\u001b[39m\n\u001b[1;32m   2163\u001b[0m \u001b[38;5;28;01mdef\u001b[39;00m \u001b[38;5;21mis_monotonic_increasing\u001b[39m(\u001b[38;5;28mself\u001b[39m) \u001b[38;5;241m-\u001b[39m\u001b[38;5;241m>\u001b[39m \u001b[38;5;28mbool\u001b[39m:\n\u001b[1;32m   2164\u001b[0m     \u001b[38;5;124;03m\"\"\"\u001b[39;00m\n\u001b[1;32m   2165\u001b[0m \u001b[38;5;124;03m    Return if the index is monotonic increasing (only equal or\u001b[39;00m\n\u001b[1;32m   2166\u001b[0m \u001b[38;5;124;03m    increasing) values.\u001b[39;00m\n\u001b[0;32m   (...)\u001b[0m\n\u001b[1;32m   2175\u001b[0m \u001b[38;5;124;03m    False\u001b[39;00m\n\u001b[1;32m   2176\u001b[0m \u001b[38;5;124;03m    \"\"\"\u001b[39;00m\n\u001b[0;32m-> 2177\u001b[0m     \u001b[38;5;28;01mreturn\u001b[39;00m \u001b[38;5;28;43mself\u001b[39;49m\u001b[38;5;241;43m.\u001b[39;49m\u001b[43m_engine\u001b[49m\u001b[38;5;241;43m.\u001b[39;49m\u001b[43mis_monotonic_increasing\u001b[49m\n",
      "File \u001b[0;32m~/.pyenv/versions/3.8.12/envs/school-map-project/lib/python3.8/site-packages/pandas/_libs/index.pyx:235\u001b[0m, in \u001b[0;36mpandas._libs.index.IndexEngine.is_monotonic_increasing.__get__\u001b[0;34m()\u001b[0m\n",
      "File \u001b[0;32m~/.pyenv/versions/3.8.12/envs/school-map-project/lib/python3.8/site-packages/pandas/_libs/index.pyx:252\u001b[0m, in \u001b[0;36mpandas._libs.index.IndexEngine._do_monotonic_check\u001b[0;34m()\u001b[0m\n",
      "File \u001b[0;32m~/.pyenv/versions/3.8.12/envs/school-map-project/lib/python3.8/site-packages/pandas/_libs/index.pyx:266\u001b[0m, in \u001b[0;36mpandas._libs.index.IndexEngine._call_monotonic\u001b[0;34m()\u001b[0m\n",
      "File \u001b[0;32m~/.pyenv/versions/3.8.12/envs/school-map-project/lib/python3.8/site-packages/pandas/_libs/algos.pyx:754\u001b[0m, in \u001b[0;36mpandas._libs.algos.is_monotonic\u001b[0;34m()\u001b[0m\n",
      "File \u001b[0;32m~/.pyenv/versions/3.8.12/envs/school-map-project/lib/python3.8/site-packages/pandas/core/generic.py:1527\u001b[0m, in \u001b[0;36mNDFrame.__nonzero__\u001b[0;34m(self)\u001b[0m\n\u001b[1;32m   1525\u001b[0m \u001b[38;5;129m@final\u001b[39m\n\u001b[1;32m   1526\u001b[0m \u001b[38;5;28;01mdef\u001b[39;00m \u001b[38;5;21m__nonzero__\u001b[39m(\u001b[38;5;28mself\u001b[39m):\n\u001b[0;32m-> 1527\u001b[0m     \u001b[38;5;28;01mraise\u001b[39;00m \u001b[38;5;167;01mValueError\u001b[39;00m(\n\u001b[1;32m   1528\u001b[0m         \u001b[38;5;124mf\u001b[39m\u001b[38;5;124m\"\u001b[39m\u001b[38;5;124mThe truth value of a \u001b[39m\u001b[38;5;132;01m{\u001b[39;00m\u001b[38;5;28mtype\u001b[39m(\u001b[38;5;28mself\u001b[39m)\u001b[38;5;241m.\u001b[39m\u001b[38;5;18m__name__\u001b[39m\u001b[38;5;132;01m}\u001b[39;00m\u001b[38;5;124m is ambiguous. \u001b[39m\u001b[38;5;124m\"\u001b[39m\n\u001b[1;32m   1529\u001b[0m         \u001b[38;5;124m\"\u001b[39m\u001b[38;5;124mUse a.empty, a.bool(), a.item(), a.any() or a.all().\u001b[39m\u001b[38;5;124m\"\u001b[39m\n\u001b[1;32m   1530\u001b[0m     )\n",
      "\u001b[0;31mValueError\u001b[0m: The truth value of a DataFrame is ambiguous. Use a.empty, a.bool(), a.item(), a.any() or a.all()."
     ]
    }
   ],
   "source": [
    "metrics_df = linear.merge(knn_reg)\n",
    "metrics_df"
   ]
  },
  {
   "cell_type": "code",
   "execution_count": 51,
   "id": "9eade7af",
   "metadata": {},
   "outputs": [],
   "source": [
    "knn_df = pd.DataFrame(knn_reg)\n",
    "sgd_df = pd.DataFrame(sgd_reg)\n",
    "linear_df = pd.DataFrame(linear)"
   ]
  },
  {
   "cell_type": "code",
   "execution_count": 55,
   "id": "190cc012",
   "metadata": {},
   "outputs": [
    {
     "data": {
      "text/html": [
       "<div>\n",
       "<style scoped>\n",
       "    .dataframe tbody tr th:only-of-type {\n",
       "        vertical-align: middle;\n",
       "    }\n",
       "\n",
       "    .dataframe tbody tr th {\n",
       "        vertical-align: top;\n",
       "    }\n",
       "\n",
       "    .dataframe thead th {\n",
       "        text-align: right;\n",
       "    }\n",
       "</style>\n",
       "<table border=\"1\" class=\"dataframe\">\n",
       "  <thead>\n",
       "    <tr style=\"text-align: right;\">\n",
       "      <th></th>\n",
       "      <th>0</th>\n",
       "    </tr>\n",
       "  </thead>\n",
       "  <tbody>\n",
       "    <tr>\n",
       "      <th>0</th>\n",
       "      <td>7.128310</td>\n",
       "    </tr>\n",
       "    <tr>\n",
       "      <th>1</th>\n",
       "      <td>82.027018</td>\n",
       "    </tr>\n",
       "    <tr>\n",
       "      <th>2</th>\n",
       "      <td>0.684207</td>\n",
       "    </tr>\n",
       "  </tbody>\n",
       "</table>\n",
       "</div>"
      ],
      "text/plain": [
       "           0\n",
       "0   7.128310\n",
       "1  82.027018\n",
       "2   0.684207"
      ]
     },
     "execution_count": 55,
     "metadata": {},
     "output_type": "execute_result"
    }
   ],
   "source": [
    "linear"
   ]
  },
  {
   "cell_type": "code",
   "execution_count": 67,
   "id": "42c4754d",
   "metadata": {},
   "outputs": [
    {
     "data": {
      "text/html": [
       "<div>\n",
       "<style scoped>\n",
       "    .dataframe tbody tr th:only-of-type {\n",
       "        vertical-align: middle;\n",
       "    }\n",
       "\n",
       "    .dataframe tbody tr th {\n",
       "        vertical-align: top;\n",
       "    }\n",
       "\n",
       "    .dataframe thead th {\n",
       "        text-align: right;\n",
       "    }\n",
       "</style>\n",
       "<table border=\"1\" class=\"dataframe\">\n",
       "  <thead>\n",
       "    <tr style=\"text-align: right;\">\n",
       "      <th></th>\n",
       "      <th>0</th>\n",
       "      <th>0</th>\n",
       "      <th>0</th>\n",
       "    </tr>\n",
       "  </thead>\n",
       "  <tbody>\n",
       "    <tr>\n",
       "      <th>0</th>\n",
       "      <td>7.128310</td>\n",
       "      <td>7.853060</td>\n",
       "      <td>7.947480</td>\n",
       "    </tr>\n",
       "    <tr>\n",
       "      <th>1</th>\n",
       "      <td>82.027018</td>\n",
       "      <td>95.744934</td>\n",
       "      <td>91.630146</td>\n",
       "    </tr>\n",
       "    <tr>\n",
       "      <th>2</th>\n",
       "      <td>0.684207</td>\n",
       "      <td>0.646386</td>\n",
       "      <td>0.681859</td>\n",
       "    </tr>\n",
       "  </tbody>\n",
       "</table>\n",
       "</div>"
      ],
      "text/plain": [
       "           0          0          0\n",
       "0   7.128310   7.853060   7.947480\n",
       "1  82.027018  95.744934  91.630146\n",
       "2   0.684207   0.646386   0.681859"
      ]
     },
     "execution_count": 67,
     "metadata": {},
     "output_type": "execute_result"
    }
   ],
   "source": [
    "metrics_df = pd.concat([linear, knn_df,sgd_df],axis = 1)\n",
    "metrics_df#.rename(columns = {0:\"linear\", 0: \"KNN1\", 2: \"SGD\" }, inplace=True)"
   ]
  },
  {
   "cell_type": "code",
   "execution_count": 70,
   "id": "363be053",
   "metadata": {},
   "outputs": [
    {
     "data": {
      "text/html": [
       "<div>\n",
       "<style scoped>\n",
       "    .dataframe tbody tr th:only-of-type {\n",
       "        vertical-align: middle;\n",
       "    }\n",
       "\n",
       "    .dataframe tbody tr th {\n",
       "        vertical-align: top;\n",
       "    }\n",
       "\n",
       "    .dataframe thead th {\n",
       "        text-align: right;\n",
       "    }\n",
       "</style>\n",
       "<table border=\"1\" class=\"dataframe\">\n",
       "  <thead>\n",
       "    <tr style=\"text-align: right;\">\n",
       "      <th></th>\n",
       "      <th>0</th>\n",
       "      <th>0</th>\n",
       "      <th>0</th>\n",
       "    </tr>\n",
       "  </thead>\n",
       "  <tbody>\n",
       "    <tr>\n",
       "      <th>mean_abs_error</th>\n",
       "      <td>7.128310</td>\n",
       "      <td>7.853060</td>\n",
       "      <td>7.947480</td>\n",
       "    </tr>\n",
       "    <tr>\n",
       "      <th>mean_squ_error</th>\n",
       "      <td>82.027018</td>\n",
       "      <td>95.744934</td>\n",
       "      <td>91.630146</td>\n",
       "    </tr>\n",
       "    <tr>\n",
       "      <th>r2_score</th>\n",
       "      <td>0.684207</td>\n",
       "      <td>0.646386</td>\n",
       "      <td>0.681859</td>\n",
       "    </tr>\n",
       "  </tbody>\n",
       "</table>\n",
       "</div>"
      ],
      "text/plain": [
       "                        0          0          0\n",
       "mean_abs_error   7.128310   7.853060   7.947480\n",
       "mean_squ_error  82.027018  95.744934  91.630146\n",
       "r2_score         0.684207   0.646386   0.681859"
      ]
     },
     "execution_count": 70,
     "metadata": {},
     "output_type": "execute_result"
    }
   ],
   "source": [
    "#metrics_df.rename(columns = [\"linear\", \"KNN\", \"SGD\"], inplace=True)\n",
    "metrics_df.rename(index={0: \"mean_abs_error\", 1: \"mean_squ_error\", 2: \"r2_score\" }, inplace=True)\n",
    "metrics_df"
   ]
  },
  {
   "cell_type": "code",
   "execution_count": 72,
   "id": "91e5b34b",
   "metadata": {},
   "outputs": [
    {
     "data": {
      "text/html": [
       "<div>\n",
       "<style scoped>\n",
       "    .dataframe tbody tr th:only-of-type {\n",
       "        vertical-align: middle;\n",
       "    }\n",
       "\n",
       "    .dataframe tbody tr th {\n",
       "        vertical-align: top;\n",
       "    }\n",
       "\n",
       "    .dataframe thead th {\n",
       "        text-align: right;\n",
       "    }\n",
       "</style>\n",
       "<table border=\"1\" class=\"dataframe\">\n",
       "  <thead>\n",
       "    <tr style=\"text-align: right;\">\n",
       "      <th></th>\n",
       "      <th>2</th>\n",
       "      <th>2</th>\n",
       "      <th>2</th>\n",
       "    </tr>\n",
       "  </thead>\n",
       "  <tbody>\n",
       "    <tr>\n",
       "      <th>mean_abs_error</th>\n",
       "      <td>7.128310</td>\n",
       "      <td>7.853060</td>\n",
       "      <td>7.947480</td>\n",
       "    </tr>\n",
       "    <tr>\n",
       "      <th>mean_squ_error</th>\n",
       "      <td>82.027018</td>\n",
       "      <td>95.744934</td>\n",
       "      <td>91.630146</td>\n",
       "    </tr>\n",
       "    <tr>\n",
       "      <th>r2_score</th>\n",
       "      <td>0.684207</td>\n",
       "      <td>0.646386</td>\n",
       "      <td>0.681859</td>\n",
       "    </tr>\n",
       "  </tbody>\n",
       "</table>\n",
       "</div>"
      ],
      "text/plain": [
       "                        2          2          2\n",
       "mean_abs_error   7.128310   7.853060   7.947480\n",
       "mean_squ_error  82.027018  95.744934  91.630146\n",
       "r2_score         0.684207   0.646386   0.681859"
      ]
     },
     "execution_count": 72,
     "metadata": {},
     "output_type": "execute_result"
    }
   ],
   "source": [
    "metrics_df.rename(columns = {0:\"linear\", 0:\"KNN\", 0:\"SGD\"}, inplace=True)\n",
    "metrics_df"
   ]
  },
  {
   "cell_type": "code",
   "execution_count": null,
   "id": "8bb6c4ef",
   "metadata": {},
   "outputs": [],
   "source": [
    "#metrics_df = metrics_df.T\n",
    "#metrics_df.rename(columns = {0:\"mean_abs_error\", 1: \"mean_squ_error\", 2: \"r2_score\" }, inplace=True)\n",
    "#metrics_df.set_index(\"linear\", inplace=True)\n",
    "metrics_df.rename(columns = {\"mean_abs_error\":linear}, inplace=True)"
   ]
  },
  {
   "cell_type": "code",
   "execution_count": 30,
   "id": "13449610",
   "metadata": {},
   "outputs": [
    {
     "name": "stderr",
     "output_type": "stream",
     "text": [
      "/var/folders/n9/s2d67hcd6m30qbm0pf_jfqy00000gn/T/ipykernel_54592/710091197.py:1: FutureWarning: The frame.append method is deprecated and will be removed from pandas in a future version. Use pandas.concat instead.\n",
      "  metrics_df.append(knn_reg.T)\n"
     ]
    },
    {
     "data": {
      "text/html": [
       "<div>\n",
       "<style scoped>\n",
       "    .dataframe tbody tr th:only-of-type {\n",
       "        vertical-align: middle;\n",
       "    }\n",
       "\n",
       "    .dataframe tbody tr th {\n",
       "        vertical-align: top;\n",
       "    }\n",
       "\n",
       "    .dataframe thead th {\n",
       "        text-align: right;\n",
       "    }\n",
       "</style>\n",
       "<table border=\"1\" class=\"dataframe\">\n",
       "  <thead>\n",
       "    <tr style=\"text-align: right;\">\n",
       "      <th></th>\n",
       "      <th>mean_abs_error</th>\n",
       "      <th>mean_squ_error</th>\n",
       "      <th>r2_score</th>\n",
       "      <th>0</th>\n",
       "      <th>1</th>\n",
       "      <th>2</th>\n",
       "    </tr>\n",
       "  </thead>\n",
       "  <tbody>\n",
       "    <tr>\n",
       "      <th>0</th>\n",
       "      <td>7.430035</td>\n",
       "      <td>86.164902</td>\n",
       "      <td>0.681061</td>\n",
       "      <td>NaN</td>\n",
       "      <td>NaN</td>\n",
       "      <td>NaN</td>\n",
       "    </tr>\n",
       "    <tr>\n",
       "      <th>0</th>\n",
       "      <td>NaN</td>\n",
       "      <td>NaN</td>\n",
       "      <td>NaN</td>\n",
       "      <td>7.85306</td>\n",
       "      <td>95.744934</td>\n",
       "      <td>0.646386</td>\n",
       "    </tr>\n",
       "  </tbody>\n",
       "</table>\n",
       "</div>"
      ],
      "text/plain": [
       "   mean_abs_error  mean_squ_error  r2_score        0          1         2\n",
       "0        7.430035       86.164902  0.681061      NaN        NaN       NaN\n",
       "0             NaN             NaN       NaN  7.85306  95.744934  0.646386"
      ]
     },
     "execution_count": 30,
     "metadata": {},
     "output_type": "execute_result"
    }
   ],
   "source": [
    "metrics_df.append(knn_reg.T)"
   ]
  }
 ],
 "metadata": {
  "kernelspec": {
   "display_name": "Python 3 (ipykernel)",
   "language": "python",
   "name": "python3"
  },
  "language_info": {
   "codemirror_mode": {
    "name": "ipython",
    "version": 3
   },
   "file_extension": ".py",
   "mimetype": "text/x-python",
   "name": "python",
   "nbconvert_exporter": "python",
   "pygments_lexer": "ipython3",
   "version": "3.8.12"
  },
  "toc": {
   "base_numbering": 1,
   "nav_menu": {},
   "number_sections": true,
   "sideBar": true,
   "skip_h1_title": false,
   "title_cell": "Table of Contents",
   "title_sidebar": "Contents",
   "toc_cell": false,
   "toc_position": {},
   "toc_section_display": true,
   "toc_window_display": false
  }
 },
 "nbformat": 4,
 "nbformat_minor": 5
}
