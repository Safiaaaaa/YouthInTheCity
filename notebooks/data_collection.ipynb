{
 "cells": [
  {
   "cell_type": "code",
   "execution_count": 1,
   "id": "0ef7f339",
   "metadata": {},
   "outputs": [
    {
     "ename": "ModuleNotFoundError",
     "evalue": "No module named 'pygeos'",
     "output_type": "error",
     "traceback": [
      "\u001b[0;31m---------------------------------------------------------------------------\u001b[0m",
      "\u001b[0;31mModuleNotFoundError\u001b[0m                       Traceback (most recent call last)",
      "\u001b[0;32m/var/folders/n9/s2d67hcd6m30qbm0pf_jfqy00000gn/T/ipykernel_20273/1781288392.py\u001b[0m in \u001b[0;36m<module>\u001b[0;34m\u001b[0m\n\u001b[1;32m      3\u001b[0m \u001b[0;32mimport\u001b[0m \u001b[0mmatplotlib\u001b[0m\u001b[0;34m.\u001b[0m\u001b[0mpyplot\u001b[0m \u001b[0;32mas\u001b[0m \u001b[0mplt\u001b[0m\u001b[0;34m\u001b[0m\u001b[0;34m\u001b[0m\u001b[0m\n\u001b[1;32m      4\u001b[0m \u001b[0;32mimport\u001b[0m \u001b[0mgeopandas\u001b[0m \u001b[0;32mas\u001b[0m \u001b[0mgp\u001b[0m\u001b[0;34m\u001b[0m\u001b[0;34m\u001b[0m\u001b[0m\n\u001b[0;32m----> 5\u001b[0;31m \u001b[0;32mimport\u001b[0m \u001b[0mpygeos\u001b[0m\u001b[0;34m\u001b[0m\u001b[0;34m\u001b[0m\u001b[0m\n\u001b[0m\u001b[1;32m      6\u001b[0m \u001b[0;32mimport\u001b[0m \u001b[0mrtree\u001b[0m\u001b[0;34m\u001b[0m\u001b[0;34m\u001b[0m\u001b[0m\n\u001b[1;32m      7\u001b[0m \u001b[0;32mfrom\u001b[0m \u001b[0mtime\u001b[0m \u001b[0;32mimport\u001b[0m \u001b[0msleep\u001b[0m\u001b[0;34m\u001b[0m\u001b[0;34m\u001b[0m\u001b[0m\n",
      "\u001b[0;31mModuleNotFoundError\u001b[0m: No module named 'pygeos'"
     ]
    }
   ],
   "source": [
    "import pandas as pd\n",
    "import numpy as np\n",
    "import matplotlib.pyplot as plt\n",
    "import geopandas as gp\n",
    "import pygeos\n",
    "import rtree\n",
    "from time import sleep\n"
   ]
  },
  {
   "cell_type": "code",
   "execution_count": null,
   "id": "a92373fe",
   "metadata": {},
   "outputs": [],
   "source": [
    "gp.read_file('../raw_data/housing_data.shp')"
   ]
  },
  {
   "cell_type": "markdown",
   "id": "dd1acdfe",
   "metadata": {},
   "source": [
    "# Loading migration data"
   ]
  },
  {
   "cell_type": "code",
   "execution_count": null,
   "id": "5513472c",
   "metadata": {},
   "outputs": [],
   "source": [
    "mig_data = pd.read_csv('../raw_data/EWRMIGRA202012E_Matrix.csv', sep=';')\n",
    "gen_data = pd.read_csv('../raw_data/EWR202012E_Matrix.csv', sep=';')\n",
    "\n",
    "migration = mig_data[['ZEIT','RAUMID', 'MH_E', 'MH_EM', 'MH_EW']].merge(gen_data[['RAUMID', 'E_E' ,'E_EM', 'E_EW', 'E_E00_01',\n",
    "       'E_E01_02', 'E_E02_03', 'E_E03_05', 'E_E05_06', 'E_E06_07', 'E_E07_08',\n",
    "       'E_E08_10', 'E_E10_12', 'E_E12_14', 'E_E14_15', 'E_E15_18', 'E_E18_21',\n",
    "       'E_E21_25', 'E_E25_27', 'E_E27_30', 'E_E30_35', 'E_E35_40', 'E_E40_45',\n",
    "       'E_E45_50', 'E_E50_55', 'E_E55_60', 'E_E60_63', 'E_E63_65', 'E_E65_67',\n",
    "       'E_E67_70', 'E_E70_75', 'E_E75_80', 'E_E80_85', 'E_E85_90', 'E_E90_95',\n",
    "       'E_E95_110']], on='RAUMID')\n",
    "\n",
    "migration.to_csv('../data/migration_data.csv')"
   ]
  },
  {
   "cell_type": "markdown",
   "id": "5809c861",
   "metadata": {},
   "source": [
    "# Loading school data"
   ]
  },
  {
   "cell_type": "code",
   "execution_count": null,
   "id": "fe8be76f",
   "metadata": {},
   "outputs": [],
   "source": [
    "schools_list = pd.read_excel('../raw_data/Schulen.xlsx')\n",
    "\n",
    "schools_list = schools_list.drop(index=0)\n",
    "new_header = schools_list.iloc[0] #grab the first row for the header\n",
    "schools_list = schools_list[1:] #take the data less the header row\n",
    "schools_list.columns = new_header #set the header row as the df header\n",
    "\n",
    "schools_list = schools_list[schools_list.Traeger!='privat']\n",
    "schools_list = schools_list[['BSN', 'NAME', 'Bezirk', 'PLZ', 'Adresse']]\n",
    "\n",
    "schools_list"
   ]
  },
  {
   "cell_type": "code",
   "execution_count": null,
   "id": "774c8409",
   "metadata": {},
   "outputs": [],
   "source": [
    "schools_stat = pd.read_excel('../raw_data/schools_stat.xlsx')\n",
    "\n",
    "new_header = schools_stat.iloc[0] #grab the first row for the header\n",
    "schools_stat = schools_stat[1:] #take the data less the header row\n",
    "schools_stat.columns = new_header #set the header row as the df header\n",
    "\n",
    "schools_stat.columns = ['School_year', 'BSN', 'NAME', 'children', 'children_f',\n",
    "       'children_m', 'teachers', 'teachers_f', 'teachers_m']\n",
    "\n",
    "schools_stat = schools_stat.drop(columns='NAME')"
   ]
  },
  {
   "cell_type": "code",
   "execution_count": null,
   "id": "5e29bd6f",
   "metadata": {},
   "outputs": [],
   "source": [
    "schools = schools_list.merge(schools_stat, how='left', on='BSN')\n",
    "schools"
   ]
  },
  {
   "cell_type": "code",
   "execution_count": null,
   "id": "1630215d",
   "metadata": {},
   "outputs": [],
   "source": [
    "sum_children = schools.children.sum()\n",
    "schools[\"teachers_rate\"]= schools.teachers / schools.children\n",
    "schools[\"capacity_rate\"]= schools.children / sum_children\n",
    "\n",
    "schools.to_csv('../data/schools.csv', index=False)\n",
    "\n",
    "pd.read_csv('../data/schools.csv')"
   ]
  },
  {
   "cell_type": "markdown",
   "id": "6e5d086c",
   "metadata": {},
   "source": [
    "## Fixing formatting issues "
   ]
  },
  {
   "cell_type": "code",
   "execution_count": null,
   "id": "979ac7ef",
   "metadata": {},
   "outputs": [],
   "source": [
    "schools['Adresses'] = schools.Adresse + ' ' + schools.PLZ.astype(str) + ' Berlin'\n",
    "\n",
    "schools['Adresses'].iloc[111] = 'Spandauer Damm 205 14050 Berlin'\n",
    "schools['Adresses'].iloc[132] = 'Maikaerpfad 30 14055 Berlin'\n",
    "\n",
    "schools['Adresses'].iloc[132] = 'Maikaerpfad 30 14055 Berlin'\n",
    "\n",
    "schools['Adresses'].iloc[153] = 'Raenitzer Steig 12 13593 Berlin'\n",
    "\n",
    "schools['NAME'].iloc[171] = 'Flaeming-Grundschule'\n",
    "schools['Adresses'].iloc[171] = 'Illstr. 4 12161 Berlin'\n",
    "schools['Adresses'].iloc[250]= 'An den Achterhöfen 13 12349 Berlin'\n",
    "\n",
    "schools['Adresses'].iloc[255]= 'Wildhüterweg 5, 12353 Berlin'\n",
    "\n",
    "schools['Adresses'].iloc[171] = 'Ludwigsfelder Str. 43 14165 Berlin'\n",
    "\n",
    "schools['Adresses'].iloc[258] = 'Haenselstr. 6 12057 Berlin'\n",
    "schools['NAME'].iloc[258] = 'Schule in der Koellnischen Heide'\n",
    "\n",
    "schools['Adresses'].iloc[262] = 'Haenselstr. 14 12437 Berlin'\n",
    "\n",
    "schools['Adresses'].iloc[307] = 'Erich-Kaestner-Straße 64 12619 Berlin'\n",
    "\n",
    "schools['Adresses'].iloc[317] = 'Bernhard-Baestlein-Straße 22 10367 Berlin'\n",
    "\n",
    "schools['Adresses'].iloc[340] = 'Dolgenseestraße 60 10319 Berlin'\n",
    "\n",
    "schools['Adresses'].iloc[341] = 'Bernhard-Baestlein-Straße 56 10367 Berlin'\n",
    "\n",
    "schools['Adresses'].iloc[350] = 'Hollaenderstraße 25-30, 13407 Berlin'\n",
    "schools['NAME'].iloc[350] = 'Grundschule am Schaersee'\n",
    "\n",
    "schools['Adresses'].iloc[356] = 'Tornower Weg 26 13439 Berlin'\n"
   ]
  },
  {
   "cell_type": "code",
   "execution_count": null,
   "id": "e44cd93b",
   "metadata": {},
   "outputs": [],
   "source": [
    "schools"
   ]
  },
  {
   "cell_type": "markdown",
   "id": "156fe7c5",
   "metadata": {},
   "source": [
    "## Geocoding schools addresses"
   ]
  },
  {
   "cell_type": "code",
   "execution_count": null,
   "id": "77208f6e",
   "metadata": {},
   "outputs": [],
   "source": [
    "schools_location = gp.GeoDataFrame({'location':range(0,379)})\n"
   ]
  },
  {
   "cell_type": "code",
   "execution_count": null,
   "id": "48a53254",
   "metadata": {},
   "outputs": [],
   "source": [
    "for i in schools.index: \n",
    "    sleep(5)\n",
    "    schools_location['location'].iloc[i] = gp.tools.geocode(schools.Adresses[i])['geometry'].iloc[0]"
   ]
  },
  {
   "cell_type": "code",
   "execution_count": null,
   "id": "6c68dffc",
   "metadata": {},
   "outputs": [],
   "source": [
    "schools_loc1 = gp.tools.geocode(schools.Adresses[0:100])"
   ]
  },
  {
   "cell_type": "code",
   "execution_count": null,
   "id": "5a6d1752",
   "metadata": {},
   "outputs": [],
   "source": [
    "schools_loc3 = gp.tools.geocode(schools.Adresses[100:200])"
   ]
  },
  {
   "cell_type": "code",
   "execution_count": null,
   "id": "31ea8760",
   "metadata": {},
   "outputs": [],
   "source": [
    "schools_loc3 = gp.tools.geocode(schools.Adresses[200:300])"
   ]
  },
  {
   "cell_type": "code",
   "execution_count": null,
   "id": "c355a280",
   "metadata": {},
   "outputs": [],
   "source": [
    "schools_loc4 = gp.tools.geocode(schools.Adresses[300:])"
   ]
  },
  {
   "cell_type": "code",
   "execution_count": null,
   "id": "6d89eea6",
   "metadata": {},
   "outputs": [],
   "source": [
    "schools_location = pd.concat([schools_loc1, schools_loc2, schools_loc3, schools_loc4], axis=0)"
   ]
  },
  {
   "cell_type": "code",
   "execution_count": null,
   "id": "8484c4f1",
   "metadata": {},
   "outputs": [],
   "source": [
    "schools['location'] = schools_location['geometry']"
   ]
  },
  {
   "cell_type": "code",
   "execution_count": null,
   "id": "f1ce3a14",
   "metadata": {},
   "outputs": [],
   "source": [
    "indexes = [250, 255, 258,  260, 262]\n",
    "\n",
    "for i in indexes: \n",
    "    schools[['location']].iloc[i] = gp.tools.geocode(schools.Adresses[i])['geometry'].iloc[0]\n",
    "    schools['Adresses'].iloc[i] = schools['Adresses'].iloc[i]"
   ]
  },
  {
   "cell_type": "code",
   "execution_count": null,
   "id": "2c731e5e",
   "metadata": {},
   "outputs": [],
   "source": [
    "indexes = [307, 317, 340, 341, 350, 356]\n",
    "\n",
    "for i in indexes: \n",
    "    schools[['location']].iloc[i] = gp.tools.geocode(schools.Adresses[i])['geometry'].iloc[0]\n",
    "    schools['Adresses'].iloc[i] = schools['Adresses'].iloc[i]"
   ]
  },
  {
   "cell_type": "code",
   "execution_count": null,
   "id": "0dba8d80",
   "metadata": {},
   "outputs": [],
   "source": [
    "schools[schools.location.isna()]"
   ]
  },
  {
   "cell_type": "code",
   "execution_count": null,
   "id": "b432799c",
   "metadata": {},
   "outputs": [],
   "source": [
    "schools_geo = gp.GeoDataFrame(\n",
    "    schools, geometry=schools.location)"
   ]
  },
  {
   "cell_type": "code",
   "execution_count": null,
   "id": "f087c590",
   "metadata": {},
   "outputs": [],
   "source": [
    "schools_geo.isna().sum()"
   ]
  },
  {
   "cell_type": "code",
   "execution_count": null,
   "id": "a5512768",
   "metadata": {},
   "outputs": [],
   "source": [
    "schools_geo = schools_geo.to_crs(epsg=(3857))"
   ]
  },
  {
   "cell_type": "code",
   "execution_count": null,
   "id": "2b6fd267",
   "metadata": {},
   "outputs": [],
   "source": [
    "school_districts = gp.read_file('/Users/Safia/Documents/Mapping_Social_Inequalities/Maps/ESB2012_WGS84_EWR2012-12/ESB2012_WGS84_EWR2012-12.shp')\n"
   ]
  },
  {
   "cell_type": "code",
   "execution_count": null,
   "id": "2a170ae7",
   "metadata": {},
   "outputs": [],
   "source": [
    "schools_points = school_districts.sjoin(schools_geo, how='right', predicate = 'intersects')"
   ]
  },
  {
   "cell_type": "code",
   "execution_count": null,
   "id": "ad94a6b3",
   "metadata": {},
   "outputs": [],
   "source": [
    "#schools['location'].iloc[204] = gp.tools.geocode(schools.Adresses[204])['geometry'].iloc[0]"
   ]
  },
  {
   "cell_type": "code",
   "execution_count": null,
   "id": "abdc47c0",
   "metadata": {
    "scrolled": true
   },
   "outputs": [],
   "source": [
    "schools_points[schools_points.ESB.isna() == True]"
   ]
  },
  {
   "cell_type": "code",
   "execution_count": null,
   "id": "2b3f7db5",
   "metadata": {},
   "outputs": [],
   "source": [
    "missings = schools_geo[schools_points.ESB.isna() == True]"
   ]
  },
  {
   "cell_type": "code",
   "execution_count": null,
   "id": "5783074b",
   "metadata": {},
   "outputs": [],
   "source": [
    "missings_nearest_merge = school_districts.sjoin_nearest(\n",
    "        missings, how='right')"
   ]
  },
  {
   "cell_type": "code",
   "execution_count": null,
   "id": "428b81fd",
   "metadata": {},
   "outputs": [],
   "source": [
    "missings_nearest_merge"
   ]
  },
  {
   "cell_type": "code",
   "execution_count": null,
   "id": "066550ad",
   "metadata": {},
   "outputs": [],
   "source": [
    "schools_points.iloc[255] = missings_nearest_merge.iloc[0]\n",
    "schools_points.iloc[260] = missings_nearest_merge.iloc[1]"
   ]
  },
  {
   "cell_type": "code",
   "execution_count": null,
   "id": "8ed1f2d8",
   "metadata": {},
   "outputs": [],
   "source": [
    "fig, ax = plt.subplots(figsize=(15, 15))\n",
    "school_districts.plot(column=('ESB'), ax=ax)\n",
    "schools_points.plot(ax = ax)\n"
   ]
  },
  {
   "cell_type": "code",
   "execution_count": null,
   "id": "bc7d116a",
   "metadata": {},
   "outputs": [],
   "source": [
    "ESB2018 = gp.read_file('/Users/Safia/Documents/Mapping_Social_Inequalities/Maps/Berlin_Grundschuleinzugsbereiche20182019_25833.shp')\n",
    "\n",
    "\n"
   ]
  },
  {
   "cell_type": "code",
   "execution_count": null,
   "id": "31b7bde8",
   "metadata": {},
   "outputs": [],
   "source": [
    "ESB2018.head()"
   ]
  },
  {
   "cell_type": "code",
   "execution_count": null,
   "id": "50a9e356",
   "metadata": {},
   "outputs": [],
   "source": [
    "ESB2018.plot(column='ESB', figsize=(15,15))"
   ]
  },
  {
   "cell_type": "code",
   "execution_count": null,
   "id": "30585596",
   "metadata": {},
   "outputs": [],
   "source": [
    "school_districts.plot(column='ESB', figsize=(15,15))"
   ]
  },
  {
   "cell_type": "code",
   "execution_count": null,
   "id": "e43a496c",
   "metadata": {},
   "outputs": [],
   "source": [
    "schools_points.to_csv('schools_location')"
   ]
  },
  {
   "cell_type": "code",
   "execution_count": null,
   "id": "1155315f",
   "metadata": {},
   "outputs": [],
   "source": [
    "schools_points.head()"
   ]
  },
  {
   "cell_type": "code",
   "execution_count": null,
   "id": "6c460842",
   "metadata": {},
   "outputs": [],
   "source": [
    "schools_info = schools_points[['BSN', 'NAME', 'ESB', 'BEZ', 'FLAECHE_HA','School_year', 'children',\n",
    "       'children_f', 'children_m', 'teachers', 'teachers_f', 'teachers_m',\n",
    "       'teachers_rate', 'capacity_rate', 'Adresses','Bezirk', 'location', 'geometry','EW_insgesa', 'EW_U6',\n",
    "       'EW_6U14', 'EW_14U18', 'EW_18U25', 'EW_25U45', 'EW_45U65', 'EW_65plus',\n",
    "       ]]"
   ]
  },
  {
   "cell_type": "code",
   "execution_count": null,
   "id": "70d33f0f",
   "metadata": {},
   "outputs": [],
   "source": [
    "schools_info"
   ]
  },
  {
   "cell_type": "code",
   "execution_count": null,
   "id": "0b8abf1c",
   "metadata": {},
   "outputs": [],
   "source": [
    "shape2 = gp.read_file('/Users/Safia/Documents/Mapping_Social_Inequalities/Maps/blockflaechen22.shp')"
   ]
  },
  {
   "cell_type": "code",
   "execution_count": null,
   "id": "2f3d8678",
   "metadata": {},
   "outputs": [],
   "source": [
    "shape2 = shape2.to_crs(epsg=3857)"
   ]
  },
  {
   "cell_type": "code",
   "execution_count": null,
   "id": "5072b168",
   "metadata": {},
   "outputs": [],
   "source": [
    "shape2.head(3)"
   ]
  },
  {
   "cell_type": "code",
   "execution_count": null,
   "id": "ac875c52",
   "metadata": {},
   "outputs": [],
   "source": [
    "shape.head(3)"
   ]
  },
  {
   "cell_type": "code",
   "execution_count": null,
   "id": "d0e12135",
   "metadata": {},
   "outputs": [],
   "source": [
    "shape3 = shape.overlay(shape2)"
   ]
  },
  {
   "cell_type": "code",
   "execution_count": null,
   "id": "a921f1d9",
   "metadata": {},
   "outputs": [],
   "source": [
    "shape3.head(3)"
   ]
  },
  {
   "cell_type": "code",
   "execution_count": null,
   "id": "4b2b7d04",
   "metadata": {},
   "outputs": [],
   "source": [
    "shape3.plot(figsize=[15,15])"
   ]
  },
  {
   "cell_type": "code",
   "execution_count": null,
   "id": "3e35b23d",
   "metadata": {},
   "outputs": [],
   "source": []
  }
 ],
 "metadata": {
  "kernelspec": {
   "display_name": "Python 3 (ipykernel)",
   "language": "python",
   "name": "python3"
  },
  "language_info": {
   "codemirror_mode": {
    "name": "ipython",
    "version": 3
   },
   "file_extension": ".py",
   "mimetype": "text/x-python",
   "name": "python",
   "nbconvert_exporter": "python",
   "pygments_lexer": "ipython3",
   "version": "3.8.12"
  },
  "toc": {
   "base_numbering": 1,
   "nav_menu": {},
   "number_sections": true,
   "sideBar": true,
   "skip_h1_title": false,
   "title_cell": "Table of Contents",
   "title_sidebar": "Contents",
   "toc_cell": false,
   "toc_position": {},
   "toc_section_display": true,
   "toc_window_display": false
  }
 },
 "nbformat": 4,
 "nbformat_minor": 5
}
