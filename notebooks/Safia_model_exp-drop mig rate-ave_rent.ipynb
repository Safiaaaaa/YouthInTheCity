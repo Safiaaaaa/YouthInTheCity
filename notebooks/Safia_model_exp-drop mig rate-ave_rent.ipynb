{
 "cells": [
  {
   "cell_type": "markdown",
   "id": "bc80743b",
   "metadata": {},
   "source": [
    "***This Gridsearch drop migration rate***"
   ]
  },
  {
   "cell_type": "code",
   "execution_count": 102,
   "id": "3b428949",
   "metadata": {},
   "outputs": [],
   "source": [
    "import pandas as pd\n",
    "import geopandas as gpd\n",
    "import numpy as np\n",
    "import matplotlib.pyplot as plt\n",
    "from sklearn.neighbors import KNeighborsRegressor\n",
    "from sklearn.linear_model import SGDRegressor, LinearRegression\n",
    "import seaborn as sns\n",
    "import joblib\n",
    "from termcolor import colored\n",
    "import mlflow\n",
    "from memoized_property import memoized_property\n",
    "from mlflow.tracking import MlflowClient\n",
    "from sklearn.compose import ColumnTransformer\n",
    "from sklearn.linear_model import LinearRegression\n",
    "from sklearn.model_selection import train_test_split, GridSearchCV\n",
    "from sklearn.pipeline import Pipeline\n",
    "from sklearn.preprocessing import RobustScaler\n",
    "from sklearn.impute import KNNImputer\n",
    "from sklearn.metrics import r2_score, mean_squared_error, mean_absolute_error\n",
    "from sklearn.model_selection import cross_val_score, cross_validate\n",
    "from sklearn.svm import SVR"
   ]
  },
  {
   "cell_type": "code",
   "execution_count": 103,
   "id": "60ae1817",
   "metadata": {},
   "outputs": [
    {
     "data": {
      "text/html": [
       "<div>\n",
       "<style scoped>\n",
       "    .dataframe tbody tr th:only-of-type {\n",
       "        vertical-align: middle;\n",
       "    }\n",
       "\n",
       "    .dataframe tbody tr th {\n",
       "        vertical-align: top;\n",
       "    }\n",
       "\n",
       "    .dataframe thead th {\n",
       "        text-align: right;\n",
       "    }\n",
       "</style>\n",
       "<table border=\"1\" class=\"dataframe\">\n",
       "  <thead>\n",
       "    <tr style=\"text-align: right;\">\n",
       "      <th></th>\n",
       "      <th>PLR_ID</th>\n",
       "      <th>culture</th>\n",
       "      <th>outdoor_fa</th>\n",
       "      <th>outdoor_le</th>\n",
       "      <th>social_hou</th>\n",
       "      <th>public_hou</th>\n",
       "      <th>child_pov</th>\n",
       "      <th>vegpm20</th>\n",
       "      <th>Gymnasium</th>\n",
       "      <th>kita</th>\n",
       "      <th>stations</th>\n",
       "      <th>geometry</th>\n",
       "      <th>extra_edu</th>\n",
       "    </tr>\n",
       "  </thead>\n",
       "  <tbody>\n",
       "    <tr>\n",
       "      <th>0</th>\n",
       "      <td>11501341</td>\n",
       "      <td>2.0</td>\n",
       "      <td>224.0</td>\n",
       "      <td>8.0</td>\n",
       "      <td>1.302637</td>\n",
       "      <td>24.830919</td>\n",
       "      <td>2.58</td>\n",
       "      <td>3.456812</td>\n",
       "      <td>0.0</td>\n",
       "      <td>20.0</td>\n",
       "      <td>10.0</td>\n",
       "      <td>POLYGON ((399848.954 5815619.506, 399854.727 5...</td>\n",
       "      <td>1.0</td>\n",
       "    </tr>\n",
       "    <tr>\n",
       "      <th>1</th>\n",
       "      <td>3701659</td>\n",
       "      <td>12.0</td>\n",
       "      <td>130.0</td>\n",
       "      <td>10.0</td>\n",
       "      <td>0.390507</td>\n",
       "      <td>12.771489</td>\n",
       "      <td>8.13</td>\n",
       "      <td>2.896211</td>\n",
       "      <td>1.0</td>\n",
       "      <td>47.0</td>\n",
       "      <td>13.0</td>\n",
       "      <td>POLYGON ((393175.012 5821135.577, 393167.174 5...</td>\n",
       "      <td>6.0</td>\n",
       "    </tr>\n",
       "    <tr>\n",
       "      <th>2</th>\n",
       "      <td>7601340</td>\n",
       "      <td>1.0</td>\n",
       "      <td>4.0</td>\n",
       "      <td>6.0</td>\n",
       "      <td>12.720000</td>\n",
       "      <td>26.730000</td>\n",
       "      <td>41.68</td>\n",
       "      <td>2.648765</td>\n",
       "      <td>0.0</td>\n",
       "      <td>17.0</td>\n",
       "      <td>0.0</td>\n",
       "      <td>POLYGON ((388394.110 5807792.070, 388379.276 5...</td>\n",
       "      <td>0.0</td>\n",
       "    </tr>\n",
       "    <tr>\n",
       "      <th>3</th>\n",
       "      <td>2500831</td>\n",
       "      <td>7.0</td>\n",
       "      <td>221.0</td>\n",
       "      <td>14.0</td>\n",
       "      <td>0.740000</td>\n",
       "      <td>8.370000</td>\n",
       "      <td>21.15</td>\n",
       "      <td>2.706697</td>\n",
       "      <td>2.0</td>\n",
       "      <td>41.0</td>\n",
       "      <td>13.0</td>\n",
       "      <td>POLYGON ((396010.552 5819339.570, 396021.567 5...</td>\n",
       "      <td>2.0</td>\n",
       "    </tr>\n",
       "    <tr>\n",
       "      <th>4</th>\n",
       "      <td>12601134</td>\n",
       "      <td>0.0</td>\n",
       "      <td>85.0</td>\n",
       "      <td>24.0</td>\n",
       "      <td>1.560000</td>\n",
       "      <td>42.230000</td>\n",
       "      <td>51.53</td>\n",
       "      <td>3.861459</td>\n",
       "      <td>1.0</td>\n",
       "      <td>24.0</td>\n",
       "      <td>2.0</td>\n",
       "      <td>POLYGON ((387367.428 5828619.763, 387315.862 5...</td>\n",
       "      <td>1.0</td>\n",
       "    </tr>\n",
       "    <tr>\n",
       "      <th>...</th>\n",
       "      <td>...</td>\n",
       "      <td>...</td>\n",
       "      <td>...</td>\n",
       "      <td>...</td>\n",
       "      <td>...</td>\n",
       "      <td>...</td>\n",
       "      <td>...</td>\n",
       "      <td>...</td>\n",
       "      <td>...</td>\n",
       "      <td>...</td>\n",
       "      <td>...</td>\n",
       "      <td>...</td>\n",
       "      <td>...</td>\n",
       "    </tr>\n",
       "    <tr>\n",
       "      <th>531</th>\n",
       "      <td>12500927</td>\n",
       "      <td>0.0</td>\n",
       "      <td>61.0</td>\n",
       "      <td>9.0</td>\n",
       "      <td>1.560000</td>\n",
       "      <td>42.230000</td>\n",
       "      <td>20.69</td>\n",
       "      <td>5.223326</td>\n",
       "      <td>2.0</td>\n",
       "      <td>27.0</td>\n",
       "      <td>4.0</td>\n",
       "      <td>POLYGON ((387280.650 5828614.114, 387266.882 5...</td>\n",
       "      <td>0.0</td>\n",
       "    </tr>\n",
       "    <tr>\n",
       "      <th>532</th>\n",
       "      <td>3200204</td>\n",
       "      <td>0.0</td>\n",
       "      <td>75.0</td>\n",
       "      <td>8.0</td>\n",
       "      <td>3.209599</td>\n",
       "      <td>3.458242</td>\n",
       "      <td>4.24</td>\n",
       "      <td>3.389884</td>\n",
       "      <td>0.0</td>\n",
       "      <td>7.0</td>\n",
       "      <td>2.0</td>\n",
       "      <td>POLYGON ((392586.179 5829994.574, 392586.626 5...</td>\n",
       "      <td>0.0</td>\n",
       "    </tr>\n",
       "    <tr>\n",
       "      <th>533</th>\n",
       "      <td>10400941</td>\n",
       "      <td>1.0</td>\n",
       "      <td>45.0</td>\n",
       "      <td>4.0</td>\n",
       "      <td>0.550044</td>\n",
       "      <td>0.751582</td>\n",
       "      <td>2.89</td>\n",
       "      <td>2.551829</td>\n",
       "      <td>0.0</td>\n",
       "      <td>12.0</td>\n",
       "      <td>12.0</td>\n",
       "      <td>POLYGON ((406064.851 5815581.891, 406061.455 5...</td>\n",
       "      <td>0.0</td>\n",
       "    </tr>\n",
       "    <tr>\n",
       "      <th>534</th>\n",
       "      <td>8100101</td>\n",
       "      <td>18.0</td>\n",
       "      <td>342.0</td>\n",
       "      <td>1.0</td>\n",
       "      <td>6.729473</td>\n",
       "      <td>9.548275</td>\n",
       "      <td>40.42</td>\n",
       "      <td>6.286957</td>\n",
       "      <td>1.0</td>\n",
       "      <td>47.0</td>\n",
       "      <td>3.0</td>\n",
       "      <td>POLYGON ((391887.140 5816592.598, 391898.686 5...</td>\n",
       "      <td>2.0</td>\n",
       "    </tr>\n",
       "    <tr>\n",
       "      <th>535</th>\n",
       "      <td>11300616</td>\n",
       "      <td>0.0</td>\n",
       "      <td>156.0</td>\n",
       "      <td>2.0</td>\n",
       "      <td>0.594239</td>\n",
       "      <td>32.749032</td>\n",
       "      <td>48.94</td>\n",
       "      <td>4.519987</td>\n",
       "      <td>1.0</td>\n",
       "      <td>11.0</td>\n",
       "      <td>13.0</td>\n",
       "      <td>POLYGON ((395625.330 5821110.205, 395642.331 5...</td>\n",
       "      <td>0.0</td>\n",
       "    </tr>\n",
       "  </tbody>\n",
       "</table>\n",
       "<p>536 rows × 13 columns</p>\n",
       "</div>"
      ],
      "text/plain": [
       "       PLR_ID  culture  outdoor_fa  outdoor_le  social_hou  public_hou  \\\n",
       "0    11501341      2.0       224.0         8.0    1.302637   24.830919   \n",
       "1     3701659     12.0       130.0        10.0    0.390507   12.771489   \n",
       "2     7601340      1.0         4.0         6.0   12.720000   26.730000   \n",
       "3     2500831      7.0       221.0        14.0    0.740000    8.370000   \n",
       "4    12601134      0.0        85.0        24.0    1.560000   42.230000   \n",
       "..        ...      ...         ...         ...         ...         ...   \n",
       "531  12500927      0.0        61.0         9.0    1.560000   42.230000   \n",
       "532   3200204      0.0        75.0         8.0    3.209599    3.458242   \n",
       "533  10400941      1.0        45.0         4.0    0.550044    0.751582   \n",
       "534   8100101     18.0       342.0         1.0    6.729473    9.548275   \n",
       "535  11300616      0.0       156.0         2.0    0.594239   32.749032   \n",
       "\n",
       "     child_pov   vegpm20  Gymnasium  kita  stations  \\\n",
       "0         2.58  3.456812        0.0  20.0      10.0   \n",
       "1         8.13  2.896211        1.0  47.0      13.0   \n",
       "2        41.68  2.648765        0.0  17.0       0.0   \n",
       "3        21.15  2.706697        2.0  41.0      13.0   \n",
       "4        51.53  3.861459        1.0  24.0       2.0   \n",
       "..         ...       ...        ...   ...       ...   \n",
       "531      20.69  5.223326        2.0  27.0       4.0   \n",
       "532       4.24  3.389884        0.0   7.0       2.0   \n",
       "533       2.89  2.551829        0.0  12.0      12.0   \n",
       "534      40.42  6.286957        1.0  47.0       3.0   \n",
       "535      48.94  4.519987        1.0  11.0      13.0   \n",
       "\n",
       "                                              geometry  extra_edu  \n",
       "0    POLYGON ((399848.954 5815619.506, 399854.727 5...        1.0  \n",
       "1    POLYGON ((393175.012 5821135.577, 393167.174 5...        6.0  \n",
       "2    POLYGON ((388394.110 5807792.070, 388379.276 5...        0.0  \n",
       "3    POLYGON ((396010.552 5819339.570, 396021.567 5...        2.0  \n",
       "4    POLYGON ((387367.428 5828619.763, 387315.862 5...        1.0  \n",
       "..                                                 ...        ...  \n",
       "531  POLYGON ((387280.650 5828614.114, 387266.882 5...        0.0  \n",
       "532  POLYGON ((392586.179 5829994.574, 392586.626 5...        0.0  \n",
       "533  POLYGON ((406064.851 5815581.891, 406061.455 5...        0.0  \n",
       "534  POLYGON ((391887.140 5816592.598, 391898.686 5...        2.0  \n",
       "535  POLYGON ((395625.330 5821110.205, 395642.331 5...        0.0  \n",
       "\n",
       "[536 rows x 13 columns]"
      ]
     },
     "execution_count": 103,
     "metadata": {},
     "output_type": "execute_result"
    }
   ],
   "source": [
    "df = gpd.read_file('../YouthInTheCity/data/regression_gdf.shp')\n",
    "\n",
    "# Select features manually\n",
    "\n",
    "df['extra_edu']=df.loc[:,'education']\n",
    "\n",
    "df.drop(columns=['schools', 'universiti', 'kindergart','HK_EU15', 'HK_EU28', 'HK_Polen', 'HK_EheJug', 'HK_EheSU', 'HK_Turk',\n",
    "              'schools', 'universiti','kindergart','night_life',\n",
    "                       'mig_rate','HK_Arab', 'HK_Sonst', 'HK_NZOrd', 'BZR_NAME', \n",
    "              'noise',  'health_car', 'vegpm10', 'change','ch_rate',\n",
    "            'public_tra', 'green' ,'other_sch', 'secon_sch','vocat_sch',\n",
    "                'sp_nee_sch', 'community','night_life', 'water',  'ave_rent',\n",
    "              'public_ser','dyn_ew', 'dyn_unempl', 'priv_schoo', 'primary_sc',\n",
    "                        'five_y_pls', 'dyn_sales','air', 'education','eating','bio'], inplace=True)\n",
    "df"
   ]
  },
  {
   "cell_type": "code",
   "execution_count": 8,
   "id": "a64f42e4",
   "metadata": {},
   "outputs": [
    {
     "data": {
      "text/html": [
       "<div>\n",
       "<style scoped>\n",
       "    .dataframe tbody tr th:only-of-type {\n",
       "        vertical-align: middle;\n",
       "    }\n",
       "\n",
       "    .dataframe tbody tr th {\n",
       "        vertical-align: top;\n",
       "    }\n",
       "\n",
       "    .dataframe thead th {\n",
       "        text-align: right;\n",
       "    }\n",
       "</style>\n",
       "<table border=\"1\" class=\"dataframe\">\n",
       "  <thead>\n",
       "    <tr style=\"text-align: right;\">\n",
       "      <th></th>\n",
       "      <th>culture</th>\n",
       "      <th>outdoor_fa</th>\n",
       "      <th>outdoor_le</th>\n",
       "      <th>social_hou</th>\n",
       "      <th>public_hou</th>\n",
       "      <th>child_pov</th>\n",
       "      <th>vegpm20</th>\n",
       "      <th>Gymnasium</th>\n",
       "      <th>kita</th>\n",
       "      <th>stations</th>\n",
       "      <th>geometry</th>\n",
       "      <th>extra_edu</th>\n",
       "    </tr>\n",
       "    <tr>\n",
       "      <th>PLR_ID</th>\n",
       "      <th></th>\n",
       "      <th></th>\n",
       "      <th></th>\n",
       "      <th></th>\n",
       "      <th></th>\n",
       "      <th></th>\n",
       "      <th></th>\n",
       "      <th></th>\n",
       "      <th></th>\n",
       "      <th></th>\n",
       "      <th></th>\n",
       "      <th></th>\n",
       "    </tr>\n",
       "  </thead>\n",
       "  <tbody>\n",
       "    <tr>\n",
       "      <th>11501341</th>\n",
       "      <td>2.0</td>\n",
       "      <td>224.0</td>\n",
       "      <td>8.0</td>\n",
       "      <td>1.302637</td>\n",
       "      <td>24.830919</td>\n",
       "      <td>2.58</td>\n",
       "      <td>3.456812</td>\n",
       "      <td>0.0</td>\n",
       "      <td>20.0</td>\n",
       "      <td>10.0</td>\n",
       "      <td>POLYGON ((399848.954 5815619.506, 399854.727 5...</td>\n",
       "      <td>1.0</td>\n",
       "    </tr>\n",
       "    <tr>\n",
       "      <th>3701659</th>\n",
       "      <td>12.0</td>\n",
       "      <td>130.0</td>\n",
       "      <td>10.0</td>\n",
       "      <td>0.390507</td>\n",
       "      <td>12.771489</td>\n",
       "      <td>8.13</td>\n",
       "      <td>2.896211</td>\n",
       "      <td>1.0</td>\n",
       "      <td>47.0</td>\n",
       "      <td>13.0</td>\n",
       "      <td>POLYGON ((393175.012 5821135.577, 393167.174 5...</td>\n",
       "      <td>6.0</td>\n",
       "    </tr>\n",
       "    <tr>\n",
       "      <th>7601340</th>\n",
       "      <td>1.0</td>\n",
       "      <td>4.0</td>\n",
       "      <td>6.0</td>\n",
       "      <td>12.720000</td>\n",
       "      <td>26.730000</td>\n",
       "      <td>41.68</td>\n",
       "      <td>2.648765</td>\n",
       "      <td>0.0</td>\n",
       "      <td>17.0</td>\n",
       "      <td>0.0</td>\n",
       "      <td>POLYGON ((388394.110 5807792.070, 388379.276 5...</td>\n",
       "      <td>0.0</td>\n",
       "    </tr>\n",
       "    <tr>\n",
       "      <th>2500831</th>\n",
       "      <td>7.0</td>\n",
       "      <td>221.0</td>\n",
       "      <td>14.0</td>\n",
       "      <td>0.740000</td>\n",
       "      <td>8.370000</td>\n",
       "      <td>21.15</td>\n",
       "      <td>2.706697</td>\n",
       "      <td>2.0</td>\n",
       "      <td>41.0</td>\n",
       "      <td>13.0</td>\n",
       "      <td>POLYGON ((396010.552 5819339.570, 396021.567 5...</td>\n",
       "      <td>2.0</td>\n",
       "    </tr>\n",
       "    <tr>\n",
       "      <th>12601134</th>\n",
       "      <td>0.0</td>\n",
       "      <td>85.0</td>\n",
       "      <td>24.0</td>\n",
       "      <td>1.560000</td>\n",
       "      <td>42.230000</td>\n",
       "      <td>51.53</td>\n",
       "      <td>3.861459</td>\n",
       "      <td>1.0</td>\n",
       "      <td>24.0</td>\n",
       "      <td>2.0</td>\n",
       "      <td>POLYGON ((387367.428 5828619.763, 387315.862 5...</td>\n",
       "      <td>1.0</td>\n",
       "    </tr>\n",
       "    <tr>\n",
       "      <th>...</th>\n",
       "      <td>...</td>\n",
       "      <td>...</td>\n",
       "      <td>...</td>\n",
       "      <td>...</td>\n",
       "      <td>...</td>\n",
       "      <td>...</td>\n",
       "      <td>...</td>\n",
       "      <td>...</td>\n",
       "      <td>...</td>\n",
       "      <td>...</td>\n",
       "      <td>...</td>\n",
       "      <td>...</td>\n",
       "    </tr>\n",
       "    <tr>\n",
       "      <th>12500927</th>\n",
       "      <td>0.0</td>\n",
       "      <td>61.0</td>\n",
       "      <td>9.0</td>\n",
       "      <td>1.560000</td>\n",
       "      <td>42.230000</td>\n",
       "      <td>20.69</td>\n",
       "      <td>5.223326</td>\n",
       "      <td>2.0</td>\n",
       "      <td>27.0</td>\n",
       "      <td>4.0</td>\n",
       "      <td>POLYGON ((387280.650 5828614.114, 387266.882 5...</td>\n",
       "      <td>0.0</td>\n",
       "    </tr>\n",
       "    <tr>\n",
       "      <th>3200204</th>\n",
       "      <td>0.0</td>\n",
       "      <td>75.0</td>\n",
       "      <td>8.0</td>\n",
       "      <td>3.209599</td>\n",
       "      <td>3.458242</td>\n",
       "      <td>4.24</td>\n",
       "      <td>3.389884</td>\n",
       "      <td>0.0</td>\n",
       "      <td>7.0</td>\n",
       "      <td>2.0</td>\n",
       "      <td>POLYGON ((392586.179 5829994.574, 392586.626 5...</td>\n",
       "      <td>0.0</td>\n",
       "    </tr>\n",
       "    <tr>\n",
       "      <th>10400941</th>\n",
       "      <td>1.0</td>\n",
       "      <td>45.0</td>\n",
       "      <td>4.0</td>\n",
       "      <td>0.550044</td>\n",
       "      <td>0.751582</td>\n",
       "      <td>2.89</td>\n",
       "      <td>2.551829</td>\n",
       "      <td>0.0</td>\n",
       "      <td>12.0</td>\n",
       "      <td>12.0</td>\n",
       "      <td>POLYGON ((406064.851 5815581.891, 406061.455 5...</td>\n",
       "      <td>0.0</td>\n",
       "    </tr>\n",
       "    <tr>\n",
       "      <th>8100101</th>\n",
       "      <td>18.0</td>\n",
       "      <td>342.0</td>\n",
       "      <td>1.0</td>\n",
       "      <td>6.729473</td>\n",
       "      <td>9.548275</td>\n",
       "      <td>40.42</td>\n",
       "      <td>6.286957</td>\n",
       "      <td>1.0</td>\n",
       "      <td>47.0</td>\n",
       "      <td>3.0</td>\n",
       "      <td>POLYGON ((391887.140 5816592.598, 391898.686 5...</td>\n",
       "      <td>2.0</td>\n",
       "    </tr>\n",
       "    <tr>\n",
       "      <th>11300616</th>\n",
       "      <td>0.0</td>\n",
       "      <td>156.0</td>\n",
       "      <td>2.0</td>\n",
       "      <td>0.594239</td>\n",
       "      <td>32.749032</td>\n",
       "      <td>48.94</td>\n",
       "      <td>4.519987</td>\n",
       "      <td>1.0</td>\n",
       "      <td>11.0</td>\n",
       "      <td>13.0</td>\n",
       "      <td>POLYGON ((395625.330 5821110.205, 395642.331 5...</td>\n",
       "      <td>0.0</td>\n",
       "    </tr>\n",
       "  </tbody>\n",
       "</table>\n",
       "<p>536 rows × 12 columns</p>\n",
       "</div>"
      ],
      "text/plain": [
       "          culture  outdoor_fa  outdoor_le  social_hou  public_hou  child_pov  \\\n",
       "PLR_ID                                                                         \n",
       "11501341      2.0       224.0         8.0    1.302637   24.830919       2.58   \n",
       "3701659      12.0       130.0        10.0    0.390507   12.771489       8.13   \n",
       "7601340       1.0         4.0         6.0   12.720000   26.730000      41.68   \n",
       "2500831       7.0       221.0        14.0    0.740000    8.370000      21.15   \n",
       "12601134      0.0        85.0        24.0    1.560000   42.230000      51.53   \n",
       "...           ...         ...         ...         ...         ...        ...   \n",
       "12500927      0.0        61.0         9.0    1.560000   42.230000      20.69   \n",
       "3200204       0.0        75.0         8.0    3.209599    3.458242       4.24   \n",
       "10400941      1.0        45.0         4.0    0.550044    0.751582       2.89   \n",
       "8100101      18.0       342.0         1.0    6.729473    9.548275      40.42   \n",
       "11300616      0.0       156.0         2.0    0.594239   32.749032      48.94   \n",
       "\n",
       "           vegpm20  Gymnasium  kita  stations  \\\n",
       "PLR_ID                                          \n",
       "11501341  3.456812        0.0  20.0      10.0   \n",
       "3701659   2.896211        1.0  47.0      13.0   \n",
       "7601340   2.648765        0.0  17.0       0.0   \n",
       "2500831   2.706697        2.0  41.0      13.0   \n",
       "12601134  3.861459        1.0  24.0       2.0   \n",
       "...            ...        ...   ...       ...   \n",
       "12500927  5.223326        2.0  27.0       4.0   \n",
       "3200204   3.389884        0.0   7.0       2.0   \n",
       "10400941  2.551829        0.0  12.0      12.0   \n",
       "8100101   6.286957        1.0  47.0       3.0   \n",
       "11300616  4.519987        1.0  11.0      13.0   \n",
       "\n",
       "                                                   geometry  extra_edu  \n",
       "PLR_ID                                                                  \n",
       "11501341  POLYGON ((399848.954 5815619.506, 399854.727 5...        1.0  \n",
       "3701659   POLYGON ((393175.012 5821135.577, 393167.174 5...        6.0  \n",
       "7601340   POLYGON ((388394.110 5807792.070, 388379.276 5...        0.0  \n",
       "2500831   POLYGON ((396010.552 5819339.570, 396021.567 5...        2.0  \n",
       "12601134  POLYGON ((387367.428 5828619.763, 387315.862 5...        1.0  \n",
       "...                                                     ...        ...  \n",
       "12500927  POLYGON ((387280.650 5828614.114, 387266.882 5...        0.0  \n",
       "3200204   POLYGON ((392586.179 5829994.574, 392586.626 5...        0.0  \n",
       "10400941  POLYGON ((406064.851 5815581.891, 406061.455 5...        0.0  \n",
       "8100101   POLYGON ((391887.140 5816592.598, 391898.686 5...        2.0  \n",
       "11300616  POLYGON ((395625.330 5821110.205, 395642.331 5...        0.0  \n",
       "\n",
       "[536 rows x 12 columns]"
      ]
     },
     "execution_count": 8,
     "metadata": {},
     "output_type": "execute_result"
    }
   ],
   "source": [
    "df.set_index('PLR_ID')"
   ]
  },
  {
   "cell_type": "code",
   "execution_count": 19,
   "id": "5a4f4d2e",
   "metadata": {},
   "outputs": [],
   "source": [
    "y = df[\"child_pov\"]\n",
    "X = df.drop(columns=[\"child_pov\", 'geometry'])"
   ]
  },
  {
   "cell_type": "markdown",
   "id": "6ef69a9f",
   "metadata": {},
   "source": [
    "## Gridsearch with KNN regressor"
   ]
  },
  {
   "cell_type": "code",
   "execution_count": 20,
   "id": "88e0aa33",
   "metadata": {},
   "outputs": [],
   "source": [
    "pipe = Pipeline([\n",
    "    ('scaler', RobustScaler()),\n",
    "    ('model', KNeighborsRegressor())\n",
    "])"
   ]
  },
  {
   "cell_type": "code",
   "execution_count": 13,
   "id": "8795a321",
   "metadata": {},
   "outputs": [
    {
     "data": {
      "text/plain": [
       "{'memory': None,\n",
       " 'steps': [('scaler', RobustScaler()), ('model', KNeighborsRegressor())],\n",
       " 'verbose': False,\n",
       " 'scaler': RobustScaler(),\n",
       " 'model': KNeighborsRegressor(),\n",
       " 'scaler__copy': True,\n",
       " 'scaler__quantile_range': (25.0, 75.0),\n",
       " 'scaler__unit_variance': False,\n",
       " 'scaler__with_centering': True,\n",
       " 'scaler__with_scaling': True,\n",
       " 'model__algorithm': 'auto',\n",
       " 'model__leaf_size': 30,\n",
       " 'model__metric': 'minkowski',\n",
       " 'model__metric_params': None,\n",
       " 'model__n_jobs': None,\n",
       " 'model__n_neighbors': 5,\n",
       " 'model__p': 2,\n",
       " 'model__weights': 'uniform'}"
      ]
     },
     "execution_count": 13,
     "metadata": {},
     "output_type": "execute_result"
    }
   ],
   "source": [
    "#use get_paraam to find the specific name of the step for grid/pipe\n",
    "pipe.get_params()"
   ]
  },
  {
   "cell_type": "code",
   "execution_count": 36,
   "id": "23be101e",
   "metadata": {},
   "outputs": [],
   "source": [
    "# Grid search KNNImputer parameter n_neighbors\n",
    "grid_search = GridSearchCV(\n",
    "    pipe,\n",
    "    param_grid={\n",
    "        'model__algorithm': ['auto', 'ball_tree', 'kd_tree'],\n",
    "        'model__weights': ['uniform', 'distance'],\n",
    "        'model__n_neighbors': np.arange(5,50),\n",
    "        'model__n_jobs': [-1]})"
   ]
  },
  {
   "cell_type": "code",
   "execution_count": null,
   "id": "1aba0584",
   "metadata": {},
   "outputs": [],
   "source": []
  },
  {
   "cell_type": "code",
   "execution_count": 38,
   "id": "2c158ea1",
   "metadata": {},
   "outputs": [
    {
     "data": {
      "text/plain": [
       "{'model__algorithm': 'auto',\n",
       " 'model__n_jobs': -1,\n",
       " 'model__n_neighbors': 9,\n",
       " 'model__weights': 'distance'}"
      ]
     },
     "execution_count": 38,
     "metadata": {},
     "output_type": "execute_result"
    }
   ],
   "source": [
    "grid_search.fit(X, y)\n",
    "\n",
    "# Cross validate optimal pipeline\n",
    "cv_score_knn = cross_validate(grid_search.best_estimator_,\n",
    "                X, y,cv=5,\n",
    "                scoring= ['r2','neg_mean_absolute_error', 'neg_mean_squared_error'])\n"
   ]
  },
  {
   "cell_type": "code",
   "execution_count": 56,
   "id": "0b6932d5",
   "metadata": {
    "scrolled": true
   },
   "outputs": [
    {
     "data": {
      "text/plain": [
       "-177.8932981337642"
      ]
     },
     "execution_count": 56,
     "metadata": {},
     "output_type": "execute_result"
    }
   ],
   "source": [
    "cv_score_knn['test_neg_mean_squared_error'].mean()"
   ]
  },
  {
   "cell_type": "code",
   "execution_count": 61,
   "id": "5d103fac",
   "metadata": {},
   "outputs": [
    {
     "data": {
      "text/plain": [
       "-10.476671533963806"
      ]
     },
     "execution_count": 61,
     "metadata": {},
     "output_type": "execute_result"
    }
   ],
   "source": [
    "cv_score_knn['test_neg_mean_absolute_error'].mean()"
   ]
  },
  {
   "cell_type": "code",
   "execution_count": 60,
   "id": "52e0ddb7",
   "metadata": {
    "scrolled": true
   },
   "outputs": [
    {
     "data": {
      "text/plain": [
       "0.3493669155967033"
      ]
     },
     "execution_count": 60,
     "metadata": {},
     "output_type": "execute_result"
    }
   ],
   "source": [
    "cv_score_knn['test_r2'].mean()"
   ]
  },
  {
   "cell_type": "code",
   "execution_count": 55,
   "id": "830f0640",
   "metadata": {},
   "outputs": [
    {
     "data": {
      "text/plain": [
       "{'fit_time': array([0.00720096, 0.00757813, 0.0075438 , 0.01045418, 0.00980091]),\n",
       " 'score_time': array([0.00886297, 0.01044583, 0.00939608, 0.01530695, 0.0185411 ]),\n",
       " 'test_r2': array([0.29428915, 0.35638074, 0.25681899, 0.38463947, 0.45470623]),\n",
       " 'test_neg_mean_absolute_error': array([-11.36330033, -10.51905412,  -9.78512759, -10.23246581,\n",
       "        -10.48340982]),\n",
       " 'test_neg_mean_squared_error': array([-209.42870187, -177.59950595, -159.5477041 , -173.45893174,\n",
       "        -169.43164701])}"
      ]
     },
     "execution_count": 55,
     "metadata": {},
     "output_type": "execute_result"
    }
   ],
   "source": [
    "cv_score_knn[]"
   ]
  },
  {
   "cell_type": "code",
   "execution_count": 23,
   "id": "e53774b7",
   "metadata": {},
   "outputs": [
    {
     "data": {
      "text/plain": [
       "0.3493669155967033"
      ]
     },
     "execution_count": 23,
     "metadata": {},
     "output_type": "execute_result"
    }
   ],
   "source": [
    "cv_score_knn_r = cross_val_score(grid_search.best_estimator_,\n",
    "                X, y,cv=5,\n",
    "                scoring= 'r2').mean()\n",
    "cv_score_knn_r"
   ]
  },
  {
   "cell_type": "code",
   "execution_count": 24,
   "id": "6d6201ed",
   "metadata": {},
   "outputs": [
    {
     "data": {
      "text/plain": [
       "-177.8932981337642"
      ]
     },
     "execution_count": 24,
     "metadata": {},
     "output_type": "execute_result"
    }
   ],
   "source": [
    "cv_score_knn_mse = cross_val_score(grid_search.best_estimator_,\n",
    "                X, y,cv=5,\n",
    "                scoring= 'neg_mean_squared_error').mean()\n",
    "cv_score_knn_mse"
   ]
  },
  {
   "cell_type": "code",
   "execution_count": 25,
   "id": "288e7cac",
   "metadata": {},
   "outputs": [
    {
     "data": {
      "text/plain": [
       "-10.476671533963806"
      ]
     },
     "execution_count": 25,
     "metadata": {},
     "output_type": "execute_result"
    }
   ],
   "source": [
    "cv_score_knn"
   ]
  },
  {
   "cell_type": "markdown",
   "id": "dda172fb",
   "metadata": {},
   "source": [
    "# Gridsearch with SVM. SVR"
   ]
  },
  {
   "cell_type": "markdown",
   "id": "57d5bcbc",
   "metadata": {},
   "source": [
    "## Gridsearch with SVC"
   ]
  },
  {
   "cell_type": "code",
   "execution_count": 62,
   "id": "67fe31d3",
   "metadata": {},
   "outputs": [],
   "source": [
    "from sklearn.svm import SVR\n",
    "\n",
    "pipe_svr = Pipeline([\n",
    "    ('scaler', RobustScaler()),\n",
    "    ('model', SVR())\n",
    "])"
   ]
  },
  {
   "cell_type": "code",
   "execution_count": 81,
   "id": "af86ce43",
   "metadata": {},
   "outputs": [
    {
     "data": {
      "text/plain": [
       "{'memory': None,\n",
       " 'steps': [('scaler', RobustScaler()), ('model', SVR())],\n",
       " 'verbose': False,\n",
       " 'scaler': RobustScaler(),\n",
       " 'model': SVR(),\n",
       " 'scaler__copy': True,\n",
       " 'scaler__quantile_range': (25.0, 75.0),\n",
       " 'scaler__unit_variance': False,\n",
       " 'scaler__with_centering': True,\n",
       " 'scaler__with_scaling': True,\n",
       " 'model__C': 1.0,\n",
       " 'model__cache_size': 200,\n",
       " 'model__coef0': 0.0,\n",
       " 'model__degree': 3,\n",
       " 'model__epsilon': 0.1,\n",
       " 'model__gamma': 'scale',\n",
       " 'model__kernel': 'rbf',\n",
       " 'model__max_iter': -1,\n",
       " 'model__shrinking': True,\n",
       " 'model__tol': 0.001,\n",
       " 'model__verbose': False}"
      ]
     },
     "execution_count": 81,
     "metadata": {},
     "output_type": "execute_result"
    }
   ],
   "source": [
    "pipe_svr.get_params()"
   ]
  },
  {
   "cell_type": "code",
   "execution_count": 82,
   "id": "b80e7054",
   "metadata": {},
   "outputs": [],
   "source": [
    "# Grid search KNNImputer parameter n_neighbors\n",
    "grid_search_svr = GridSearchCV(\n",
    "    pipe_svr,\n",
    "    param_grid={\n",
    "        'model__C': [0.01, 0.1, 1.0, 1.2, 1,5],\n",
    "        'model__kernel': ['rbf', 'linear', 'poly','sigmoid'],\n",
    "        'model__degree': [2,3,4,5,6,7],\n",
    "        'model__gamma': ['scale', 'auto'],\n",
    "        })\n",
    "grid_search_svr.fit(X, y)\n",
    "\n",
    "# Cross validate optimal pipeline\n",
    "cv_score_svr = cross_validate(grid_search_svr.best_estimator_,\n",
    "                X, y,cv=5,\n",
    "                scoring= ['r2','neg_mean_absolute_error', 'neg_mean_squared_error'])\n"
   ]
  },
  {
   "cell_type": "code",
   "execution_count": 68,
   "id": "17d5dabd",
   "metadata": {
    "scrolled": true
   },
   "outputs": [
    {
     "data": {
      "text/plain": [
       "-189.03341631302447"
      ]
     },
     "execution_count": 68,
     "metadata": {},
     "output_type": "execute_result"
    }
   ],
   "source": [
    "cv_score_svr['test_neg_mean_squared_error'].mean()"
   ]
  },
  {
   "cell_type": "code",
   "execution_count": 69,
   "id": "ec0bada0",
   "metadata": {},
   "outputs": [
    {
     "data": {
      "text/plain": [
       "-10.628194898085844"
      ]
     },
     "execution_count": 69,
     "metadata": {},
     "output_type": "execute_result"
    }
   ],
   "source": [
    "cv_score_svr['test_neg_mean_absolute_error'].mean()"
   ]
  },
  {
   "cell_type": "code",
   "execution_count": 70,
   "id": "37a9d1c6",
   "metadata": {
    "scrolled": true
   },
   "outputs": [
    {
     "data": {
      "text/plain": [
       "0.30933240083208435"
      ]
     },
     "execution_count": 70,
     "metadata": {},
     "output_type": "execute_result"
    }
   ],
   "source": [
    "cv_score_svr['test_r2'].mean()"
   ]
  },
  {
   "cell_type": "code",
   "execution_count": 67,
   "id": "bfa938ce",
   "metadata": {},
   "outputs": [
    {
     "data": {
      "text/plain": [
       "{'model__C': 5,\n",
       " 'model__degree': 2,\n",
       " 'model__gamma': 'scale',\n",
       " 'model__kernel': 'rbf'}"
      ]
     },
     "execution_count": 67,
     "metadata": {},
     "output_type": "execute_result"
    }
   ],
   "source": [
    "grid_search_svr.best_params_  #--> cv = -10.35"
   ]
  },
  {
   "cell_type": "code",
   "execution_count": null,
   "id": "f24d8f75",
   "metadata": {},
   "outputs": [],
   "source": []
  },
  {
   "cell_type": "code",
   "execution_count": null,
   "id": "7c087cf7",
   "metadata": {},
   "outputs": [],
   "source": []
  },
  {
   "cell_type": "code",
   "execution_count": null,
   "id": "8cb96936",
   "metadata": {},
   "outputs": [],
   "source": []
  },
  {
   "cell_type": "code",
   "execution_count": 85,
   "id": "ec3751c3",
   "metadata": {},
   "outputs": [],
   "source": [
    "pipe_sgd = Pipeline([\n",
    "    ('scaler', RobustScaler()),\n",
    "    ('model', SGDRegressor())\n",
    "])"
   ]
  },
  {
   "cell_type": "code",
   "execution_count": 90,
   "id": "d9d38aae",
   "metadata": {},
   "outputs": [
    {
     "data": {
      "text/html": [
       "<style>#sk-container-id-6 {color: black;background-color: white;}#sk-container-id-6 pre{padding: 0;}#sk-container-id-6 div.sk-toggleable {background-color: white;}#sk-container-id-6 label.sk-toggleable__label {cursor: pointer;display: block;width: 100%;margin-bottom: 0;padding: 0.3em;box-sizing: border-box;text-align: center;}#sk-container-id-6 label.sk-toggleable__label-arrow:before {content: \"▸\";float: left;margin-right: 0.25em;color: #696969;}#sk-container-id-6 label.sk-toggleable__label-arrow:hover:before {color: black;}#sk-container-id-6 div.sk-estimator:hover label.sk-toggleable__label-arrow:before {color: black;}#sk-container-id-6 div.sk-toggleable__content {max-height: 0;max-width: 0;overflow: hidden;text-align: left;background-color: #f0f8ff;}#sk-container-id-6 div.sk-toggleable__content pre {margin: 0.2em;color: black;border-radius: 0.25em;background-color: #f0f8ff;}#sk-container-id-6 input.sk-toggleable__control:checked~div.sk-toggleable__content {max-height: 200px;max-width: 100%;overflow: auto;}#sk-container-id-6 input.sk-toggleable__control:checked~label.sk-toggleable__label-arrow:before {content: \"▾\";}#sk-container-id-6 div.sk-estimator input.sk-toggleable__control:checked~label.sk-toggleable__label {background-color: #d4ebff;}#sk-container-id-6 div.sk-label input.sk-toggleable__control:checked~label.sk-toggleable__label {background-color: #d4ebff;}#sk-container-id-6 input.sk-hidden--visually {border: 0;clip: rect(1px 1px 1px 1px);clip: rect(1px, 1px, 1px, 1px);height: 1px;margin: -1px;overflow: hidden;padding: 0;position: absolute;width: 1px;}#sk-container-id-6 div.sk-estimator {font-family: monospace;background-color: #f0f8ff;border: 1px dotted black;border-radius: 0.25em;box-sizing: border-box;margin-bottom: 0.5em;}#sk-container-id-6 div.sk-estimator:hover {background-color: #d4ebff;}#sk-container-id-6 div.sk-parallel-item::after {content: \"\";width: 100%;border-bottom: 1px solid gray;flex-grow: 1;}#sk-container-id-6 div.sk-label:hover label.sk-toggleable__label {background-color: #d4ebff;}#sk-container-id-6 div.sk-serial::before {content: \"\";position: absolute;border-left: 1px solid gray;box-sizing: border-box;top: 0;bottom: 0;left: 50%;z-index: 0;}#sk-container-id-6 div.sk-serial {display: flex;flex-direction: column;align-items: center;background-color: white;padding-right: 0.2em;padding-left: 0.2em;position: relative;}#sk-container-id-6 div.sk-item {position: relative;z-index: 1;}#sk-container-id-6 div.sk-parallel {display: flex;align-items: stretch;justify-content: center;background-color: white;position: relative;}#sk-container-id-6 div.sk-item::before, #sk-container-id-6 div.sk-parallel-item::before {content: \"\";position: absolute;border-left: 1px solid gray;box-sizing: border-box;top: 0;bottom: 0;left: 50%;z-index: -1;}#sk-container-id-6 div.sk-parallel-item {display: flex;flex-direction: column;z-index: 1;position: relative;background-color: white;}#sk-container-id-6 div.sk-parallel-item:first-child::after {align-self: flex-end;width: 50%;}#sk-container-id-6 div.sk-parallel-item:last-child::after {align-self: flex-start;width: 50%;}#sk-container-id-6 div.sk-parallel-item:only-child::after {width: 0;}#sk-container-id-6 div.sk-dashed-wrapped {border: 1px dashed gray;margin: 0 0.4em 0.5em 0.4em;box-sizing: border-box;padding-bottom: 0.4em;background-color: white;}#sk-container-id-6 div.sk-label label {font-family: monospace;font-weight: bold;display: inline-block;line-height: 1.2em;}#sk-container-id-6 div.sk-label-container {text-align: center;}#sk-container-id-6 div.sk-container {/* jupyter's `normalize.less` sets `[hidden] { display: none; }` but bootstrap.min.css set `[hidden] { display: none !important; }` so we also need the `!important` here to be able to override the default hidden behavior on the sphinx rendered scikit-learn.org. See: https://github.com/scikit-learn/scikit-learn/issues/21755 */display: inline-block !important;position: relative;}#sk-container-id-6 div.sk-text-repr-fallback {display: none;}</style><div id=\"sk-container-id-6\" class=\"sk-top-container\"><div class=\"sk-text-repr-fallback\"><pre>GridSearchCV(estimator=Pipeline(steps=[(&#x27;scaler&#x27;, RobustScaler()),\n",
       "                                       (&#x27;model&#x27;, SGDRegressor())]),\n",
       "             param_grid={&#x27;model__alpha&#x27;: [0.001, 0.0001, 1e-05],\n",
       "                         &#x27;model__learning_rate&#x27;: [&#x27;invscaling&#x27;, &#x27;constant&#x27;,\n",
       "                                                  &#x27;optimal&#x27;, &#x27;adaptive&#x27;],\n",
       "                         &#x27;model__penalty&#x27;: [&#x27;l2&#x27;, &#x27;l1&#x27;, &#x27;elasticnet&#x27;]})</pre><b>In a Jupyter environment, please rerun this cell to show the HTML representation or trust the notebook. <br />On GitHub, the HTML representation is unable to render, please try loading this page with nbviewer.org.</b></div><div class=\"sk-container\" hidden><div class=\"sk-item sk-dashed-wrapped\"><div class=\"sk-label-container\"><div class=\"sk-label sk-toggleable\"><input class=\"sk-toggleable__control sk-hidden--visually\" id=\"sk-estimator-id-15\" type=\"checkbox\" ><label for=\"sk-estimator-id-15\" class=\"sk-toggleable__label sk-toggleable__label-arrow\">GridSearchCV</label><div class=\"sk-toggleable__content\"><pre>GridSearchCV(estimator=Pipeline(steps=[(&#x27;scaler&#x27;, RobustScaler()),\n",
       "                                       (&#x27;model&#x27;, SGDRegressor())]),\n",
       "             param_grid={&#x27;model__alpha&#x27;: [0.001, 0.0001, 1e-05],\n",
       "                         &#x27;model__learning_rate&#x27;: [&#x27;invscaling&#x27;, &#x27;constant&#x27;,\n",
       "                                                  &#x27;optimal&#x27;, &#x27;adaptive&#x27;],\n",
       "                         &#x27;model__penalty&#x27;: [&#x27;l2&#x27;, &#x27;l1&#x27;, &#x27;elasticnet&#x27;]})</pre></div></div></div><div class=\"sk-parallel\"><div class=\"sk-parallel-item\"><div class=\"sk-item\"><div class=\"sk-label-container\"><div class=\"sk-label sk-toggleable\"><input class=\"sk-toggleable__control sk-hidden--visually\" id=\"sk-estimator-id-16\" type=\"checkbox\" ><label for=\"sk-estimator-id-16\" class=\"sk-toggleable__label sk-toggleable__label-arrow\">estimator: Pipeline</label><div class=\"sk-toggleable__content\"><pre>Pipeline(steps=[(&#x27;scaler&#x27;, RobustScaler()), (&#x27;model&#x27;, SGDRegressor())])</pre></div></div></div><div class=\"sk-serial\"><div class=\"sk-item\"><div class=\"sk-serial\"><div class=\"sk-item\"><div class=\"sk-estimator sk-toggleable\"><input class=\"sk-toggleable__control sk-hidden--visually\" id=\"sk-estimator-id-17\" type=\"checkbox\" ><label for=\"sk-estimator-id-17\" class=\"sk-toggleable__label sk-toggleable__label-arrow\">RobustScaler</label><div class=\"sk-toggleable__content\"><pre>RobustScaler()</pre></div></div></div><div class=\"sk-item\"><div class=\"sk-estimator sk-toggleable\"><input class=\"sk-toggleable__control sk-hidden--visually\" id=\"sk-estimator-id-18\" type=\"checkbox\" ><label for=\"sk-estimator-id-18\" class=\"sk-toggleable__label sk-toggleable__label-arrow\">SGDRegressor</label><div class=\"sk-toggleable__content\"><pre>SGDRegressor()</pre></div></div></div></div></div></div></div></div></div></div></div></div>"
      ],
      "text/plain": [
       "GridSearchCV(estimator=Pipeline(steps=[('scaler', RobustScaler()),\n",
       "                                       ('model', SGDRegressor())]),\n",
       "             param_grid={'model__alpha': [0.001, 0.0001, 1e-05],\n",
       "                         'model__learning_rate': ['invscaling', 'constant',\n",
       "                                                  'optimal', 'adaptive'],\n",
       "                         'model__penalty': ['l2', 'l1', 'elasticnet']})"
      ]
     },
     "execution_count": 90,
     "metadata": {},
     "output_type": "execute_result"
    }
   ],
   "source": [
    "# Grid search KNNImputer parameter n_neighbors\n",
    "grid_search_sgd = GridSearchCV(\n",
    "    pipe_sgd,\n",
    "    param_grid={\n",
    "        'model__penalty': ['l2', 'l1','elasticnet'],\n",
    "        'model__alpha': [0.001, 0.0001, 0.00001],\n",
    "        'model__learning_rate': ['invscaling','constant','optimal','adaptive'],\n",
    "        })\n",
    "grid_search_sgd.fit(X, y)"
   ]
  },
  {
   "cell_type": "code",
   "execution_count": 98,
   "id": "34013577",
   "metadata": {},
   "outputs": [],
   "source": [
    "cv_score_sgd = cross_validate(grid_search_sgd.best_estimator_,\n",
    "                X, y,cv=5,\n",
    "                scoring= ['r2','neg_mean_absolute_error', 'neg_mean_squared_error'])"
   ]
  },
  {
   "cell_type": "code",
   "execution_count": 99,
   "id": "f6399e56",
   "metadata": {
    "scrolled": true
   },
   "outputs": [
    {
     "data": {
      "text/plain": [
       "-187.64662289094127"
      ]
     },
     "execution_count": 99,
     "metadata": {},
     "output_type": "execute_result"
    }
   ],
   "source": [
    "cv_score_sgd['test_neg_mean_squared_error'].mean()"
   ]
  },
  {
   "cell_type": "code",
   "execution_count": 100,
   "id": "e6846e93",
   "metadata": {},
   "outputs": [
    {
     "data": {
      "text/plain": [
       "-10.799247139312161"
      ]
     },
     "execution_count": 100,
     "metadata": {},
     "output_type": "execute_result"
    }
   ],
   "source": [
    "cv_score_sgd['test_neg_mean_absolute_error'].mean()"
   ]
  },
  {
   "cell_type": "code",
   "execution_count": 101,
   "id": "2db8f2ab",
   "metadata": {
    "scrolled": true
   },
   "outputs": [
    {
     "data": {
      "text/plain": [
       "0.3151909317590976"
      ]
     },
     "execution_count": 101,
     "metadata": {},
     "output_type": "execute_result"
    }
   ],
   "source": [
    "cv_score_sgd['test_r2'].mean()"
   ]
  },
  {
   "cell_type": "code",
   "execution_count": 91,
   "id": "45036c6b",
   "metadata": {},
   "outputs": [
    {
     "data": {
      "text/plain": [
       "{'model__alpha': 0.001,\n",
       " 'model__learning_rate': 'invscaling',\n",
       " 'model__penalty': 'elasticnet'}"
      ]
     },
     "execution_count": 91,
     "metadata": {},
     "output_type": "execute_result"
    }
   ],
   "source": [
    "grid_search_sgd.best_params_"
   ]
  },
  {
   "cell_type": "markdown",
   "id": "bb0db337",
   "metadata": {},
   "source": [
    "## Gridsearch with Linear model"
   ]
  },
  {
   "cell_type": "code",
   "execution_count": 20,
   "id": "a2576111",
   "metadata": {},
   "outputs": [],
   "source": [
    "pipe_linear = Pipeline([\n",
    "    ('scaler', RobustScaler()),\n",
    "    ('model', LinearRegression())\n",
    "])"
   ]
  },
  {
   "cell_type": "code",
   "execution_count": 122,
   "id": "4c790bca",
   "metadata": {
    "collapsed": true
   },
   "outputs": [
    {
     "data": {
      "text/plain": [
       "{'memory': None,\n",
       " 'steps': [('scaler', RobustScaler()), ('model', LinearRegression())],\n",
       " 'verbose': False,\n",
       " 'scaler': RobustScaler(),\n",
       " 'model': LinearRegression(),\n",
       " 'scaler__copy': True,\n",
       " 'scaler__quantile_range': (25.0, 75.0),\n",
       " 'scaler__unit_variance': False,\n",
       " 'scaler__with_centering': True,\n",
       " 'scaler__with_scaling': True,\n",
       " 'model__copy_X': True,\n",
       " 'model__fit_intercept': True,\n",
       " 'model__n_jobs': None,\n",
       " 'model__normalize': 'deprecated',\n",
       " 'model__positive': False}"
      ]
     },
     "execution_count": 122,
     "metadata": {},
     "output_type": "execute_result"
    }
   ],
   "source": [
    "pipe_linear.get_params()"
   ]
  },
  {
   "cell_type": "code",
   "execution_count": 21,
   "id": "6e2e51c6",
   "metadata": {},
   "outputs": [
    {
     "data": {
      "text/plain": [
       "-10.91446801856572"
      ]
     },
     "execution_count": 21,
     "metadata": {},
     "output_type": "execute_result"
    }
   ],
   "source": [
    "# Grid search KNNImputer parameter n_neighbors\n",
    "grid_search_linear = GridSearchCV(\n",
    "    pipe_linear,\n",
    "    param_grid={\n",
    "        'model__fit_intercept': [True, False],\n",
    "        'model__n_jobs':[ -1]})\n",
    "grid_search_linear.fit(X, y)\n",
    "\n",
    "# Cross validate optimal pipeline\n",
    "cv_score_linear = cross_val_score(grid_search_linear.best_estimator_,\n",
    "                X, y,cv=5,\n",
    "                scoring= 'neg_mean_absolute_error').mean()\n",
    "cv_score_linear"
   ]
  },
  {
   "cell_type": "code",
   "execution_count": 22,
   "id": "49b9956b",
   "metadata": {},
   "outputs": [
    {
     "data": {
      "text/plain": [
       "0.2996728693837336"
      ]
     },
     "execution_count": 22,
     "metadata": {},
     "output_type": "execute_result"
    }
   ],
   "source": [
    "cv_score_linear_r = cross_val_score(grid_search_linear.best_estimator_,\n",
    "                X, y,cv=5,\n",
    "                scoring= 'r2').mean()\n",
    "cv_score_linear_r"
   ]
  },
  {
   "cell_type": "code",
   "execution_count": 25,
   "id": "120b66f2",
   "metadata": {},
   "outputs": [
    {
     "data": {
      "text/plain": [
       "-191.2981368419528"
      ]
     },
     "execution_count": 25,
     "metadata": {},
     "output_type": "execute_result"
    }
   ],
   "source": [
    "cv_score_linear_mse = cross_val_score(grid_search_linear.best_estimator_,\n",
    "                X, y,cv=5,\n",
    "                scoring= 'neg_mean_squared_error').mean()\n",
    "cv_score_linear_mse"
   ]
  },
  {
   "cell_type": "code",
   "execution_count": 26,
   "id": "42d973d9",
   "metadata": {},
   "outputs": [
    {
     "data": {
      "text/plain": [
       "{'model__fit_intercept': True, 'model__n_jobs': -1}"
      ]
     },
     "execution_count": 26,
     "metadata": {},
     "output_type": "execute_result"
    }
   ],
   "source": [
    "grid_search_linear.best_params_"
   ]
  },
  {
   "cell_type": "code",
   "execution_count": 60,
   "id": "91bd5cc1",
   "metadata": {},
   "outputs": [],
   "source": [
    "neg_mean = {\"Linear model\":cv_score_linear, \n",
    "            \"KNNRegressor\": cv_score_knn,\n",
    "           \"SGDRegressor\":cv_score_sgd,\n",
    "           \"SVR\": cv_score_svr,\n",
    "           \"SVR_linear\": cv_score_svr2}\n",
    "neg_mean_error = pd.DataFrame(data = neg_mean, index=[0]).T\n",
    "neg_mean_error.rename(columns={0:\"neg_mean_absolute_error\"}, inplace=True)"
   ]
  },
  {
   "cell_type": "code",
   "execution_count": 61,
   "id": "22b6809a",
   "metadata": {},
   "outputs": [
    {
     "data": {
      "text/html": [
       "<div>\n",
       "<style scoped>\n",
       "    .dataframe tbody tr th:only-of-type {\n",
       "        vertical-align: middle;\n",
       "    }\n",
       "\n",
       "    .dataframe tbody tr th {\n",
       "        vertical-align: top;\n",
       "    }\n",
       "\n",
       "    .dataframe thead th {\n",
       "        text-align: right;\n",
       "    }\n",
       "</style>\n",
       "<table border=\"1\" class=\"dataframe\">\n",
       "  <thead>\n",
       "    <tr style=\"text-align: right;\">\n",
       "      <th></th>\n",
       "      <th>neg_mean_absolute_error</th>\n",
       "      <th>r2_score</th>\n",
       "    </tr>\n",
       "  </thead>\n",
       "  <tbody>\n",
       "    <tr>\n",
       "      <th>Linear model</th>\n",
       "      <td>-10.914468</td>\n",
       "      <td>0.299673</td>\n",
       "    </tr>\n",
       "    <tr>\n",
       "      <th>KNNRegressor</th>\n",
       "      <td>-9.628495</td>\n",
       "      <td>0.404332</td>\n",
       "    </tr>\n",
       "    <tr>\n",
       "      <th>SGDRegressor</th>\n",
       "      <td>-11.048812</td>\n",
       "      <td>0.267577</td>\n",
       "    </tr>\n",
       "    <tr>\n",
       "      <th>SVR</th>\n",
       "      <td>-10.354776</td>\n",
       "      <td>0.338345</td>\n",
       "    </tr>\n",
       "    <tr>\n",
       "      <th>SVR_linear</th>\n",
       "      <td>-10.992459</td>\n",
       "      <td>0.266438</td>\n",
       "    </tr>\n",
       "  </tbody>\n",
       "</table>\n",
       "</div>"
      ],
      "text/plain": [
       "              neg_mean_absolute_error  r2_score\n",
       "Linear model               -10.914468  0.299673\n",
       "KNNRegressor                -9.628495  0.404332\n",
       "SGDRegressor               -11.048812  0.267577\n",
       "SVR                        -10.354776  0.338345\n",
       "SVR_linear                 -10.992459  0.266438"
      ]
     },
     "execution_count": 61,
     "metadata": {},
     "output_type": "execute_result"
    }
   ],
   "source": [
    "neg_mean_error[\"r2_score\"] = [cv_score_linear_r, cv_score_knn_r, cv_score_sgd_r, cv_score_svr_r, cv_score_svr_l_r]\n",
    "neg_mean_error"
   ]
  },
  {
   "cell_type": "code",
   "execution_count": 62,
   "id": "de694f7f",
   "metadata": {},
   "outputs": [
    {
     "data": {
      "text/html": [
       "<div>\n",
       "<style scoped>\n",
       "    .dataframe tbody tr th:only-of-type {\n",
       "        vertical-align: middle;\n",
       "    }\n",
       "\n",
       "    .dataframe tbody tr th {\n",
       "        vertical-align: top;\n",
       "    }\n",
       "\n",
       "    .dataframe thead th {\n",
       "        text-align: right;\n",
       "    }\n",
       "</style>\n",
       "<table border=\"1\" class=\"dataframe\">\n",
       "  <thead>\n",
       "    <tr style=\"text-align: right;\">\n",
       "      <th></th>\n",
       "      <th>neg_mean_absolute_error</th>\n",
       "      <th>r2_score</th>\n",
       "      <th>mse</th>\n",
       "    </tr>\n",
       "  </thead>\n",
       "  <tbody>\n",
       "    <tr>\n",
       "      <th>Linear model</th>\n",
       "      <td>-10.914468</td>\n",
       "      <td>0.299673</td>\n",
       "      <td>-191.298137</td>\n",
       "    </tr>\n",
       "    <tr>\n",
       "      <th>KNNRegressor</th>\n",
       "      <td>-9.628495</td>\n",
       "      <td>0.404332</td>\n",
       "      <td>-160.730417</td>\n",
       "    </tr>\n",
       "    <tr>\n",
       "      <th>SGDRegressor</th>\n",
       "      <td>-11.048812</td>\n",
       "      <td>0.267577</td>\n",
       "      <td>-197.278558</td>\n",
       "    </tr>\n",
       "    <tr>\n",
       "      <th>SVR</th>\n",
       "      <td>-10.354776</td>\n",
       "      <td>0.338345</td>\n",
       "      <td>-179.648908</td>\n",
       "    </tr>\n",
       "    <tr>\n",
       "      <th>SVR_linear</th>\n",
       "      <td>-10.992459</td>\n",
       "      <td>0.266438</td>\n",
       "      <td>-200.671826</td>\n",
       "    </tr>\n",
       "  </tbody>\n",
       "</table>\n",
       "</div>"
      ],
      "text/plain": [
       "              neg_mean_absolute_error  r2_score         mse\n",
       "Linear model               -10.914468  0.299673 -191.298137\n",
       "KNNRegressor                -9.628495  0.404332 -160.730417\n",
       "SGDRegressor               -11.048812  0.267577 -197.278558\n",
       "SVR                        -10.354776  0.338345 -179.648908\n",
       "SVR_linear                 -10.992459  0.266438 -200.671826"
      ]
     },
     "execution_count": 62,
     "metadata": {},
     "output_type": "execute_result"
    }
   ],
   "source": [
    "neg_mean_error[\"mse\"] = [cv_score_linear_mse, cv_score_knn_mse, cv_score_sgd_mse, cv_score_svr_mse, cv_score_svr_l_mse]\n",
    "neg_mean_error"
   ]
  },
  {
   "cell_type": "code",
   "execution_count": 86,
   "id": "77a2f35d",
   "metadata": {},
   "outputs": [
    {
     "ename": "TypeError",
     "evalue": "__init__() got an unexpected keyword argument 'axis'",
     "output_type": "error",
     "traceback": [
      "\u001b[0;31m---------------------------------------------------------------------------\u001b[0m",
      "\u001b[0;31mTypeError\u001b[0m                                 Traceback (most recent call last)",
      "Input \u001b[0;32mIn [86]\u001b[0m, in \u001b[0;36m<cell line: 3>\u001b[0;34m()\u001b[0m\n\u001b[1;32m     18\u001b[0m     mean_abs_error \u001b[38;5;241m=\u001b[39m mean_absolute_error(y_test, y_pred)\n\u001b[1;32m     19\u001b[0m     mean_squ_error \u001b[38;5;241m=\u001b[39m mean_squared_error(y_test, y_pred)\n\u001b[0;32m---> 20\u001b[0m     metrics_df \u001b[38;5;241m=\u001b[39m \u001b[43mpd\u001b[49m\u001b[38;5;241;43m.\u001b[39;49m\u001b[43mDataFrame\u001b[49m\u001b[43m(\u001b[49m\u001b[43mdata\u001b[49m\u001b[43m \u001b[49m\u001b[38;5;241;43m=\u001b[39;49m\u001b[43m \u001b[49m\u001b[43m[\u001b[49m\u001b[43mmean_abs_error\u001b[49m\u001b[43m,\u001b[49m\u001b[43m \u001b[49m\u001b[43mmean_squ_error\u001b[49m\u001b[43m,\u001b[49m\u001b[43m \u001b[49m\u001b[43mr_score\u001b[49m\u001b[43m]\u001b[49m\u001b[43m,\u001b[49m\u001b[43m \u001b[49m\u001b[43maxis\u001b[49m\u001b[38;5;241;43m=\u001b[39;49m\u001b[38;5;241;43m1\u001b[39;49m\u001b[43m)\u001b[49m\n\u001b[1;32m     21\u001b[0m metrics_df\n",
      "\u001b[0;31mTypeError\u001b[0m: __init__() got an unexpected keyword argument 'axis'"
     ]
    }
   ],
   "source": [
    "models = [LinearRegression(), KNeighborsRegressor(), SGDRegressor()]\n",
    "metrics_df = pd.DataFrame(columns = [\"mean_abs_error\", \"mean_squ_error\", \"r_score\"])\n",
    "for model in models:\n",
    "    preproc_pipe = Pipeline([\n",
    "            ('knnimputer', KNNImputer(missing_values= np.nan)),\n",
    "            ('robustscaler', RobustScaler())\n",
    "        ])\n",
    "    pipeline = Pipeline([\n",
    "            ('preproc', preproc_pipe),\n",
    "            ('model', model)\n",
    "        ])\n",
    "    y = df[\"child_pov\"]\n",
    "    X = df.drop(columns=[\"child_pov\"])\n",
    "    X_train, X_test, y_train, y_test = train_test_split(X, y, test_size=0.3)\n",
    "    pipeline.fit(X_train, y_train)\n",
    "    y_pred = pipeline.predict(X_test)\n",
    "    r_score = r2_score(y_test, y_pred)\n",
    "    mean_abs_error = mean_absolute_error(y_test, y_pred)\n",
    "    mean_squ_error = mean_squared_error(y_test, y_pred)\n",
    "    metrics_df = pd.DataFrame(data = [mean_abs_error, mean_squ_error, r_score], axis=1)\n",
    "metrics_df"
   ]
  },
  {
   "cell_type": "code",
   "execution_count": 85,
   "id": "2ed06c00",
   "metadata": {},
   "outputs": [
    {
     "data": {
      "text/html": [
       "<div>\n",
       "<style scoped>\n",
       "    .dataframe tbody tr th:only-of-type {\n",
       "        vertical-align: middle;\n",
       "    }\n",
       "\n",
       "    .dataframe tbody tr th {\n",
       "        vertical-align: top;\n",
       "    }\n",
       "\n",
       "    .dataframe thead th {\n",
       "        text-align: right;\n",
       "    }\n",
       "</style>\n",
       "<table border=\"1\" class=\"dataframe\">\n",
       "  <thead>\n",
       "    <tr style=\"text-align: right;\">\n",
       "      <th></th>\n",
       "      <th>mean_abs_error</th>\n",
       "      <th>mean_squ_error</th>\n",
       "      <th>r_score</th>\n",
       "    </tr>\n",
       "  </thead>\n",
       "  <tbody>\n",
       "  </tbody>\n",
       "</table>\n",
       "</div>"
      ],
      "text/plain": [
       "Empty DataFrame\n",
       "Columns: [mean_abs_error, mean_squ_error, r_score]\n",
       "Index: []"
      ]
     },
     "execution_count": 85,
     "metadata": {},
     "output_type": "execute_result"
    }
   ],
   "source": [
    "metrics_dft = pd.DataFrame(columns = [\"mean_abs_error\", \"mean_squ_error\", \"r_score\"])\n",
    "metrics_dft"
   ]
  },
  {
   "cell_type": "code",
   "execution_count": 13,
   "id": "9a62aefe",
   "metadata": {},
   "outputs": [],
   "source": [
    "EXPERIMENT_NAME = \"non-spatial_regression\"\n",
    "yourname = \"Batch_874_Batch_874_Youth_in_the_city\"\n",
    "MLFLOW_URI = \"https://mlflow.lewagon.ai/\"\n",
    "class Trainer(object):\n",
    "    def __init__(self, X, y):\n",
    "        \"\"\"\n",
    "            X: pandas DataFrame --> drop the \"geometry and the \"Kinderarmut\"\n",
    "            y: pandas Series --> \"Kinderarmut\"\n",
    "        \"\"\"\n",
    "        self.pipeline = None\n",
    "        self.X = X\n",
    "        self.y = y\n",
    "        # for MLFlow\n",
    "        self.experiment_name = EXPERIMENT_NAME\n",
    "\n",
    "    def set_experiment_name(self, experiment_name):\n",
    "        '''defines the experiment name for MLFlow'''\n",
    "        self.experiment_name = experiment_name\n",
    "\n",
    "    def set_pipeline(self):\n",
    "        \"\"\"defines the pipeline as a class attribute\"\"\"\n",
    "        preproc_pipe = Pipeline([\n",
    "            ('knnimputer', KNNImputer(missing_values= np.nan)),\n",
    "            ('robustscaler', RobustScaler())\n",
    "        ])\n",
    "        self.pipeline = Pipeline([\n",
    "            ('preproc', preproc_pipe),\n",
    "            ('linear_model', LinearRegression())\n",
    "        ])\n",
    "\n",
    "    def run(self):\n",
    "        self.set_pipeline()\n",
    "        self.mlflow_log_param(\"model\", \"Linear\")\n",
    "        self.pipeline.fit(self.X, self.y)\n",
    "\n",
    "    def evaluate(self, X_test, y_test):\n",
    "        \"\"\"evaluates the pipeline on df_test and return the r2 score\"\"\"\n",
    "        y_pred = self.pipeline.predict(X_test)\n",
    "        r_score = r2_score(y_test, y_pred)\n",
    "        mean_abs_error = mean_absolute_error(y_test, y_pred)\n",
    "        mean_squ_error = mean_squared_error(y_test, y_pred)\n",
    "        self.mlflow_log_metric(\"mean_abs_error\", mean_abs_error)\n",
    "        metrics_df = pd.DataFrame(data = [mean_abs_error, mean_squ_error, r_score])\n",
    "        return metrics_df\n",
    "\n",
    "    def save_model_locally(self):\n",
    "        \"\"\"Save the model into a .joblib format\"\"\"\n",
    "        joblib.dump(self.pipeline, 'model.joblib')\n",
    "        print(colored(\"model.joblib saved locally\", \"green\"))\n",
    "\n",
    "    # MLFlow methods\n",
    "    @memoized_property\n",
    "    def mlflow_client(self):\n",
    "        mlflow.set_tracking_uri(MLFLOW_URI)\n",
    "        return MlflowClient()\n",
    "\n",
    "    @memoized_property\n",
    "    def mlflow_experiment_id(self):\n",
    "        try:\n",
    "            return self.mlflow_client.create_experiment(self.experiment_name)\n",
    "        except BaseException:\n",
    "            return self.mlflow_client.get_experiment_by_name(\n",
    "                self.experiment_name).experiment_id\n",
    "\n",
    "    @memoized_property\n",
    "    def mlflow_run(self):\n",
    "        return self.mlflow_client.create_run(self.mlflow_experiment_id)\n",
    "\n",
    "    def mlflow_log_param(self, key, value):\n",
    "        self.mlflow_client.log_param(self.mlflow_run.info.run_id, key, value)\n",
    "\n",
    "    def mlflow_log_metric(self, key, value):\n",
    "        self.mlflow_client.log_metric(self.mlflow_run.info.run_id, key, value)"
   ]
  },
  {
   "cell_type": "code",
   "execution_count": 54,
   "id": "c6071eee",
   "metadata": {
    "scrolled": true
   },
   "outputs": [
    {
     "name": "stdout",
     "output_type": "stream",
     "text": [
      "           0\n",
      "0   7.128310\n",
      "1  82.027018\n",
      "2   0.684207\n",
      "\u001b[32mmodel.joblib saved locally\u001b[0m\n"
     ]
    }
   ],
   "source": [
    "y = df[\"child_pov\"]\n",
    "X = df.drop(columns=[\"child_pov\"])\n",
    "X_train, X_test, y_train, y_test = train_test_split(X, y, test_size=0.3)\n",
    "# Train and save model, locally and\n",
    "trainer = Trainer(X=X_train, y=y_train)\n",
    "trainer.set_experiment_name('linear')\n",
    "trainer.run()\n",
    "linear = trainer.evaluate(X_test, y_test)\n",
    "print(linear)\n",
    "trainer.save_model_locally()"
   ]
  },
  {
   "cell_type": "code",
   "execution_count": 15,
   "id": "abb59ed9",
   "metadata": {},
   "outputs": [],
   "source": [
    "EXPERIMENT_NAME = \"non-spatial_regression\"\n",
    "yourname = \"Batch_874_Batch_874_Youth_in_the_city\"\n",
    "MLFLOW_URI = \"https://mlflow.lewagon.ai/\"\n",
    "class Trainer_KNN(object):\n",
    "    def __init__(self, X, y):\n",
    "        \"\"\"\n",
    "            X: pandas DataFrame --> drop the \"geometry and the \"Kinderarmut\"\n",
    "            y: pandas Series --> \"Kinderarmut\"\n",
    "        \"\"\"\n",
    "        self.pipeline = None\n",
    "        self.X = X\n",
    "        self.y = y\n",
    "        # for MLFlow\n",
    "        self.experiment_name = EXPERIMENT_NAME\n",
    "\n",
    "    def set_experiment_name(self, experiment_name):\n",
    "        '''defines the experiment name for MLFlow'''\n",
    "        self.experiment_name = experiment_name\n",
    "\n",
    "    def set_pipeline(self):\n",
    "        \"\"\"defines the pipeline as a class attribute\"\"\"\n",
    "        preproc_pipe = Pipeline([\n",
    "            ('knnimputer', KNNImputer(missing_values= np.nan)),\n",
    "            ('robustscaler', RobustScaler())\n",
    "        ])\n",
    "        self.pipeline = Pipeline([\n",
    "            ('preproc', preproc_pipe),\n",
    "            ('KNN_model', KNeighborsRegressor())\n",
    "        ])\n",
    "\n",
    "    def run(self):\n",
    "        self.set_pipeline()\n",
    "        self.mlflow_log_param(\"model\", \"Linear\")\n",
    "        self.pipeline.fit(self.X, self.y)\n",
    "\n",
    "    def evaluate(self, X_test, y_test):\n",
    "        \"\"\"evaluates the pipeline on df_test and return the r2 score\"\"\"\n",
    "        y_pred = self.pipeline.predict(X_test)\n",
    "        r_score = r2_score(y_test, y_pred)\n",
    "        mean_abs_error = mean_absolute_error(y_test, y_pred)\n",
    "        mean_squ_error = mean_squared_error(y_test, y_pred)\n",
    "        self.mlflow_log_metric(\"mean_abs_error\", mean_abs_error)\n",
    "        metrics_df = pd.DataFrame(data = [mean_abs_error, mean_squ_error, r_score])\n",
    "        return metrics_df\n",
    "\n",
    "    def save_model_locally(self):\n",
    "        \"\"\"Save the model into a .joblib format\"\"\"\n",
    "        joblib.dump(self.pipeline, 'model.joblib')\n",
    "        print(colored(\"model.joblib saved locally\", \"green\"))\n",
    "\n",
    "    # MLFlow methods\n",
    "    @memoized_property\n",
    "    def mlflow_client(self):\n",
    "        mlflow.set_tracking_uri(MLFLOW_URI)\n",
    "        return MlflowClient()\n",
    "\n",
    "    @memoized_property\n",
    "    def mlflow_experiment_id(self):\n",
    "        try:\n",
    "            return self.mlflow_client.create_experiment(self.experiment_name)\n",
    "        except BaseException:\n",
    "            return self.mlflow_client.get_experiment_by_name(\n",
    "                self.experiment_name).experiment_id\n",
    "\n",
    "    @memoized_property\n",
    "    def mlflow_run(self):\n",
    "        return self.mlflow_client.create_run(self.mlflow_experiment_id)\n",
    "\n",
    "    def mlflow_log_param(self, key, value):\n",
    "        self.mlflow_client.log_param(self.mlflow_run.info.run_id, key, value)\n",
    "\n",
    "    def mlflow_log_metric(self, key, value):\n",
    "        self.mlflow_client.log_metric(self.mlflow_run.info.run_id, key, value)"
   ]
  },
  {
   "cell_type": "code",
   "execution_count": 16,
   "id": "ebeacc5c",
   "metadata": {},
   "outputs": [
    {
     "name": "stdout",
     "output_type": "stream",
     "text": [
      "           0\n",
      "0   7.853060\n",
      "1  95.744934\n",
      "2   0.646386\n",
      "\u001b[32mmodel.joblib saved locally\u001b[0m\n"
     ]
    }
   ],
   "source": [
    "#KNN\n",
    "X_train, X_test, y_train, y_test = train_test_split(X, y, test_size=0.3)\n",
    "# Train and save model, locally and\n",
    "trainer_knn = Trainer(X=X_train, y=y_train)\n",
    "trainer_knn.set_experiment_name('KNN')\n",
    "trainer_knn.run()\n",
    "knn_reg = trainer_knn.evaluate(X_test, y_test)\n",
    "print(knn_reg)\n",
    "trainer_knn.save_model_locally()"
   ]
  },
  {
   "cell_type": "code",
   "execution_count": 17,
   "id": "a6a9114d",
   "metadata": {},
   "outputs": [],
   "source": [
    "EXPERIMENT_NAME = \"non-spatial_regression\"\n",
    "yourname = \"Batch_874_Batch_874_Youth_in_the_city\"\n",
    "MLFLOW_URI = \"https://mlflow.lewagon.ai/\"\n",
    "class Trainer_SGD(object):\n",
    "    def __init__(self, X, y):\n",
    "        \"\"\"\n",
    "            X: pandas DataFrame --> drop the \"geometry and the \"Kinderarmut\"\n",
    "            y: pandas Series --> \"Kinderarmut\"\n",
    "        \"\"\"\n",
    "        self.pipeline = None\n",
    "        self.X = X\n",
    "        self.y = y\n",
    "        # for MLFlow\n",
    "        self.experiment_name = EXPERIMENT_NAME\n",
    "\n",
    "    def set_experiment_name(self, experiment_name):\n",
    "        '''defines the experiment name for MLFlow'''\n",
    "        self.experiment_name = experiment_name\n",
    "\n",
    "    def set_pipeline(self):\n",
    "        \"\"\"defines the pipeline as a class attribute\"\"\"\n",
    "        preproc_pipe = Pipeline([\n",
    "            ('knnimputer', KNNImputer(missing_values= np.nan)),\n",
    "            ('robustscaler', RobustScaler())\n",
    "        ])\n",
    "        self.pipeline = Pipeline([\n",
    "            ('preproc', preproc_pipe),\n",
    "            ('KNN_model', SGDRegressor())\n",
    "        ])\n",
    "\n",
    "    def run(self):\n",
    "        self.set_pipeline()\n",
    "        self.mlflow_log_param(\"model\", \"SGD\")\n",
    "        self.pipeline.fit(self.X, self.y)\n",
    "\n",
    "    def evaluate(self, X_test, y_test):\n",
    "        \"\"\"evaluates the pipeline on df_test and return the r2 score\"\"\"\n",
    "        y_pred = self.pipeline.predict(X_test)\n",
    "        r_score = r2_score(y_test, y_pred)\n",
    "        mean_abs_error = mean_absolute_error(y_test, y_pred)\n",
    "        mean_squ_error = mean_squared_error(y_test, y_pred)\n",
    "        self.mlflow_log_metric(\"mean_abs_error\", mean_abs_error)\n",
    "        metrics_df = pd.DataFrame(data = [mean_abs_error, mean_squ_error, r_score])\n",
    "        return metrics_df\n",
    "\n",
    "    def save_model_locally(self):\n",
    "        \"\"\"Save the model into a .joblib format\"\"\"\n",
    "        joblib.dump(self.pipeline, 'model_sgd.joblib')\n",
    "        print(colored(\"model_sgd.joblib saved locally\", \"green\"))\n",
    "\n",
    "    # MLFlow methods\n",
    "    @memoized_property\n",
    "    def mlflow_client(self):\n",
    "        mlflow.set_tracking_uri(MLFLOW_URI)\n",
    "        return MlflowClient()\n",
    "\n",
    "    @memoized_property\n",
    "    def mlflow_experiment_id(self):\n",
    "        try:\n",
    "            return self.mlflow_client.create_experiment(self.experiment_name)\n",
    "        except BaseException:\n",
    "            return self.mlflow_client.get_experiment_by_name(\n",
    "                self.experiment_name).experiment_id\n",
    "\n",
    "    @memoized_property\n",
    "    def mlflow_run(self):\n",
    "        return self.mlflow_client.create_run(self.mlflow_experiment_id)\n",
    "\n",
    "    def mlflow_log_param(self, key, value):\n",
    "        self.mlflow_client.log_param(self.mlflow_run.info.run_id, key, value)\n",
    "\n",
    "    def mlflow_log_metric(self, key, value):\n",
    "        self.mlflow_client.log_metric(self.mlflow_run.info.run_id, key, value)"
   ]
  },
  {
   "cell_type": "code",
   "execution_count": 18,
   "id": "c6e5fb33",
   "metadata": {},
   "outputs": [
    {
     "name": "stdout",
     "output_type": "stream",
     "text": [
      "           0\n",
      "0   7.947480\n",
      "1  91.630146\n",
      "2   0.681859\n",
      "\u001b[32mmodel.joblib saved locally\u001b[0m\n"
     ]
    }
   ],
   "source": [
    "#SGD\n",
    "X_train, X_test, y_train, y_test = train_test_split(X, y, test_size=0.3)\n",
    "# Train and save model, locally and\n",
    "trainer_sgd = Trainer(X=X_train, y=y_train)\n",
    "trainer_sgd.set_experiment_name('SGD')\n",
    "trainer_sgd.run()\n",
    "sgd_reg = trainer_knn.evaluate(X_test, y_test)\n",
    "print(sgd_reg)\n",
    "trainer_sgd.save_model_locally()"
   ]
  },
  {
   "cell_type": "code",
   "execution_count": 73,
   "id": "7ee9dcb2",
   "metadata": {},
   "outputs": [
    {
     "ename": "AttributeError",
     "evalue": "'Trainer' object has no attribute 'summary'",
     "output_type": "error",
     "traceback": [
      "\u001b[0;31m---------------------------------------------------------------------------\u001b[0m",
      "\u001b[0;31mAttributeError\u001b[0m                            Traceback (most recent call last)",
      "Input \u001b[0;32mIn [73]\u001b[0m, in \u001b[0;36m<cell line: 1>\u001b[0;34m()\u001b[0m\n\u001b[0;32m----> 1\u001b[0m \u001b[43mtrainer_knn\u001b[49m\u001b[38;5;241;43m.\u001b[39;49m\u001b[43msummary\u001b[49m\n",
      "\u001b[0;31mAttributeError\u001b[0m: 'Trainer' object has no attribute 'summary'"
     ]
    }
   ],
   "source": [
    "trainer_knn.summary"
   ]
  },
  {
   "cell_type": "code",
   "execution_count": 38,
   "id": "68bfc60a",
   "metadata": {
    "collapsed": true
   },
   "outputs": [
    {
     "ename": "ValueError",
     "evalue": "The truth value of a DataFrame is ambiguous. Use a.empty, a.bool(), a.item(), a.any() or a.all().",
     "output_type": "error",
     "traceback": [
      "\u001b[0;31m---------------------------------------------------------------------------\u001b[0m",
      "\u001b[0;31mValueError\u001b[0m                                Traceback (most recent call last)",
      "Input \u001b[0;32mIn [38]\u001b[0m, in \u001b[0;36m<cell line: 1>\u001b[0;34m()\u001b[0m\n\u001b[0;32m----> 1\u001b[0m metrics_df \u001b[38;5;241m=\u001b[39m \u001b[43mlinear\u001b[49m\u001b[38;5;241;43m.\u001b[39;49m\u001b[43mmerge\u001b[49m\u001b[43m(\u001b[49m\u001b[43mknn_reg\u001b[49m\u001b[43m)\u001b[49m\n\u001b[1;32m      2\u001b[0m metrics_df\n",
      "File \u001b[0;32m~/.pyenv/versions/3.8.12/envs/school-map-project/lib/python3.8/site-packages/pandas/core/frame.py:9351\u001b[0m, in \u001b[0;36mDataFrame.merge\u001b[0;34m(self, right, how, on, left_on, right_on, left_index, right_index, sort, suffixes, copy, indicator, validate)\u001b[0m\n\u001b[1;32m   9332\u001b[0m \u001b[38;5;129m@Substitution\u001b[39m(\u001b[38;5;124m\"\u001b[39m\u001b[38;5;124m\"\u001b[39m)\n\u001b[1;32m   9333\u001b[0m \u001b[38;5;129m@Appender\u001b[39m(_merge_doc, indents\u001b[38;5;241m=\u001b[39m\u001b[38;5;241m2\u001b[39m)\n\u001b[1;32m   9334\u001b[0m \u001b[38;5;28;01mdef\u001b[39;00m \u001b[38;5;21mmerge\u001b[39m(\n\u001b[0;32m   (...)\u001b[0m\n\u001b[1;32m   9347\u001b[0m     validate: \u001b[38;5;28mstr\u001b[39m \u001b[38;5;241m|\u001b[39m \u001b[38;5;28;01mNone\u001b[39;00m \u001b[38;5;241m=\u001b[39m \u001b[38;5;28;01mNone\u001b[39;00m,\n\u001b[1;32m   9348\u001b[0m ) \u001b[38;5;241m-\u001b[39m\u001b[38;5;241m>\u001b[39m DataFrame:\n\u001b[1;32m   9349\u001b[0m     \u001b[38;5;28;01mfrom\u001b[39;00m \u001b[38;5;21;01mpandas\u001b[39;00m\u001b[38;5;21;01m.\u001b[39;00m\u001b[38;5;21;01mcore\u001b[39;00m\u001b[38;5;21;01m.\u001b[39;00m\u001b[38;5;21;01mreshape\u001b[39;00m\u001b[38;5;21;01m.\u001b[39;00m\u001b[38;5;21;01mmerge\u001b[39;00m \u001b[38;5;28;01mimport\u001b[39;00m merge\n\u001b[0;32m-> 9351\u001b[0m     \u001b[38;5;28;01mreturn\u001b[39;00m \u001b[43mmerge\u001b[49m\u001b[43m(\u001b[49m\n\u001b[1;32m   9352\u001b[0m \u001b[43m        \u001b[49m\u001b[38;5;28;43mself\u001b[39;49m\u001b[43m,\u001b[49m\n\u001b[1;32m   9353\u001b[0m \u001b[43m        \u001b[49m\u001b[43mright\u001b[49m\u001b[43m,\u001b[49m\n\u001b[1;32m   9354\u001b[0m \u001b[43m        \u001b[49m\u001b[43mhow\u001b[49m\u001b[38;5;241;43m=\u001b[39;49m\u001b[43mhow\u001b[49m\u001b[43m,\u001b[49m\n\u001b[1;32m   9355\u001b[0m \u001b[43m        \u001b[49m\u001b[43mon\u001b[49m\u001b[38;5;241;43m=\u001b[39;49m\u001b[43mon\u001b[49m\u001b[43m,\u001b[49m\n\u001b[1;32m   9356\u001b[0m \u001b[43m        \u001b[49m\u001b[43mleft_on\u001b[49m\u001b[38;5;241;43m=\u001b[39;49m\u001b[43mleft_on\u001b[49m\u001b[43m,\u001b[49m\n\u001b[1;32m   9357\u001b[0m \u001b[43m        \u001b[49m\u001b[43mright_on\u001b[49m\u001b[38;5;241;43m=\u001b[39;49m\u001b[43mright_on\u001b[49m\u001b[43m,\u001b[49m\n\u001b[1;32m   9358\u001b[0m \u001b[43m        \u001b[49m\u001b[43mleft_index\u001b[49m\u001b[38;5;241;43m=\u001b[39;49m\u001b[43mleft_index\u001b[49m\u001b[43m,\u001b[49m\n\u001b[1;32m   9359\u001b[0m \u001b[43m        \u001b[49m\u001b[43mright_index\u001b[49m\u001b[38;5;241;43m=\u001b[39;49m\u001b[43mright_index\u001b[49m\u001b[43m,\u001b[49m\n\u001b[1;32m   9360\u001b[0m \u001b[43m        \u001b[49m\u001b[43msort\u001b[49m\u001b[38;5;241;43m=\u001b[39;49m\u001b[43msort\u001b[49m\u001b[43m,\u001b[49m\n\u001b[1;32m   9361\u001b[0m \u001b[43m        \u001b[49m\u001b[43msuffixes\u001b[49m\u001b[38;5;241;43m=\u001b[39;49m\u001b[43msuffixes\u001b[49m\u001b[43m,\u001b[49m\n\u001b[1;32m   9362\u001b[0m \u001b[43m        \u001b[49m\u001b[43mcopy\u001b[49m\u001b[38;5;241;43m=\u001b[39;49m\u001b[43mcopy\u001b[49m\u001b[43m,\u001b[49m\n\u001b[1;32m   9363\u001b[0m \u001b[43m        \u001b[49m\u001b[43mindicator\u001b[49m\u001b[38;5;241;43m=\u001b[39;49m\u001b[43mindicator\u001b[49m\u001b[43m,\u001b[49m\n\u001b[1;32m   9364\u001b[0m \u001b[43m        \u001b[49m\u001b[43mvalidate\u001b[49m\u001b[38;5;241;43m=\u001b[39;49m\u001b[43mvalidate\u001b[49m\u001b[43m,\u001b[49m\n\u001b[1;32m   9365\u001b[0m \u001b[43m    \u001b[49m\u001b[43m)\u001b[49m\n",
      "File \u001b[0;32m~/.pyenv/versions/3.8.12/envs/school-map-project/lib/python3.8/site-packages/pandas/core/reshape/merge.py:107\u001b[0m, in \u001b[0;36mmerge\u001b[0;34m(left, right, how, on, left_on, right_on, left_index, right_index, sort, suffixes, copy, indicator, validate)\u001b[0m\n\u001b[1;32m     90\u001b[0m \u001b[38;5;129m@Substitution\u001b[39m(\u001b[38;5;124m\"\u001b[39m\u001b[38;5;130;01m\\n\u001b[39;00m\u001b[38;5;124mleft : DataFrame or named Series\u001b[39m\u001b[38;5;124m\"\u001b[39m)\n\u001b[1;32m     91\u001b[0m \u001b[38;5;129m@Appender\u001b[39m(_merge_doc, indents\u001b[38;5;241m=\u001b[39m\u001b[38;5;241m0\u001b[39m)\n\u001b[1;32m     92\u001b[0m \u001b[38;5;28;01mdef\u001b[39;00m \u001b[38;5;21mmerge\u001b[39m(\n\u001b[0;32m   (...)\u001b[0m\n\u001b[1;32m    105\u001b[0m     validate: \u001b[38;5;28mstr\u001b[39m \u001b[38;5;241m|\u001b[39m \u001b[38;5;28;01mNone\u001b[39;00m \u001b[38;5;241m=\u001b[39m \u001b[38;5;28;01mNone\u001b[39;00m,\n\u001b[1;32m    106\u001b[0m ) \u001b[38;5;241m-\u001b[39m\u001b[38;5;241m>\u001b[39m DataFrame:\n\u001b[0;32m--> 107\u001b[0m     op \u001b[38;5;241m=\u001b[39m \u001b[43m_MergeOperation\u001b[49m\u001b[43m(\u001b[49m\n\u001b[1;32m    108\u001b[0m \u001b[43m        \u001b[49m\u001b[43mleft\u001b[49m\u001b[43m,\u001b[49m\n\u001b[1;32m    109\u001b[0m \u001b[43m        \u001b[49m\u001b[43mright\u001b[49m\u001b[43m,\u001b[49m\n\u001b[1;32m    110\u001b[0m \u001b[43m        \u001b[49m\u001b[43mhow\u001b[49m\u001b[38;5;241;43m=\u001b[39;49m\u001b[43mhow\u001b[49m\u001b[43m,\u001b[49m\n\u001b[1;32m    111\u001b[0m \u001b[43m        \u001b[49m\u001b[43mon\u001b[49m\u001b[38;5;241;43m=\u001b[39;49m\u001b[43mon\u001b[49m\u001b[43m,\u001b[49m\n\u001b[1;32m    112\u001b[0m \u001b[43m        \u001b[49m\u001b[43mleft_on\u001b[49m\u001b[38;5;241;43m=\u001b[39;49m\u001b[43mleft_on\u001b[49m\u001b[43m,\u001b[49m\n\u001b[1;32m    113\u001b[0m \u001b[43m        \u001b[49m\u001b[43mright_on\u001b[49m\u001b[38;5;241;43m=\u001b[39;49m\u001b[43mright_on\u001b[49m\u001b[43m,\u001b[49m\n\u001b[1;32m    114\u001b[0m \u001b[43m        \u001b[49m\u001b[43mleft_index\u001b[49m\u001b[38;5;241;43m=\u001b[39;49m\u001b[43mleft_index\u001b[49m\u001b[43m,\u001b[49m\n\u001b[1;32m    115\u001b[0m \u001b[43m        \u001b[49m\u001b[43mright_index\u001b[49m\u001b[38;5;241;43m=\u001b[39;49m\u001b[43mright_index\u001b[49m\u001b[43m,\u001b[49m\n\u001b[1;32m    116\u001b[0m \u001b[43m        \u001b[49m\u001b[43msort\u001b[49m\u001b[38;5;241;43m=\u001b[39;49m\u001b[43msort\u001b[49m\u001b[43m,\u001b[49m\n\u001b[1;32m    117\u001b[0m \u001b[43m        \u001b[49m\u001b[43msuffixes\u001b[49m\u001b[38;5;241;43m=\u001b[39;49m\u001b[43msuffixes\u001b[49m\u001b[43m,\u001b[49m\n\u001b[1;32m    118\u001b[0m \u001b[43m        \u001b[49m\u001b[43mcopy\u001b[49m\u001b[38;5;241;43m=\u001b[39;49m\u001b[43mcopy\u001b[49m\u001b[43m,\u001b[49m\n\u001b[1;32m    119\u001b[0m \u001b[43m        \u001b[49m\u001b[43mindicator\u001b[49m\u001b[38;5;241;43m=\u001b[39;49m\u001b[43mindicator\u001b[49m\u001b[43m,\u001b[49m\n\u001b[1;32m    120\u001b[0m \u001b[43m        \u001b[49m\u001b[43mvalidate\u001b[49m\u001b[38;5;241;43m=\u001b[39;49m\u001b[43mvalidate\u001b[49m\u001b[43m,\u001b[49m\n\u001b[1;32m    121\u001b[0m \u001b[43m    \u001b[49m\u001b[43m)\u001b[49m\n\u001b[1;32m    122\u001b[0m     \u001b[38;5;28;01mreturn\u001b[39;00m op\u001b[38;5;241m.\u001b[39mget_result()\n",
      "File \u001b[0;32m~/.pyenv/versions/3.8.12/envs/school-map-project/lib/python3.8/site-packages/pandas/core/reshape/merge.py:682\u001b[0m, in \u001b[0;36m_MergeOperation.__init__\u001b[0;34m(self, left, right, how, on, left_on, right_on, axis, left_index, right_index, sort, suffixes, copy, indicator, validate)\u001b[0m\n\u001b[1;32m    678\u001b[0m     \u001b[38;5;66;03m# stacklevel chosen to be correct when this is reached via pd.merge\u001b[39;00m\n\u001b[1;32m    679\u001b[0m     \u001b[38;5;66;03m# (and not DataFrame.join)\u001b[39;00m\n\u001b[1;32m    680\u001b[0m     warnings\u001b[38;5;241m.\u001b[39mwarn(msg, \u001b[38;5;167;01mFutureWarning\u001b[39;00m, stacklevel\u001b[38;5;241m=\u001b[39mfind_stack_level())\n\u001b[0;32m--> 682\u001b[0m \u001b[38;5;28;43mself\u001b[39;49m\u001b[38;5;241;43m.\u001b[39;49m\u001b[43m_validate_specification\u001b[49m\u001b[43m(\u001b[49m\u001b[43m)\u001b[49m\n\u001b[1;32m    684\u001b[0m cross_col \u001b[38;5;241m=\u001b[39m \u001b[38;5;28;01mNone\u001b[39;00m\n\u001b[1;32m    685\u001b[0m \u001b[38;5;28;01mif\u001b[39;00m \u001b[38;5;28mself\u001b[39m\u001b[38;5;241m.\u001b[39mhow \u001b[38;5;241m==\u001b[39m \u001b[38;5;124m\"\u001b[39m\u001b[38;5;124mcross\u001b[39m\u001b[38;5;124m\"\u001b[39m:\n",
      "File \u001b[0;32m~/.pyenv/versions/3.8.12/envs/school-map-project/lib/python3.8/site-packages/pandas/core/reshape/merge.py:1351\u001b[0m, in \u001b[0;36m_MergeOperation._validate_specification\u001b[0;34m(self)\u001b[0m\n\u001b[1;32m   1349\u001b[0m left_cols \u001b[38;5;241m=\u001b[39m \u001b[38;5;28mself\u001b[39m\u001b[38;5;241m.\u001b[39mleft\u001b[38;5;241m.\u001b[39mcolumns\n\u001b[1;32m   1350\u001b[0m right_cols \u001b[38;5;241m=\u001b[39m \u001b[38;5;28mself\u001b[39m\u001b[38;5;241m.\u001b[39mright\u001b[38;5;241m.\u001b[39mcolumns\n\u001b[0;32m-> 1351\u001b[0m common_cols \u001b[38;5;241m=\u001b[39m \u001b[43mleft_cols\u001b[49m\u001b[38;5;241;43m.\u001b[39;49m\u001b[43mintersection\u001b[49m\u001b[43m(\u001b[49m\u001b[43mright_cols\u001b[49m\u001b[43m)\u001b[49m\n\u001b[1;32m   1352\u001b[0m \u001b[38;5;28;01mif\u001b[39;00m \u001b[38;5;28mlen\u001b[39m(common_cols) \u001b[38;5;241m==\u001b[39m \u001b[38;5;241m0\u001b[39m:\n\u001b[1;32m   1353\u001b[0m     \u001b[38;5;28;01mraise\u001b[39;00m MergeError(\n\u001b[1;32m   1354\u001b[0m         \u001b[38;5;124m\"\u001b[39m\u001b[38;5;124mNo common columns to perform merge on. \u001b[39m\u001b[38;5;124m\"\u001b[39m\n\u001b[1;32m   1355\u001b[0m         \u001b[38;5;124mf\u001b[39m\u001b[38;5;124m\"\u001b[39m\u001b[38;5;124mMerge options: left_on=\u001b[39m\u001b[38;5;132;01m{\u001b[39;00m\u001b[38;5;28mself\u001b[39m\u001b[38;5;241m.\u001b[39mleft_on\u001b[38;5;132;01m}\u001b[39;00m\u001b[38;5;124m, \u001b[39m\u001b[38;5;124m\"\u001b[39m\n\u001b[0;32m   (...)\u001b[0m\n\u001b[1;32m   1358\u001b[0m         \u001b[38;5;124mf\u001b[39m\u001b[38;5;124m\"\u001b[39m\u001b[38;5;124mright_index=\u001b[39m\u001b[38;5;132;01m{\u001b[39;00m\u001b[38;5;28mself\u001b[39m\u001b[38;5;241m.\u001b[39mright_index\u001b[38;5;132;01m}\u001b[39;00m\u001b[38;5;124m\"\u001b[39m\n\u001b[1;32m   1359\u001b[0m     )\n",
      "File \u001b[0;32m~/.pyenv/versions/3.8.12/envs/school-map-project/lib/python3.8/site-packages/pandas/core/indexes/base.py:3345\u001b[0m, in \u001b[0;36mIndex.intersection\u001b[0;34m(self, other, sort)\u001b[0m\n\u001b[1;32m   3343\u001b[0m     this \u001b[38;5;241m=\u001b[39m \u001b[38;5;28mself\u001b[39m\u001b[38;5;241m.\u001b[39mastype(dtype, copy\u001b[38;5;241m=\u001b[39m\u001b[38;5;28;01mFalse\u001b[39;00m)\n\u001b[1;32m   3344\u001b[0m     other \u001b[38;5;241m=\u001b[39m other\u001b[38;5;241m.\u001b[39mastype(dtype, copy\u001b[38;5;241m=\u001b[39m\u001b[38;5;28;01mFalse\u001b[39;00m)\n\u001b[0;32m-> 3345\u001b[0m     \u001b[38;5;28;01mreturn\u001b[39;00m \u001b[43mthis\u001b[49m\u001b[38;5;241;43m.\u001b[39;49m\u001b[43mintersection\u001b[49m\u001b[43m(\u001b[49m\u001b[43mother\u001b[49m\u001b[43m,\u001b[49m\u001b[43m \u001b[49m\u001b[43msort\u001b[49m\u001b[38;5;241;43m=\u001b[39;49m\u001b[43msort\u001b[49m\u001b[43m)\u001b[49m\n\u001b[1;32m   3347\u001b[0m result \u001b[38;5;241m=\u001b[39m \u001b[38;5;28mself\u001b[39m\u001b[38;5;241m.\u001b[39m_intersection(other, sort\u001b[38;5;241m=\u001b[39msort)\n\u001b[1;32m   3348\u001b[0m \u001b[38;5;28;01mreturn\u001b[39;00m \u001b[38;5;28mself\u001b[39m\u001b[38;5;241m.\u001b[39m_wrap_intersection_result(other, result)\n",
      "File \u001b[0;32m~/.pyenv/versions/3.8.12/envs/school-map-project/lib/python3.8/site-packages/pandas/core/indexes/base.py:3347\u001b[0m, in \u001b[0;36mIndex.intersection\u001b[0;34m(self, other, sort)\u001b[0m\n\u001b[1;32m   3344\u001b[0m     other \u001b[38;5;241m=\u001b[39m other\u001b[38;5;241m.\u001b[39mastype(dtype, copy\u001b[38;5;241m=\u001b[39m\u001b[38;5;28;01mFalse\u001b[39;00m)\n\u001b[1;32m   3345\u001b[0m     \u001b[38;5;28;01mreturn\u001b[39;00m this\u001b[38;5;241m.\u001b[39mintersection(other, sort\u001b[38;5;241m=\u001b[39msort)\n\u001b[0;32m-> 3347\u001b[0m result \u001b[38;5;241m=\u001b[39m \u001b[38;5;28;43mself\u001b[39;49m\u001b[38;5;241;43m.\u001b[39;49m\u001b[43m_intersection\u001b[49m\u001b[43m(\u001b[49m\u001b[43mother\u001b[49m\u001b[43m,\u001b[49m\u001b[43m \u001b[49m\u001b[43msort\u001b[49m\u001b[38;5;241;43m=\u001b[39;49m\u001b[43msort\u001b[49m\u001b[43m)\u001b[49m\n\u001b[1;32m   3348\u001b[0m \u001b[38;5;28;01mreturn\u001b[39;00m \u001b[38;5;28mself\u001b[39m\u001b[38;5;241m.\u001b[39m_wrap_intersection_result(other, result)\n",
      "File \u001b[0;32m~/.pyenv/versions/3.8.12/envs/school-map-project/lib/python3.8/site-packages/pandas/core/indexes/base.py:3354\u001b[0m, in \u001b[0;36mIndex._intersection\u001b[0;34m(self, other, sort)\u001b[0m\n\u001b[1;32m   3350\u001b[0m \u001b[38;5;28;01mdef\u001b[39;00m \u001b[38;5;21m_intersection\u001b[39m(\u001b[38;5;28mself\u001b[39m, other: Index, sort\u001b[38;5;241m=\u001b[39m\u001b[38;5;28;01mFalse\u001b[39;00m):\n\u001b[1;32m   3351\u001b[0m     \u001b[38;5;124;03m\"\"\"\u001b[39;00m\n\u001b[1;32m   3352\u001b[0m \u001b[38;5;124;03m    intersection specialized to the case with matching dtypes.\u001b[39;00m\n\u001b[1;32m   3353\u001b[0m \u001b[38;5;124;03m    \"\"\"\u001b[39;00m\n\u001b[0;32m-> 3354\u001b[0m     \u001b[38;5;28;01mif\u001b[39;00m \u001b[38;5;28;43mself\u001b[39;49m\u001b[38;5;241;43m.\u001b[39;49m\u001b[43mis_monotonic\u001b[49m \u001b[38;5;129;01mand\u001b[39;00m other\u001b[38;5;241m.\u001b[39mis_monotonic \u001b[38;5;129;01mand\u001b[39;00m \u001b[38;5;28mself\u001b[39m\u001b[38;5;241m.\u001b[39m_can_use_libjoin:\n\u001b[1;32m   3355\u001b[0m         \u001b[38;5;28;01mtry\u001b[39;00m:\n\u001b[1;32m   3356\u001b[0m             result \u001b[38;5;241m=\u001b[39m \u001b[38;5;28mself\u001b[39m\u001b[38;5;241m.\u001b[39m_inner_indexer(other)[\u001b[38;5;241m0\u001b[39m]\n",
      "File \u001b[0;32m~/.pyenv/versions/3.8.12/envs/school-map-project/lib/python3.8/site-packages/pandas/core/indexes/base.py:2160\u001b[0m, in \u001b[0;36mIndex.is_monotonic\u001b[0;34m(self)\u001b[0m\n\u001b[1;32m   2154\u001b[0m \u001b[38;5;129m@final\u001b[39m\n\u001b[1;32m   2155\u001b[0m \u001b[38;5;129m@property\u001b[39m\n\u001b[1;32m   2156\u001b[0m \u001b[38;5;28;01mdef\u001b[39;00m \u001b[38;5;21mis_monotonic\u001b[39m(\u001b[38;5;28mself\u001b[39m) \u001b[38;5;241m-\u001b[39m\u001b[38;5;241m>\u001b[39m \u001b[38;5;28mbool\u001b[39m:\n\u001b[1;32m   2157\u001b[0m     \u001b[38;5;124;03m\"\"\"\u001b[39;00m\n\u001b[1;32m   2158\u001b[0m \u001b[38;5;124;03m    Alias for is_monotonic_increasing.\u001b[39;00m\n\u001b[1;32m   2159\u001b[0m \u001b[38;5;124;03m    \"\"\"\u001b[39;00m\n\u001b[0;32m-> 2160\u001b[0m     \u001b[38;5;28;01mreturn\u001b[39;00m \u001b[38;5;28;43mself\u001b[39;49m\u001b[38;5;241;43m.\u001b[39;49m\u001b[43mis_monotonic_increasing\u001b[49m\n",
      "File \u001b[0;32m~/.pyenv/versions/3.8.12/envs/school-map-project/lib/python3.8/site-packages/pandas/core/indexes/base.py:2177\u001b[0m, in \u001b[0;36mIndex.is_monotonic_increasing\u001b[0;34m(self)\u001b[0m\n\u001b[1;32m   2162\u001b[0m \u001b[38;5;129m@property\u001b[39m\n\u001b[1;32m   2163\u001b[0m \u001b[38;5;28;01mdef\u001b[39;00m \u001b[38;5;21mis_monotonic_increasing\u001b[39m(\u001b[38;5;28mself\u001b[39m) \u001b[38;5;241m-\u001b[39m\u001b[38;5;241m>\u001b[39m \u001b[38;5;28mbool\u001b[39m:\n\u001b[1;32m   2164\u001b[0m     \u001b[38;5;124;03m\"\"\"\u001b[39;00m\n\u001b[1;32m   2165\u001b[0m \u001b[38;5;124;03m    Return if the index is monotonic increasing (only equal or\u001b[39;00m\n\u001b[1;32m   2166\u001b[0m \u001b[38;5;124;03m    increasing) values.\u001b[39;00m\n\u001b[0;32m   (...)\u001b[0m\n\u001b[1;32m   2175\u001b[0m \u001b[38;5;124;03m    False\u001b[39;00m\n\u001b[1;32m   2176\u001b[0m \u001b[38;5;124;03m    \"\"\"\u001b[39;00m\n\u001b[0;32m-> 2177\u001b[0m     \u001b[38;5;28;01mreturn\u001b[39;00m \u001b[38;5;28;43mself\u001b[39;49m\u001b[38;5;241;43m.\u001b[39;49m\u001b[43m_engine\u001b[49m\u001b[38;5;241;43m.\u001b[39;49m\u001b[43mis_monotonic_increasing\u001b[49m\n",
      "File \u001b[0;32m~/.pyenv/versions/3.8.12/envs/school-map-project/lib/python3.8/site-packages/pandas/_libs/index.pyx:235\u001b[0m, in \u001b[0;36mpandas._libs.index.IndexEngine.is_monotonic_increasing.__get__\u001b[0;34m()\u001b[0m\n",
      "File \u001b[0;32m~/.pyenv/versions/3.8.12/envs/school-map-project/lib/python3.8/site-packages/pandas/_libs/index.pyx:252\u001b[0m, in \u001b[0;36mpandas._libs.index.IndexEngine._do_monotonic_check\u001b[0;34m()\u001b[0m\n",
      "File \u001b[0;32m~/.pyenv/versions/3.8.12/envs/school-map-project/lib/python3.8/site-packages/pandas/_libs/index.pyx:266\u001b[0m, in \u001b[0;36mpandas._libs.index.IndexEngine._call_monotonic\u001b[0;34m()\u001b[0m\n",
      "File \u001b[0;32m~/.pyenv/versions/3.8.12/envs/school-map-project/lib/python3.8/site-packages/pandas/_libs/algos.pyx:754\u001b[0m, in \u001b[0;36mpandas._libs.algos.is_monotonic\u001b[0;34m()\u001b[0m\n",
      "File \u001b[0;32m~/.pyenv/versions/3.8.12/envs/school-map-project/lib/python3.8/site-packages/pandas/core/generic.py:1527\u001b[0m, in \u001b[0;36mNDFrame.__nonzero__\u001b[0;34m(self)\u001b[0m\n\u001b[1;32m   1525\u001b[0m \u001b[38;5;129m@final\u001b[39m\n\u001b[1;32m   1526\u001b[0m \u001b[38;5;28;01mdef\u001b[39;00m \u001b[38;5;21m__nonzero__\u001b[39m(\u001b[38;5;28mself\u001b[39m):\n\u001b[0;32m-> 1527\u001b[0m     \u001b[38;5;28;01mraise\u001b[39;00m \u001b[38;5;167;01mValueError\u001b[39;00m(\n\u001b[1;32m   1528\u001b[0m         \u001b[38;5;124mf\u001b[39m\u001b[38;5;124m\"\u001b[39m\u001b[38;5;124mThe truth value of a \u001b[39m\u001b[38;5;132;01m{\u001b[39;00m\u001b[38;5;28mtype\u001b[39m(\u001b[38;5;28mself\u001b[39m)\u001b[38;5;241m.\u001b[39m\u001b[38;5;18m__name__\u001b[39m\u001b[38;5;132;01m}\u001b[39;00m\u001b[38;5;124m is ambiguous. \u001b[39m\u001b[38;5;124m\"\u001b[39m\n\u001b[1;32m   1529\u001b[0m         \u001b[38;5;124m\"\u001b[39m\u001b[38;5;124mUse a.empty, a.bool(), a.item(), a.any() or a.all().\u001b[39m\u001b[38;5;124m\"\u001b[39m\n\u001b[1;32m   1530\u001b[0m     )\n",
      "\u001b[0;31mValueError\u001b[0m: The truth value of a DataFrame is ambiguous. Use a.empty, a.bool(), a.item(), a.any() or a.all()."
     ]
    }
   ],
   "source": [
    "metrics_df = linear.merge(knn_reg)\n",
    "metrics_df"
   ]
  },
  {
   "cell_type": "code",
   "execution_count": 51,
   "id": "0dd30359",
   "metadata": {},
   "outputs": [],
   "source": [
    "knn_df = pd.DataFrame(knn_reg)\n",
    "sgd_df = pd.DataFrame(sgd_reg)\n",
    "linear_df = pd.DataFrame(linear)"
   ]
  },
  {
   "cell_type": "code",
   "execution_count": 55,
   "id": "c98e66d9",
   "metadata": {},
   "outputs": [
    {
     "data": {
      "text/html": [
       "<div>\n",
       "<style scoped>\n",
       "    .dataframe tbody tr th:only-of-type {\n",
       "        vertical-align: middle;\n",
       "    }\n",
       "\n",
       "    .dataframe tbody tr th {\n",
       "        vertical-align: top;\n",
       "    }\n",
       "\n",
       "    .dataframe thead th {\n",
       "        text-align: right;\n",
       "    }\n",
       "</style>\n",
       "<table border=\"1\" class=\"dataframe\">\n",
       "  <thead>\n",
       "    <tr style=\"text-align: right;\">\n",
       "      <th></th>\n",
       "      <th>0</th>\n",
       "    </tr>\n",
       "  </thead>\n",
       "  <tbody>\n",
       "    <tr>\n",
       "      <th>0</th>\n",
       "      <td>7.128310</td>\n",
       "    </tr>\n",
       "    <tr>\n",
       "      <th>1</th>\n",
       "      <td>82.027018</td>\n",
       "    </tr>\n",
       "    <tr>\n",
       "      <th>2</th>\n",
       "      <td>0.684207</td>\n",
       "    </tr>\n",
       "  </tbody>\n",
       "</table>\n",
       "</div>"
      ],
      "text/plain": [
       "           0\n",
       "0   7.128310\n",
       "1  82.027018\n",
       "2   0.684207"
      ]
     },
     "execution_count": 55,
     "metadata": {},
     "output_type": "execute_result"
    }
   ],
   "source": [
    "linear"
   ]
  },
  {
   "cell_type": "code",
   "execution_count": 67,
   "id": "6dcb4ca8",
   "metadata": {},
   "outputs": [
    {
     "data": {
      "text/html": [
       "<div>\n",
       "<style scoped>\n",
       "    .dataframe tbody tr th:only-of-type {\n",
       "        vertical-align: middle;\n",
       "    }\n",
       "\n",
       "    .dataframe tbody tr th {\n",
       "        vertical-align: top;\n",
       "    }\n",
       "\n",
       "    .dataframe thead th {\n",
       "        text-align: right;\n",
       "    }\n",
       "</style>\n",
       "<table border=\"1\" class=\"dataframe\">\n",
       "  <thead>\n",
       "    <tr style=\"text-align: right;\">\n",
       "      <th></th>\n",
       "      <th>0</th>\n",
       "      <th>0</th>\n",
       "      <th>0</th>\n",
       "    </tr>\n",
       "  </thead>\n",
       "  <tbody>\n",
       "    <tr>\n",
       "      <th>0</th>\n",
       "      <td>7.128310</td>\n",
       "      <td>7.853060</td>\n",
       "      <td>7.947480</td>\n",
       "    </tr>\n",
       "    <tr>\n",
       "      <th>1</th>\n",
       "      <td>82.027018</td>\n",
       "      <td>95.744934</td>\n",
       "      <td>91.630146</td>\n",
       "    </tr>\n",
       "    <tr>\n",
       "      <th>2</th>\n",
       "      <td>0.684207</td>\n",
       "      <td>0.646386</td>\n",
       "      <td>0.681859</td>\n",
       "    </tr>\n",
       "  </tbody>\n",
       "</table>\n",
       "</div>"
      ],
      "text/plain": [
       "           0          0          0\n",
       "0   7.128310   7.853060   7.947480\n",
       "1  82.027018  95.744934  91.630146\n",
       "2   0.684207   0.646386   0.681859"
      ]
     },
     "execution_count": 67,
     "metadata": {},
     "output_type": "execute_result"
    }
   ],
   "source": [
    "metrics_df = pd.concat([linear, knn_df,sgd_df],axis = 1)\n",
    "metrics_df#.rename(columns = {0:\"linear\", 0: \"KNN1\", 2: \"SGD\" }, inplace=True)"
   ]
  },
  {
   "cell_type": "code",
   "execution_count": 70,
   "id": "d16d5813",
   "metadata": {},
   "outputs": [
    {
     "data": {
      "text/html": [
       "<div>\n",
       "<style scoped>\n",
       "    .dataframe tbody tr th:only-of-type {\n",
       "        vertical-align: middle;\n",
       "    }\n",
       "\n",
       "    .dataframe tbody tr th {\n",
       "        vertical-align: top;\n",
       "    }\n",
       "\n",
       "    .dataframe thead th {\n",
       "        text-align: right;\n",
       "    }\n",
       "</style>\n",
       "<table border=\"1\" class=\"dataframe\">\n",
       "  <thead>\n",
       "    <tr style=\"text-align: right;\">\n",
       "      <th></th>\n",
       "      <th>0</th>\n",
       "      <th>0</th>\n",
       "      <th>0</th>\n",
       "    </tr>\n",
       "  </thead>\n",
       "  <tbody>\n",
       "    <tr>\n",
       "      <th>mean_abs_error</th>\n",
       "      <td>7.128310</td>\n",
       "      <td>7.853060</td>\n",
       "      <td>7.947480</td>\n",
       "    </tr>\n",
       "    <tr>\n",
       "      <th>mean_squ_error</th>\n",
       "      <td>82.027018</td>\n",
       "      <td>95.744934</td>\n",
       "      <td>91.630146</td>\n",
       "    </tr>\n",
       "    <tr>\n",
       "      <th>r2_score</th>\n",
       "      <td>0.684207</td>\n",
       "      <td>0.646386</td>\n",
       "      <td>0.681859</td>\n",
       "    </tr>\n",
       "  </tbody>\n",
       "</table>\n",
       "</div>"
      ],
      "text/plain": [
       "                        0          0          0\n",
       "mean_abs_error   7.128310   7.853060   7.947480\n",
       "mean_squ_error  82.027018  95.744934  91.630146\n",
       "r2_score         0.684207   0.646386   0.681859"
      ]
     },
     "execution_count": 70,
     "metadata": {},
     "output_type": "execute_result"
    }
   ],
   "source": [
    "#metrics_df.rename(columns = [\"linear\", \"KNN\", \"SGD\"], inplace=True)\n",
    "metrics_df.rename(index={0: \"mean_abs_error\", 1: \"mean_squ_error\", 2: \"r2_score\" }, inplace=True)\n",
    "metrics_df"
   ]
  },
  {
   "cell_type": "code",
   "execution_count": 72,
   "id": "512fde0a",
   "metadata": {},
   "outputs": [
    {
     "data": {
      "text/html": [
       "<div>\n",
       "<style scoped>\n",
       "    .dataframe tbody tr th:only-of-type {\n",
       "        vertical-align: middle;\n",
       "    }\n",
       "\n",
       "    .dataframe tbody tr th {\n",
       "        vertical-align: top;\n",
       "    }\n",
       "\n",
       "    .dataframe thead th {\n",
       "        text-align: right;\n",
       "    }\n",
       "</style>\n",
       "<table border=\"1\" class=\"dataframe\">\n",
       "  <thead>\n",
       "    <tr style=\"text-align: right;\">\n",
       "      <th></th>\n",
       "      <th>2</th>\n",
       "      <th>2</th>\n",
       "      <th>2</th>\n",
       "    </tr>\n",
       "  </thead>\n",
       "  <tbody>\n",
       "    <tr>\n",
       "      <th>mean_abs_error</th>\n",
       "      <td>7.128310</td>\n",
       "      <td>7.853060</td>\n",
       "      <td>7.947480</td>\n",
       "    </tr>\n",
       "    <tr>\n",
       "      <th>mean_squ_error</th>\n",
       "      <td>82.027018</td>\n",
       "      <td>95.744934</td>\n",
       "      <td>91.630146</td>\n",
       "    </tr>\n",
       "    <tr>\n",
       "      <th>r2_score</th>\n",
       "      <td>0.684207</td>\n",
       "      <td>0.646386</td>\n",
       "      <td>0.681859</td>\n",
       "    </tr>\n",
       "  </tbody>\n",
       "</table>\n",
       "</div>"
      ],
      "text/plain": [
       "                        2          2          2\n",
       "mean_abs_error   7.128310   7.853060   7.947480\n",
       "mean_squ_error  82.027018  95.744934  91.630146\n",
       "r2_score         0.684207   0.646386   0.681859"
      ]
     },
     "execution_count": 72,
     "metadata": {},
     "output_type": "execute_result"
    }
   ],
   "source": [
    "metrics_df.rename(columns = {0:\"linear\", 0:\"KNN\", 0:\"SGD\"}, inplace=True)\n",
    "metrics_df"
   ]
  },
  {
   "cell_type": "code",
   "execution_count": null,
   "id": "eb4c6937",
   "metadata": {},
   "outputs": [],
   "source": [
    "#metrics_df = metrics_df.T\n",
    "#metrics_df.rename(columns = {0:\"mean_abs_error\", 1: \"mean_squ_error\", 2: \"r2_score\" }, inplace=True)\n",
    "#metrics_df.set_index(\"linear\", inplace=True)\n",
    "metrics_df.rename(columns = {\"mean_abs_error\":linear}, inplace=True)"
   ]
  },
  {
   "cell_type": "code",
   "execution_count": 30,
   "id": "cc98af28",
   "metadata": {},
   "outputs": [
    {
     "name": "stderr",
     "output_type": "stream",
     "text": [
      "/var/folders/n9/s2d67hcd6m30qbm0pf_jfqy00000gn/T/ipykernel_54592/710091197.py:1: FutureWarning: The frame.append method is deprecated and will be removed from pandas in a future version. Use pandas.concat instead.\n",
      "  metrics_df.append(knn_reg.T)\n"
     ]
    },
    {
     "data": {
      "text/html": [
       "<div>\n",
       "<style scoped>\n",
       "    .dataframe tbody tr th:only-of-type {\n",
       "        vertical-align: middle;\n",
       "    }\n",
       "\n",
       "    .dataframe tbody tr th {\n",
       "        vertical-align: top;\n",
       "    }\n",
       "\n",
       "    .dataframe thead th {\n",
       "        text-align: right;\n",
       "    }\n",
       "</style>\n",
       "<table border=\"1\" class=\"dataframe\">\n",
       "  <thead>\n",
       "    <tr style=\"text-align: right;\">\n",
       "      <th></th>\n",
       "      <th>mean_abs_error</th>\n",
       "      <th>mean_squ_error</th>\n",
       "      <th>r2_score</th>\n",
       "      <th>0</th>\n",
       "      <th>1</th>\n",
       "      <th>2</th>\n",
       "    </tr>\n",
       "  </thead>\n",
       "  <tbody>\n",
       "    <tr>\n",
       "      <th>0</th>\n",
       "      <td>7.430035</td>\n",
       "      <td>86.164902</td>\n",
       "      <td>0.681061</td>\n",
       "      <td>NaN</td>\n",
       "      <td>NaN</td>\n",
       "      <td>NaN</td>\n",
       "    </tr>\n",
       "    <tr>\n",
       "      <th>0</th>\n",
       "      <td>NaN</td>\n",
       "      <td>NaN</td>\n",
       "      <td>NaN</td>\n",
       "      <td>7.85306</td>\n",
       "      <td>95.744934</td>\n",
       "      <td>0.646386</td>\n",
       "    </tr>\n",
       "  </tbody>\n",
       "</table>\n",
       "</div>"
      ],
      "text/plain": [
       "   mean_abs_error  mean_squ_error  r2_score        0          1         2\n",
       "0        7.430035       86.164902  0.681061      NaN        NaN       NaN\n",
       "0             NaN             NaN       NaN  7.85306  95.744934  0.646386"
      ]
     },
     "execution_count": 30,
     "metadata": {},
     "output_type": "execute_result"
    }
   ],
   "source": [
    "metrics_df.append(knn_reg.T)"
   ]
  }
 ],
 "metadata": {
  "kernelspec": {
   "display_name": "Python 3 (ipykernel)",
   "language": "python",
   "name": "python3"
  },
  "language_info": {
   "codemirror_mode": {
    "name": "ipython",
    "version": 3
   },
   "file_extension": ".py",
   "mimetype": "text/x-python",
   "name": "python",
   "nbconvert_exporter": "python",
   "pygments_lexer": "ipython3",
   "version": "3.8.12"
  },
  "toc": {
   "base_numbering": 1,
   "nav_menu": {},
   "number_sections": true,
   "sideBar": true,
   "skip_h1_title": false,
   "title_cell": "Table of Contents",
   "title_sidebar": "Contents",
   "toc_cell": false,
   "toc_position": {},
   "toc_section_display": true,
   "toc_window_display": false
  }
 },
 "nbformat": 4,
 "nbformat_minor": 5
}
