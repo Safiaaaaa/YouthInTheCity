{
 "cells": [
  {
   "cell_type": "code",
   "execution_count": 6,
   "id": "46c4187b",
   "metadata": {},
   "outputs": [
    {
     "name": "stderr",
     "output_type": "stream",
     "text": [
      "/Users/Safia/.pyenv/versions/3.8.12/envs/lewagon/lib/python3.8/site-packages/geopandas/_compat.py:112: UserWarning: The Shapely GEOS version (3.10.2-CAPI-1.16.0) is incompatible with the GEOS version PyGEOS was compiled with (3.10.1-CAPI-1.16.0). Conversions between both will be slow.\n",
      "  warnings.warn(\n"
     ]
    }
   ],
   "source": [
    "import pandas as pd\n",
    "import matplotlib.pyplot as plt\n",
    "import seaborn as sns\n",
    "import numpy as np\n",
    "import geopandas as gpd"
   ]
  },
  {
   "cell_type": "code",
   "execution_count": 5,
   "id": "f61fefed",
   "metadata": {},
   "outputs": [],
   "source": [
    "df = pd.read_csv('../data/social_data_pr.csv')"
   ]
  },
  {
   "cell_type": "code",
   "execution_count": 8,
   "id": "c5576986",
   "metadata": {},
   "outputs": [
    {
     "data": {
      "text/plain": [
       "Index(['Unnamed: 0', 'E_E', 'E_EM', 'E_EW', 'E_EU1', 'E_E1U6', 'E_E6U15',\n",
       "       'E_E15U18', 'E_E18U25', 'E_E25U55', 'E_E55U65', 'E_E65U80', 'E_E80U110',\n",
       "       'MH_E', 'MH_EM', 'MH_EW', 'MH_U1', 'MH_1U6', 'MH_6U15', 'MH_15U18',\n",
       "       'MH_18U25', 'MH_25U55', 'MH_55U65', 'MH_65U80', 'MH_80U110',\n",
       "       'angebotsmi', 'aenderung_', 'anteil_lei', 'anteil_soz', 'anteil_sta',\n",
       "       'entwicklun', 'wohndauer', 'wohnungsum', 'wohnungs_1', 'wohnungsve',\n",
       "       'wohnungs_2', 'ant_arbeitslose', 'ant_transfer', 'Kinderarmut',\n",
       "       'geometry'],\n",
       "      dtype='object')"
      ]
     },
     "execution_count": 8,
     "metadata": {},
     "output_type": "execute_result"
    }
   ],
   "source": [
    "df.columns"
   ]
  },
  {
   "cell_type": "code",
   "execution_count": 12,
   "id": "e36fc09f",
   "metadata": {},
   "outputs": [],
   "source": [
    "df['MH_rate'] = df.MH_E / df.E_E"
   ]
  },
  {
   "cell_type": "code",
   "execution_count": 14,
   "id": "0a129887",
   "metadata": {},
   "outputs": [
    {
     "data": {
      "text/plain": [
       "0.3498408646096005"
      ]
     },
     "execution_count": 14,
     "metadata": {},
     "output_type": "execute_result"
    }
   ],
   "source": [
    "df['MH_rate'].mean()"
   ]
  },
  {
   "cell_type": "code",
   "execution_count": null,
   "id": "8bbfb932",
   "metadata": {},
   "outputs": [],
   "source": []
  }
 ],
 "metadata": {
  "kernelspec": {
   "display_name": "Python 3 (ipykernel)",
   "language": "python",
   "name": "python3"
  },
  "language_info": {
   "codemirror_mode": {
    "name": "ipython",
    "version": 3
   },
   "file_extension": ".py",
   "mimetype": "text/x-python",
   "name": "python",
   "nbconvert_exporter": "python",
   "pygments_lexer": "ipython3",
   "version": "3.8.12"
  },
  "toc": {
   "base_numbering": 1,
   "nav_menu": {},
   "number_sections": true,
   "sideBar": true,
   "skip_h1_title": false,
   "title_cell": "Table of Contents",
   "title_sidebar": "Contents",
   "toc_cell": false,
   "toc_position": {},
   "toc_section_display": true,
   "toc_window_display": false
  }
 },
 "nbformat": 4,
 "nbformat_minor": 5
}
