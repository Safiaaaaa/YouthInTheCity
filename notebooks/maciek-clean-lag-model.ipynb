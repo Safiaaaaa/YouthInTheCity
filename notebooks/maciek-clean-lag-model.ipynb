{
 "cells": [
  {
   "cell_type": "code",
   "execution_count": 1,
   "id": "d1a886de",
   "metadata": {
    "scrolled": true
   },
   "outputs": [
    {
     "name": "stderr",
     "output_type": "stream",
     "text": [
      "/home/maciek/.pyenv/versions/3.8.12/envs/school-map-project/lib/python3.8/site-packages/geopandas/_compat.py:112: UserWarning: The Shapely GEOS version (3.10.2-CAPI-1.16.0) is incompatible with the GEOS version PyGEOS was compiled with (3.10.1-CAPI-1.16.0). Conversions between both will be slow.\n",
      "  warnings.warn(\n"
     ]
    }
   ],
   "source": [
    "import spreg\n",
    "from spreg import OLS\n",
    "from spreg import ML_Lag_Regimes\n",
    "import pysal as ps\n",
    "import libpysal\n",
    "import geopandas as gpd\n",
    "import pandas as pd\n",
    "import numpy as np\n",
    "import matplotlib.pyplot as plt\n",
    "import seaborn as sns\n",
    "from sklearn.preprocessing import robust_scale\n",
    "from sklearn.metrics import mean_absolute_error as mae\n",
    "from sklearn.metrics import mean_squared_error as mse"
   ]
  },
  {
   "cell_type": "code",
   "execution_count": 3,
   "id": "8d69d2cb",
   "metadata": {},
   "outputs": [],
   "source": [
    "full = gpd.read_file('../raw_data/full_old/full.shp')"
   ]
  },
  {
   "cell_type": "code",
   "execution_count": 9,
   "id": "a5e5aa4c",
   "metadata": {},
   "outputs": [],
   "source": [
    "regression_df = gpd.read_file('../raw_data/for_models/regression_gdf.shp')"
   ]
  },
  {
   "cell_type": "code",
   "execution_count": 23,
   "id": "e155e842",
   "metadata": {},
   "outputs": [],
   "source": [
    "merged = regression_df.merge(full[['BEZ', 'PLR_ID']], on='PLR_ID', how='left')"
   ]
  },
  {
   "cell_type": "code",
   "execution_count": 26,
   "id": "4be2df0a",
   "metadata": {},
   "outputs": [],
   "source": [
    "merged.to_file('../raw_data/reg_with_bezirk.shp')"
   ]
  },
  {
   "cell_type": "code",
   "execution_count": 3,
   "id": "7574947e",
   "metadata": {},
   "outputs": [
    {
     "ename": "FileNotFoundError",
     "evalue": "[Errno 2] No such file or directory: '../raw_data/reg_with_bezirk.dbf'",
     "output_type": "error",
     "traceback": [
      "\u001b[0;31m---------------------------------------------------------------------------\u001b[0m",
      "\u001b[0;31mFileNotFoundError\u001b[0m                         Traceback (most recent call last)",
      "Input \u001b[0;32mIn [3]\u001b[0m, in \u001b[0;36m<cell line: 1>\u001b[0;34m()\u001b[0m\n\u001b[0;32m----> 1\u001b[0m db \u001b[38;5;241m=\u001b[39m \u001b[43mlibpysal\u001b[49m\u001b[38;5;241;43m.\u001b[39;49m\u001b[43mio\u001b[49m\u001b[38;5;241;43m.\u001b[39;49m\u001b[43mopen\u001b[49m\u001b[43m(\u001b[49m\u001b[38;5;124;43m'\u001b[39;49m\u001b[38;5;124;43m../raw_data/reg_with_bezirk.dbf\u001b[39;49m\u001b[38;5;124;43m'\u001b[39;49m\u001b[43m,\u001b[49m\u001b[38;5;124;43m'\u001b[39;49m\u001b[38;5;124;43mr\u001b[39;49m\u001b[38;5;124;43m'\u001b[39;49m\u001b[43m)\u001b[49m\n\u001b[1;32m      2\u001b[0m df \u001b[38;5;241m=\u001b[39m gpd\u001b[38;5;241m.\u001b[39mread_file(\u001b[38;5;124m'\u001b[39m\u001b[38;5;124m../raw_data/reg_with_bezirk.shp\u001b[39m\u001b[38;5;124m'\u001b[39m)\n",
      "File \u001b[0;32m~/.pyenv/versions/3.8.12/envs/school-map-project/lib/python3.8/site-packages/libpysal/io/iohandlers/pyDbfIO.py:58\u001b[0m, in \u001b[0;36mDBF.__init__\u001b[0;34m(self, *args, **kwargs)\u001b[0m\n\u001b[1;32m     55\u001b[0m tables\u001b[38;5;241m.\u001b[39mDataTable\u001b[38;5;241m.\u001b[39m\u001b[38;5;21m__init__\u001b[39m(\u001b[38;5;28mself\u001b[39m, \u001b[38;5;241m*\u001b[39margs, \u001b[38;5;241m*\u001b[39m\u001b[38;5;241m*\u001b[39mkwargs)\n\u001b[1;32m     57\u001b[0m \u001b[38;5;28;01mif\u001b[39;00m \u001b[38;5;28mself\u001b[39m\u001b[38;5;241m.\u001b[39mmode \u001b[38;5;241m==\u001b[39m \u001b[38;5;124m\"\u001b[39m\u001b[38;5;124mr\u001b[39m\u001b[38;5;124m\"\u001b[39m:\n\u001b[0;32m---> 58\u001b[0m     \u001b[38;5;28mself\u001b[39m\u001b[38;5;241m.\u001b[39mf \u001b[38;5;241m=\u001b[39m f \u001b[38;5;241m=\u001b[39m \u001b[38;5;28;43mopen\u001b[39;49m\u001b[43m(\u001b[49m\u001b[38;5;28;43mself\u001b[39;49m\u001b[38;5;241;43m.\u001b[39;49m\u001b[43mdataPath\u001b[49m\u001b[43m,\u001b[49m\u001b[43m \u001b[49m\u001b[38;5;124;43m\"\u001b[39;49m\u001b[38;5;124;43mrb\u001b[39;49m\u001b[38;5;124;43m\"\u001b[39;49m\u001b[43m)\u001b[49m\n\u001b[1;32m     59\u001b[0m     \u001b[38;5;66;03m# from dbf file standards\u001b[39;00m\n\u001b[1;32m     60\u001b[0m     numrec, lenheader \u001b[38;5;241m=\u001b[39m struct\u001b[38;5;241m.\u001b[39munpack(\u001b[38;5;124m\"\u001b[39m\u001b[38;5;124m<xxxxLH22x\u001b[39m\u001b[38;5;124m\"\u001b[39m, f\u001b[38;5;241m.\u001b[39mread(\u001b[38;5;241m32\u001b[39m))\n",
      "\u001b[0;31mFileNotFoundError\u001b[0m: [Errno 2] No such file or directory: '../raw_data/reg_with_bezirk.dbf'"
     ]
    }
   ],
   "source": [
    "db = libpysal.io.open('../raw_data/reg_with_bezirk.dbf','r')\n",
    "df = gpd.read_file('../raw_data/reg_with_bezirk.shp')"
   ]
  },
  {
   "cell_type": "code",
   "execution_count": null,
   "id": "f8310dcd",
   "metadata": {},
   "outputs": [],
   "source": [
    "columns = [\n",
    "    'public_tra', 'eating', 'community', 'education', 'schools', 'kindergart',\n",
    "    'outdoor_fa', 'outdoor_le', 'night_life', 'ave_rent', 'social_hou',\n",
    "    'public_hou', 'dyn_ew', 'dyn_sales', 'dyn_unempl', 'noise',\n",
    "    'air', 'green', 'bio', 'mig_rate'\n",
    "]\n",
    "regimes = db.by_col(\"label\")"
   ]
  },
  {
   "cell_type": "code",
   "execution_count": null,
   "id": "1d770ba3",
   "metadata": {},
   "outputs": [],
   "source": [
    "y = np.array(db.by_col('child_pov')).T\n",
    "x_names = columns\n",
    "X = np.array([db.by_col(var) for var in x_names]).T"
   ]
  },
  {
   "cell_type": "code",
   "execution_count": null,
   "id": "f107c85e",
   "metadata": {},
   "outputs": [],
   "source": [
    "queen = libpysal.weights.Queen.from_dataframe(merged)"
   ]
  },
  {
   "cell_type": "code",
   "execution_count": null,
   "id": "19b791e4",
   "metadata": {},
   "outputs": [],
   "source": [
    "mllag = ML_Lag_Regimes(y,\n",
    "                       X,\n",
    "                       name_x=columns,\n",
    "                       name_y='child_pov',\n",
    "                       regimes=regimes,\n",
    "                       regime_lag_sep=True,\n",
    "                       w=queen,\n",
    "                       name_regimes=\"label\",\n",
    "                       name_ds='labeled.dbf',\n",
    "                       name_w='Queen')"
   ]
  },
  {
   "cell_type": "code",
   "execution_count": null,
   "id": "d111e4e0",
   "metadata": {
    "scrolled": false
   },
   "outputs": [],
   "source": [
    "print(mllag.summary)"
   ]
  }
 ],
 "metadata": {
  "kernelspec": {
   "display_name": "Python 3 (ipykernel)",
   "language": "python",
   "name": "python3"
  },
  "language_info": {
   "codemirror_mode": {
    "name": "ipython",
    "version": 3
   },
   "file_extension": ".py",
   "mimetype": "text/x-python",
   "name": "python",
   "nbconvert_exporter": "python",
   "pygments_lexer": "ipython3",
   "version": "3.8.12"
  },
  "toc": {
   "base_numbering": 1,
   "nav_menu": {},
   "number_sections": true,
   "sideBar": true,
   "skip_h1_title": false,
   "title_cell": "Table of Contents",
   "title_sidebar": "Contents",
   "toc_cell": false,
   "toc_position": {},
   "toc_section_display": true,
   "toc_window_display": false
  }
 },
 "nbformat": 4,
 "nbformat_minor": 5
}
